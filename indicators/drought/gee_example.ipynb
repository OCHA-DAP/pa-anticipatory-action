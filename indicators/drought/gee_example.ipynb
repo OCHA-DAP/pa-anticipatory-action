{
 "cells": [
  {
   "cell_type": "markdown",
   "metadata": {},
   "source": [
    "This notebook is a very basic exploration of the Google Earth Engine functionality through the Python API. \n",
    "\n",
    "Resources for getting started with Google Earth Engine in Python:\n",
    "- [Installation](https://developers.google.com/earth-engine/guides/python_install)\n",
    "- [Intro to the API](https://developers.google.com/earth-engine/tutorials/community/intro-to-python-api-guiattard)\n",
    "- [geemap tutorials](https://github.com/giswqs/geemap/tree/master/examples)"
   ]
  },
  {
   "cell_type": "code",
   "execution_count": 1,
   "metadata": {},
   "outputs": [],
   "source": [
    "import ee\n",
    "import geemap\n",
    "import geopandas as gpd\n",
    "#ee.Authenticate()\n",
    "#ee.Initialize()\n",
    "#geemap.ee_search()"
   ]
  },
  {
   "cell_type": "code",
   "execution_count": 2,
   "metadata": {},
   "outputs": [],
   "source": [
    "# Initialize the web map\n",
    "Map = geemap.Map(center=(17.93, 7.71), zoom=4)"
   ]
  },
  {
   "cell_type": "code",
   "execution_count": 3,
   "metadata": {},
   "outputs": [],
   "source": [
    "# Load in the shapefile asset\n",
    "# I manually uploaded it to my GEE account.\n",
    "# TODO: Figure out how to programmatically upload assets from the notebook and then access them\n",
    "mwi_adm2 = ee.FeatureCollection('users/hker/mwi_adm2')\n",
    "Map.addLayer(mwi_adm2, {}, \"mwi_adm2\")"
   ]
  },
  {
   "cell_type": "code",
   "execution_count": 4,
   "metadata": {},
   "outputs": [],
   "source": [
    "# Access the daily data from 2010 - 2020 \n",
    "# Clip the data to the Malawi extent\n",
    "chirps = ee.ImageCollection('UCSB-CHG/CHIRPS/DAILY').filter(ee.Filter.date('2010-01-01', '2020-12-31'))\n",
    "chirps = chirps.select('precipitation').filterBounds(mwi_adm2).map(lambda image: image.clip(mwi_adm2))"
   ]
  },
  {
   "cell_type": "code",
   "execution_count": 12,
   "metadata": {},
   "outputs": [],
   "source": [
    "# Create a palette and add the chirps data to the map\n",
    "precipitationVis = {\n",
    "  'min': 1.0,\n",
    "  'max': 17.0,\n",
    "  'palette': ['001137', '0aab1e', 'e7eb05', 'ff4a2d', 'e90000'],\n",
    "}\n",
    "Map.setCenter(17.93, 7.71, 2)\n",
    "Map.addLayer(chirps, precipitationVis, 'Precipitation')"
   ]
  },
  {
   "cell_type": "code",
   "execution_count": 11,
   "metadata": {
    "scrolled": true
   },
   "outputs": [
    {
     "data": {
      "application/vnd.jupyter.widget-view+json": {
       "model_id": "7a33feb211264e549b04c28f002cac50",
       "version_major": 2,
       "version_minor": 0
      },
      "text/plain": [
       "Map(bottom=790.0, center=[7.71, 17.93], controls=(WidgetControl(options=['position', 'transparent_bg'], widget…"
      ]
     },
     "metadata": {},
     "output_type": "display_data"
    }
   ],
   "source": [
    "Map"
   ]
  }
 ],
 "metadata": {
  "kernelspec": {
   "display_name": "bang_floods",
   "language": "python",
   "name": "bang_floods"
  },
  "language_info": {
   "codemirror_mode": {
    "name": "ipython",
    "version": 3
   },
   "file_extension": ".py",
   "mimetype": "text/x-python",
   "name": "python",
   "nbconvert_exporter": "python",
   "pygments_lexer": "ipython3",
   "version": "3.8.5"
  }
 },
 "nbformat": 4,
 "nbformat_minor": 4
}
