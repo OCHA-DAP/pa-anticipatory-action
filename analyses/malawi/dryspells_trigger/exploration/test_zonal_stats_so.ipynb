{
 "cells": [
  {
   "cell_type": "markdown",
   "id": "2927fa0a-2db6-4d7a-9c44-619360225c70",
   "metadata": {},
   "source": [
    "### Comparison methods for computing statistics within a polygon\n",
    "Showing two methods on how statistics (in this case the mean) of all cells of a raster file within a polygon can be computed. \n",
    "\n",
    "One is rasterstats.zonal_stats which seems the status quo but is slow for large files\n",
    "The other being to clip the raster to the polygon and then take the mean\n",
    "\n",
    "This example includes all the data downloading"
   ]
  },
  {
   "cell_type": "markdown",
   "id": "d9c3693b-9c06-40c9-b2bd-6e8acd0800c6",
   "metadata": {},
   "source": [
    "#### Set values and import libraries"
   ]
  },
  {
   "cell_type": "code",
   "execution_count": 1,
   "id": "1e013127-f6e0-4a28-88af-6fe73d2936c3",
   "metadata": {},
   "outputs": [],
   "source": [
    "from rasterstats import zonal_stats\n",
    "import rioxarray\n",
    "import geopandas as gpd\n",
    "import pandas as pd\n",
    "import numpy as np\n",
    "import time\n",
    "from pathlib import Path"
   ]
  },
  {
   "cell_type": "code",
   "execution_count": 14,
   "id": "95e67cb4-e3a3-4adc-9b62-fd1cb7b7c72d",
   "metadata": {},
   "outputs": [],
   "source": [
    "data_dir=\"data\"\n",
    "hdx_url_name=\"malawi-administrative-level-0-3-boundaries\"\n",
    "hdx_dataset_name='mwi_adm_nso_20181016_SHP.zip'\n",
    "hdx_dataset_dir=Path(data_dir) / 'mwi_adm_nso_20181016_SHP'\n",
    "hdx_adm1_filename='mwi_admbnda_adm1_nso_20181016.shp'\n",
    "hdx_adm1_path=hdx_dataset_dir / hdx_adm1_filename\n",
    "chirps_path=Path(data_dir)/\"chirps\"/\"chirps_daily_2020_p25.nc\""
   ]
  },
  {
   "cell_type": "code",
   "execution_count": 8,
   "id": "a668f73e-ce62-4f94-b1c2-dcd1c18f06ca",
   "metadata": {},
   "outputs": [],
   "source": [
    "import shutil\n",
    "import zipfile\n",
    "from urllib.request import urlretrieve\n"
   ]
  },
  {
   "cell_type": "code",
   "execution_count": null,
   "id": "d25bbbd0-8ac8-44be-98db-b3bfd1a93efd",
   "metadata": {},
   "outputs": [],
   "source": [
    "from hdx.hdx_configuration import Configuration \n",
    "from hdx.data.dataset import Dataset\n",
    "Configuration.create(hdx_site='prod', user_agent='A_Quick_Example', hdx_read_only=True)"
   ]
  },
  {
   "cell_type": "markdown",
   "id": "e436d1dd-4df8-43d4-9618-cf2cbf319726",
   "metadata": {},
   "source": [
    "#### Download data"
   ]
  },
  {
   "cell_type": "code",
   "execution_count": 10,
   "id": "c2d05253-c3b2-4bea-afcc-bc63645d3022",
   "metadata": {},
   "outputs": [],
   "source": [
    "def hdx_download_filename(hdx_address,filename,directory):\n",
    "    dataset = Dataset.read_from_hdx(hdx_address)\n",
    "    resources = dataset.get_resources()\n",
    "    for resource in resources:\n",
    "        if resource[\"name\"]==filename:\n",
    "            _, path = resource.download()\n",
    "            shutil.move(path, Path(directory) / filename)"
   ]
  },
  {
   "cell_type": "code",
   "execution_count": 15,
   "id": "84b1005b-5f93-4701-9ad7-8e1beaba70f0",
   "metadata": {},
   "outputs": [],
   "source": [
    "hdx_download_filename(hdx_url_name,hdx_dataset_name,data_dir)"
   ]
  },
  {
   "cell_type": "code",
   "execution_count": 16,
   "id": "a4406099-95d7-4890-8b09-c8dc7bca63ba",
   "metadata": {},
   "outputs": [],
   "source": [
    "with zipfile.ZipFile(Path(data_dir)/hdx_dataset_name,\"r\") as zip_ref:\n",
    "    zip_ref.extractall(hdx_dataset_dir)"
   ]
  },
  {
   "cell_type": "code",
   "execution_count": 17,
   "id": "9e9177f7-df15-4155-932d-012befe88a5c",
   "metadata": {},
   "outputs": [
    {
     "data": {
      "text/plain": [
       "(PosixPath('../../../../Experiments/drought/Data/chirps/chirps_daily_2020_p25.nc'),\n",
       " <http.client.HTTPMessage at 0x136c4f1c0>)"
      ]
     },
     "execution_count": 17,
     "metadata": {},
     "output_type": "execute_result"
    }
   ],
   "source": [
    "#download chirps data\n",
    "urlretrieve(\"https://data.chc.ucsb.edu/products/CHIRPS-2.0/global_daily/netcdf/p25/chirps-v2.0.2020.days_p25.nc\", filename=chirps_path)"
   ]
  },
  {
   "cell_type": "markdown",
   "id": "87d8ce41-845e-451e-a202-db9d7c83662e",
   "metadata": {},
   "source": [
    "#### Example for one date \n",
    "Simplest example, placed on Stack Overflow"
   ]
  },
  {
   "cell_type": "code",
   "execution_count": 18,
   "id": "9eb3a8fc-9e69-48d7-8d76-6fdcd9d675c6",
   "metadata": {},
   "outputs": [],
   "source": [
    "ds=rioxarray.open_rasterio(chirps_path,masked=True)\n",
    "ds=ds.rio.write_crs(\"EPSG:4326\")"
   ]
  },
  {
   "cell_type": "code",
   "execution_count": 19,
   "id": "2799108b-fd23-49e2-a0b4-ec96a20ec2ea",
   "metadata": {},
   "outputs": [],
   "source": [
    "ds_date=ds.sel(time=\"2020-01-01\").squeeze()"
   ]
  },
  {
   "cell_type": "markdown",
   "id": "32c1d8d4-16fc-44c6-a62b-27dac3999b62",
   "metadata": {},
   "source": [
    "##### Compute with raster stats"
   ]
  },
  {
   "cell_type": "code",
   "execution_count": 20,
   "id": "682b6434-8252-42f0-a25a-8394c7d20f2a",
   "metadata": {},
   "outputs": [
    {
     "name": "stdout",
     "output_type": "stream",
     "text": [
      "--- Raster stats ---\n"
     ]
    },
    {
     "data": {
      "text/html": [
       "<div>\n",
       "<style scoped>\n",
       "    .dataframe tbody tr th:only-of-type {\n",
       "        vertical-align: middle;\n",
       "    }\n",
       "\n",
       "    .dataframe tbody tr th {\n",
       "        vertical-align: top;\n",
       "    }\n",
       "\n",
       "    .dataframe thead th {\n",
       "        text-align: right;\n",
       "    }\n",
       "</style>\n",
       "<table border=\"1\" class=\"dataframe\">\n",
       "  <thead>\n",
       "    <tr style=\"text-align: right;\">\n",
       "      <th></th>\n",
       "      <th>ADM1_EN</th>\n",
       "      <th>mean_adm</th>\n",
       "    </tr>\n",
       "  </thead>\n",
       "  <tbody>\n",
       "    <tr>\n",
       "      <th>0</th>\n",
       "      <td>Central</td>\n",
       "      <td>14.624690</td>\n",
       "    </tr>\n",
       "    <tr>\n",
       "      <th>1</th>\n",
       "      <td>Northern</td>\n",
       "      <td>3.950312</td>\n",
       "    </tr>\n",
       "    <tr>\n",
       "      <th>2</th>\n",
       "      <td>Southern</td>\n",
       "      <td>20.649534</td>\n",
       "    </tr>\n",
       "  </tbody>\n",
       "</table>\n",
       "</div>"
      ],
      "text/plain": [
       "    ADM1_EN   mean_adm\n",
       "0   Central  14.624690\n",
       "1  Northern   3.950312\n",
       "2  Southern  20.649534"
      ]
     },
     "metadata": {},
     "output_type": "display_data"
    },
    {
     "name": "stdout",
     "output_type": "stream",
     "text": [
      "--- Raster stats: 15.43 seconds ---\n"
     ]
    }
   ],
   "source": [
    "start_time = time.time()\n",
    "gdf = gpd.read_file(hdx_adm1_path)[[\"ADM1_EN\", \"geometry\"]]\n",
    "gdf[\"mean_adm\"] = pd.DataFrame(\n",
    "            zonal_stats(\n",
    "                vectors=gdf,\n",
    "                raster=ds_date.values,\n",
    "                affine=ds_date.rio.transform(),\n",
    "                nodata=np.nan,\n",
    "                all_touched=False\n",
    "            )\n",
    "        )[\"mean\"]\n",
    "print(\"--- Raster stats ---\")\n",
    "display(gdf[[\"ADM1_EN\",\"mean_adm\"]])\n",
    "print(f\"--- Raster stats: {(time.time() - start_time):.2f} seconds ---\")"
   ]
  },
  {
   "cell_type": "markdown",
   "id": "5f751a18-8fb1-4448-8c06-cf9f9ebc0055",
   "metadata": {},
   "source": [
    "##### Compute with clipping"
   ]
  },
  {
   "cell_type": "code",
   "execution_count": 21,
   "id": "f4bfeac1-1ee3-4e36-b21c-76ad68a61daa",
   "metadata": {},
   "outputs": [
    {
     "name": "stdout",
     "output_type": "stream",
     "text": [
      "--- Rio clip ---\n"
     ]
    },
    {
     "data": {
      "text/html": [
       "<div>\n",
       "<style scoped>\n",
       "    .dataframe tbody tr th:only-of-type {\n",
       "        vertical-align: middle;\n",
       "    }\n",
       "\n",
       "    .dataframe tbody tr th {\n",
       "        vertical-align: top;\n",
       "    }\n",
       "\n",
       "    .dataframe thead th {\n",
       "        text-align: right;\n",
       "    }\n",
       "</style>\n",
       "<table border=\"1\" class=\"dataframe\">\n",
       "  <thead>\n",
       "    <tr style=\"text-align: right;\">\n",
       "      <th></th>\n",
       "      <th>mean_adm</th>\n",
       "    </tr>\n",
       "  </thead>\n",
       "  <tbody>\n",
       "    <tr>\n",
       "      <th>Central</th>\n",
       "      <td>14.624689</td>\n",
       "    </tr>\n",
       "    <tr>\n",
       "      <th>Northern</th>\n",
       "      <td>3.950313</td>\n",
       "    </tr>\n",
       "    <tr>\n",
       "      <th>Southern</th>\n",
       "      <td>20.649534</td>\n",
       "    </tr>\n",
       "  </tbody>\n",
       "</table>\n",
       "</div>"
      ],
      "text/plain": [
       "           mean_adm\n",
       "Central   14.624689\n",
       "Northern   3.950313\n",
       "Southern  20.649534"
      ]
     },
     "metadata": {},
     "output_type": "display_data"
    },
    {
     "name": "stdout",
     "output_type": "stream",
     "text": [
      "--- Rio clip: 0.29 seconds ---\n"
     ]
    }
   ],
   "source": [
    "start_time = time.time()\n",
    "gdf = gpd.read_file(hdx_adm1_path)[[\"ADM1_EN\", \"geometry\"]]\n",
    "df_adm=pd.DataFrame(index=gdf.ADM1_EN.unique())\n",
    "for a in gdf.ADM1_EN.unique():\n",
    "    gdf_adm=gdf[gdf.ADM1_EN==a]\n",
    "\n",
    "    da_clip = ds_date.rio.set_spatial_dims(\n",
    "        x_dim=\"x\", y_dim=\"y\"\n",
    "    ).rio.clip(\n",
    "        gdf_adm[\"geometry\"], all_touched=False\n",
    "    )\n",
    "\n",
    "    grid_mean = da_clip.mean(dim=[\"x\", \"y\"],skipna=True).rename(\"mean_adm\")\n",
    "    df_adm.loc[a,\"mean_adm\"]=grid_mean.values\n",
    "print(\"--- Rio clip ---\")\n",
    "display(df_adm)\n",
    "print(f\"--- Rio clip: {(time.time() - start_time):.2f} seconds ---\")"
   ]
  },
  {
   "cell_type": "markdown",
   "id": "c482ecbb-54c6-4d77-a66c-164554adab06",
   "metadata": {},
   "source": [
    "#### Example for computation across several dates"
   ]
  },
  {
   "cell_type": "code",
   "execution_count": 22,
   "id": "0ed9ca67-09c3-4712-b78e-5b3304e97432",
   "metadata": {},
   "outputs": [],
   "source": [
    "#only select two dates for demonstration\n",
    "ds_sel=ds.sel(time=slice(\"2020-01-01\",\"2020-01-02\"))"
   ]
  },
  {
   "cell_type": "code",
   "execution_count": null,
   "id": "03bb0914-7a80-447b-aecb-46677eb32518",
   "metadata": {},
   "outputs": [],
   "source": [
    "ds_sel"
   ]
  },
  {
   "cell_type": "code",
   "execution_count": 24,
   "id": "f0f91080-a9f4-4929-87d9-6eb5a57bb9de",
   "metadata": {},
   "outputs": [],
   "source": [
    "def compute_zonal_stats_rs(\n",
    "    ds,\n",
    "    adm_path,\n",
    "    time_col=\"time\",\n",
    "    all_touched=False,\n",
    "):\n",
    "    \"\"\"use zonal_stats to compute statistics on level in adm_path for all dates in ds\"\"\"\n",
    "    df_list = []\n",
    "    for t in ds[time_col].values:\n",
    "        gdf = gpd.read_file(adm_path)[[\"ADM1_EN\", \"geometry\"]]\n",
    "        ds_date = ds.sel(time=t)\n",
    "\n",
    "        gdf[\"mean_cell\"] = pd.DataFrame(\n",
    "            zonal_stats(\n",
    "                vectors=gdf,\n",
    "                raster=ds_date.values,\n",
    "                affine=ds_date.rio.transform(),\n",
    "                nodata=np.nan,\n",
    "                all_touched=all_touched\n",
    "            )\n",
    "        )[\"mean\"]\n",
    "\n",
    "        gdf[\"time\"] = pd.to_datetime(t.strftime('%Y-%m-%d'))\n",
    "\n",
    "        df_list.append(gdf)\n",
    "    df_zonal_stats = pd.concat(df_list)\n",
    "    df_zonal_stats = df_zonal_stats.drop(\"geometry\", axis=1)\n",
    "\n",
    "    return df_zonal_stats"
   ]
  },
  {
   "cell_type": "code",
   "execution_count": 25,
   "id": "1cefdf17-2ea4-4f04-8062-070e73818ee8",
   "metadata": {},
   "outputs": [
    {
     "name": "stdout",
     "output_type": "stream",
     "text": [
      "--- Raster stats: 17.36 seconds ---\n"
     ]
    },
    {
     "data": {
      "text/html": [
       "<div>\n",
       "<style scoped>\n",
       "    .dataframe tbody tr th:only-of-type {\n",
       "        vertical-align: middle;\n",
       "    }\n",
       "\n",
       "    .dataframe tbody tr th {\n",
       "        vertical-align: top;\n",
       "    }\n",
       "\n",
       "    .dataframe thead th {\n",
       "        text-align: right;\n",
       "    }\n",
       "</style>\n",
       "<table border=\"1\" class=\"dataframe\">\n",
       "  <thead>\n",
       "    <tr style=\"text-align: right;\">\n",
       "      <th></th>\n",
       "      <th>ADM1_EN</th>\n",
       "      <th>mean_cell</th>\n",
       "      <th>time</th>\n",
       "    </tr>\n",
       "  </thead>\n",
       "  <tbody>\n",
       "    <tr>\n",
       "      <th>0</th>\n",
       "      <td>Central</td>\n",
       "      <td>14.624690</td>\n",
       "      <td>2020-01-01</td>\n",
       "    </tr>\n",
       "    <tr>\n",
       "      <th>1</th>\n",
       "      <td>Northern</td>\n",
       "      <td>3.950312</td>\n",
       "      <td>2020-01-01</td>\n",
       "    </tr>\n",
       "    <tr>\n",
       "      <th>2</th>\n",
       "      <td>Southern</td>\n",
       "      <td>20.649534</td>\n",
       "      <td>2020-01-01</td>\n",
       "    </tr>\n",
       "    <tr>\n",
       "      <th>0</th>\n",
       "      <td>Central</td>\n",
       "      <td>17.869215</td>\n",
       "      <td>2020-01-02</td>\n",
       "    </tr>\n",
       "    <tr>\n",
       "      <th>1</th>\n",
       "      <td>Northern</td>\n",
       "      <td>11.116490</td>\n",
       "      <td>2020-01-02</td>\n",
       "    </tr>\n",
       "    <tr>\n",
       "      <th>2</th>\n",
       "      <td>Southern</td>\n",
       "      <td>18.518767</td>\n",
       "      <td>2020-01-02</td>\n",
       "    </tr>\n",
       "  </tbody>\n",
       "</table>\n",
       "</div>"
      ],
      "text/plain": [
       "    ADM1_EN  mean_cell       time\n",
       "0   Central  14.624690 2020-01-01\n",
       "1  Northern   3.950312 2020-01-01\n",
       "2  Southern  20.649534 2020-01-01\n",
       "0   Central  17.869215 2020-01-02\n",
       "1  Northern  11.116490 2020-01-02\n",
       "2  Southern  18.518767 2020-01-02"
      ]
     },
     "execution_count": 25,
     "metadata": {},
     "output_type": "execute_result"
    }
   ],
   "source": [
    "start_time = time.time()\n",
    "df_stats_rs=compute_zonal_stats_rs(ds_sel,hdx_adm1_path)\n",
    "print(f\"--- Raster stats: {(time.time() - start_time):.2f} seconds ---\")\n",
    "df_stats_rs"
   ]
  },
  {
   "cell_type": "code",
   "execution_count": 26,
   "id": "038586a0-561c-4992-8b20-e038f224377b",
   "metadata": {},
   "outputs": [],
   "source": [
    "def compute_zonal_stats_clip(\n",
    "    da, \n",
    "    adm_path, \n",
    "    lon_coord=\"x\",\n",
    "    lat_coord=\"y\",\n",
    "    all_touched=False,\n",
    "):\n",
    "    \"\"\"use rio.clip to compute statistics on level in adm_path for all dates in ds\"\"\"\n",
    "    df_list=[]\n",
    "    gdf = gpd.read_file(adm_path)[[\"ADM1_EN\", \"geometry\"]]\n",
    "    for a in gdf.ADM1_EN.unique():\n",
    "        gdf_adm=gdf[gdf.ADM1_EN==a]\n",
    "    \n",
    "        da_clip = da.rio.set_spatial_dims(\n",
    "            x_dim=lon_coord, y_dim=lat_coord\n",
    "        ).rio.clip(\n",
    "            gdf_adm[\"geometry\"], all_touched=all_touched\n",
    "        )\n",
    "\n",
    "        grid_mean = da_clip.mean(dim=[lon_coord, lat_coord],skipna=True).rename(\"mean_adm\")\n",
    "        df_adm=grid_mean.to_dataframe().reset_index().drop(\"spatial_ref\",axis=1)\n",
    "        df_adm[\"ADM1_EN\"]=a\n",
    "        df_list.append(df_adm)\n",
    "\n",
    "    df_zonal_stats = pd.concat(df_list)\n",
    "    df_zonal_stats.time=pd.to_datetime(df_zonal_stats.time.apply(lambda x: x.strftime('%Y-%m-%d')))\n",
    "    return df_zonal_stats"
   ]
  },
  {
   "cell_type": "code",
   "execution_count": 27,
   "id": "97b3eae9-662b-4d9c-a9ae-df1b600d483f",
   "metadata": {},
   "outputs": [
    {
     "name": "stdout",
     "output_type": "stream",
     "text": [
      "--- Clip and mean: 0.37 seconds ---\n"
     ]
    },
    {
     "data": {
      "text/html": [
       "<div>\n",
       "<style scoped>\n",
       "    .dataframe tbody tr th:only-of-type {\n",
       "        vertical-align: middle;\n",
       "    }\n",
       "\n",
       "    .dataframe tbody tr th {\n",
       "        vertical-align: top;\n",
       "    }\n",
       "\n",
       "    .dataframe thead th {\n",
       "        text-align: right;\n",
       "    }\n",
       "</style>\n",
       "<table border=\"1\" class=\"dataframe\">\n",
       "  <thead>\n",
       "    <tr style=\"text-align: right;\">\n",
       "      <th></th>\n",
       "      <th>time</th>\n",
       "      <th>mean_adm</th>\n",
       "      <th>ADM1_EN</th>\n",
       "    </tr>\n",
       "  </thead>\n",
       "  <tbody>\n",
       "    <tr>\n",
       "      <th>0</th>\n",
       "      <td>2020-01-01</td>\n",
       "      <td>14.624689</td>\n",
       "      <td>Central</td>\n",
       "    </tr>\n",
       "    <tr>\n",
       "      <th>1</th>\n",
       "      <td>2020-01-02</td>\n",
       "      <td>17.869215</td>\n",
       "      <td>Central</td>\n",
       "    </tr>\n",
       "    <tr>\n",
       "      <th>0</th>\n",
       "      <td>2020-01-01</td>\n",
       "      <td>3.950313</td>\n",
       "      <td>Northern</td>\n",
       "    </tr>\n",
       "    <tr>\n",
       "      <th>1</th>\n",
       "      <td>2020-01-02</td>\n",
       "      <td>11.116489</td>\n",
       "      <td>Northern</td>\n",
       "    </tr>\n",
       "    <tr>\n",
       "      <th>0</th>\n",
       "      <td>2020-01-01</td>\n",
       "      <td>20.649534</td>\n",
       "      <td>Southern</td>\n",
       "    </tr>\n",
       "    <tr>\n",
       "      <th>1</th>\n",
       "      <td>2020-01-02</td>\n",
       "      <td>18.518766</td>\n",
       "      <td>Southern</td>\n",
       "    </tr>\n",
       "  </tbody>\n",
       "</table>\n",
       "</div>"
      ],
      "text/plain": [
       "        time   mean_adm   ADM1_EN\n",
       "0 2020-01-01  14.624689   Central\n",
       "1 2020-01-02  17.869215   Central\n",
       "0 2020-01-01   3.950313  Northern\n",
       "1 2020-01-02  11.116489  Northern\n",
       "0 2020-01-01  20.649534  Southern\n",
       "1 2020-01-02  18.518766  Southern"
      ]
     },
     "execution_count": 27,
     "metadata": {},
     "output_type": "execute_result"
    }
   ],
   "source": [
    "start_time = time.time()\n",
    "df_stats_clip=compute_zonal_stats_clip(ds_sel.rio.write_crs(\"EPSG:4326\"),hdx_adm1_path)\n",
    "print(f\"--- Clip and mean: {(time.time() - start_time):.2f} seconds ---\")\n",
    "df_stats_clip"
   ]
  }
 ],
 "metadata": {
  "jupytext": {
   "cell_metadata_filter": "-all",
   "formats": "ipynb,md",
   "notebook_metadata_filter": "-all"
  },
  "kernelspec": {
   "display_name": "antact",
   "language": "python",
   "name": "antact"
  },
  "language_info": {
   "codemirror_mode": {
    "name": "ipython",
    "version": 3
   },
   "file_extension": ".py",
   "mimetype": "text/x-python",
   "name": "python",
   "nbconvert_exporter": "python",
   "pygments_lexer": "ipython3",
   "version": "3.8.5"
  }
 },
 "nbformat": 4,
 "nbformat_minor": 5
}
