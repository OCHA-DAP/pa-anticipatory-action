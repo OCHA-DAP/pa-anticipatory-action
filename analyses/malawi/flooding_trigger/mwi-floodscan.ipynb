{
 "cells": [
  {
   "cell_type": "code",
   "execution_count": 1,
   "metadata": {},
   "outputs": [],
   "source": [
    "from datetime import datetime\n",
    "\n",
    "import matplotlib.pyplot as plt\n",
    "import matplotlib as mpl\n",
    "from scipy.stats import norm, pearsonr\n",
    "import numpy as np\n",
    "import pandas as pd\n",
    "import xarray as xr\n",
    "import xskillscore as xs\n",
    "from scipy.interpolate import interp1d\n",
    "import os\n",
    "from pathlib import Path\n",
    "import sys\n",
    "import seaborn as sns\n",
    "\n",
    "import read_in_data as rd\n",
    "from importlib import reload\n",
    "reload(rd)\n",
    "\n",
    "path_mod = f\"{Path(os.path.dirname(os.path.abspath(''))).parents[1]}/\"\n",
    "sys.path.append(path_mod)\n",
    "\n",
    "from src.indicators.flooding.config import Config\n",
    "\n",
    "config = Config()\n",
    "mpl.rcParams['figure.dpi'] = 300\n",
    "\n",
    "GLOFAS_VERSION = 3\n",
    "STATIONS = ['glofas_1', 'glofas_2']\n",
    "ADM2_SEL = ['Chikwawa', 'Nsanje']"
   ]
  },
  {
   "cell_type": "markdown",
   "metadata": {},
   "source": [
    "### Read in GloFAS data"
   ]
  },
  {
   "cell_type": "code",
   "execution_count": null,
   "metadata": {},
   "outputs": [],
   "source": [
    "da_glofas_reanalysis = {}\n",
    "da_glofas_reforecast = {}\n",
    "da_glofas_forecast = {}\n",
    "da_glofas_forecast_summary = {}\n",
    "da_glofas_reforecast_summary = {}\n",
    "\n",
    "for station in STATIONS: \n",
    "    da_glofas_reanalysis[station] = rd.get_glofas_reanalysis(version=GLOFAS_VERSION, station=station)\n",
    "    da_glofas_reforecast[station] = rd.get_glofas_reforecast(version=GLOFAS_VERSION, station=station)\n",
    "    da_glofas_forecast[station] = rd.get_glofas_forecast(version=GLOFAS_VERSION, station=station)\n",
    "    da_glofas_forecast_summary[station] = rd.get_da_glofas_summary(da_glofas_forecast[station])\n",
    "    da_glofas_reforecast_summary[station] = rd.get_da_glofas_summary(da_glofas_reforecast[station])"
   ]
  },
  {
   "cell_type": "markdown",
   "metadata": {},
   "source": [
    "### Explore Floodscan data"
   ]
  },
  {
   "cell_type": "code",
   "execution_count": null,
   "metadata": {},
   "outputs": [],
   "source": [
    "df_floodscan = pd.read_csv(os.path.join(config.DATA_PRIVATE_DIR, 'processed', 'malawi', 'floodscan', 'mwi_floodscan_stats_adm2.csv'))\n",
    "df_floodscan = df_floodscan[df_floodscan['ADM2_EN'].isin(ADM2_SEL)]\n",
    "df_floodscan = df_floodscan[['ADM2_EN','date', 'mean_cell', 'max_cell', 'min_cell']]\n",
    "df_floodscan['date'] = pd.to_datetime(df_floodscan['date'])"
   ]
  },
  {
   "cell_type": "code",
   "execution_count": null,
   "metadata": {},
   "outputs": [],
   "source": [
    "for district in ADM2_SEL:\n",
    "    fig, ax = plt.subplots()\n",
    "    sns.lineplot(data=df_floodscan[df_floodscan['ADM2_EN']==district], x=\"date\", y=\"mean_cell\", lw=0.25)\n",
    "    ax.set_ylabel('Mean flooded fraction')\n",
    "    ax.set_xlabel('Date')\n",
    "    ax.set_title(f'Flooding in {district}, 1998-2020')"
   ]
  },
  {
   "cell_type": "markdown",
   "metadata": {},
   "source": [
    "### Understand relationship between GloFAS (streamflow) and Floodscan (% flooding in adm2)"
   ]
  },
  {
   "cell_type": "code",
   "execution_count": null,
   "metadata": {},
   "outputs": [],
   "source": [
    "da_glofas_reanalysis['glofas_1'].to_dataframe().reset_index()"
   ]
  },
  {
   "cell_type": "code",
   "execution_count": null,
   "metadata": {},
   "outputs": [],
   "source": [
    "df_floodscan[df_floodscan['ADM2_EN']=='Nsanje']"
   ]
  }
 ],
 "metadata": {
  "jupytext": {
   "formats": "ipynb,md",
   "text_representation": {
    "extension": ".md",
    "format_name": "markdown",
    "format_version": "1.3",
    "jupytext_version": "1.11.1"
   }
  },
  "kernelspec": {
   "display_name": "Python [conda env:anact] *",
   "language": "python",
   "name": "conda-env-anact-py"
  },
  "language_info": {
   "codemirror_mode": {
    "name": "ipython",
    "version": 3
   },
   "file_extension": ".py",
   "mimetype": "text/x-python",
   "name": "python",
   "nbconvert_exporter": "python",
   "pygments_lexer": "ipython3",
   "version": "3.8.5"
  }
 },
 "nbformat": 4,
 "nbformat_minor": 4
}
