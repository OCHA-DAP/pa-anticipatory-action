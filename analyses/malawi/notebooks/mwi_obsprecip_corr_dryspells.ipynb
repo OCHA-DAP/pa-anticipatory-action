{
 "cells": [
  {
   "cell_type": "markdown",
   "metadata": {},
   "source": [
    "### The correlation of observed precipitation data with dry spells\n",
    "This notebook explores the correlation between observed precipitation and dry spells. \n",
    "The goal of the analysis is to see if, given perfect forecasting skill, there is information in the forecasted quantities for forecasting dryspells.\n",
    "This notebook focuses on the observation of below average seasonal precipitation. Monthly below average will be added later.\n",
    "For the seasonal precipitation as well as for the dry spells, CHIRPS is used as data source. The occurence of seasonal below average precipitation is computed in `mwi_obsprecip.ipynb`, and the dry spells are computed in `mwi_chirps_dry_spell_detection.R`\n",
    "\n",
    "The first part of this notebook explores the characteristics of the dry spells and seasonal precipitation, and looks at correlations between the sole occurence of a dry spell and below average precipitation in an admin2. The latter part looks at the number of admin2's within the country experiencing below average precipitation/dry spells.\n",
    "\n",
    "\n",
    "Questions\n",
    "- Is the code to aggregate dry spells to seasons correct? \n",
    "- Do you agree with the methodology to aggregate dry spells to seasons or would do it differently?\n",
    "- Is there an analysis I am missing?\n",
    "- Would you say that based on the current analysis it is valid to conclude that there is no signal in below average seasonal rainfall to predict dry spells?"
   ]
  },
  {
   "cell_type": "markdown",
   "metadata": {},
   "source": [
    "### set general variables and functions"
   ]
  },
  {
   "cell_type": "code",
   "execution_count": 1,
   "metadata": {},
   "outputs": [],
   "source": [
    "%load_ext autoreload\n",
    "%autoreload 2"
   ]
  },
  {
   "cell_type": "code",
   "execution_count": 2,
   "metadata": {},
   "outputs": [],
   "source": [
    "import pandas as pd\n",
    "import numpy as np\n",
    "import matplotlib.pyplot as plt\n",
    "import geopandas as gpd\n",
    "from rasterstats import zonal_stats\n",
    "import rasterio\n",
    "from rasterio.enums import Resampling\n",
    "import matplotlib.colors as mcolors\n",
    "import xarray as xr\n",
    "import cftime\n",
    "import math\n",
    "import rioxarray\n",
    "from shapely.geometry import mapping\n",
    "import cartopy.crs as ccrs\n",
    "import matplotlib as mpl\n",
    "import seaborn as sns\n",
    "from mlxtend.evaluate import confusion_matrix\n",
    "from mlxtend.plotting import plot_confusion_matrix"
   ]
  },
  {
   "cell_type": "code",
   "execution_count": 3,
   "metadata": {},
   "outputs": [
    {
     "name": "stdout",
     "output_type": "stream",
     "text": [
      "/Users/tinkavalentijn/Documents/CHD/AAFI/pa-anticipatory-action/\n"
     ]
    }
   ],
   "source": [
    "from pathlib import Path\n",
    "import sys\n",
    "import os\n",
    "\n",
    "path_mod = f\"{Path(os.path.dirname(os.path.abspath(''))).parents[1]}/\"\n",
    "print(path_mod)\n",
    "sys.path.append(path_mod)\n",
    "from src.indicators.drought.config import Config\n",
    "from src.utils_general.utils import download_ftp,download_url\n",
    "from src.utils_general.raster_manipulation import fix_calendar, invert_latlon, change_longitude_range\n",
    "from src.utils_general.plotting import plot_raster_boundaries_clip"
   ]
  },
  {
   "cell_type": "markdown",
   "metadata": {},
   "source": [
    "#### Set config values"
   ]
  },
  {
   "cell_type": "code",
   "execution_count": 4,
   "metadata": {},
   "outputs": [],
   "source": [
    "country=\"malawi\"\n",
    "config=Config()\n",
    "parameters = config.parameters(country)\n",
    "country_dir = os.path.join(config.DIR_PATH, config.ANALYSES_DIR, country)\n",
    "country_data_raw_dir = os.path.join(config.DATA_DIR,config.RAW_DIR,country)\n",
    "country_data_processed_dir = os.path.join(config.DATA_DIR,config.PROCESSED_DIR,country)\n",
    "country_data_exploration_dir = os.path.join(config.DATA_DIR,\"exploration\",country)\n",
    "drought_data_exploration_dir= os.path.join(config.DATA_DIR, \"exploration\",  'drought')\n",
    "cams_data_dir=os.path.join(drought_data_exploration_dir,\"CAMS_OPI\")\n",
    "cams_tercile_path=os.path.join(cams_data_dir,\"CAMS_tercile.nc\")\n",
    "chirps_monthly_dir=os.path.join(drought_data_exploration_dir,\"CHIRPS\")\n",
    "chirps_monthly_path=os.path.join(chirps_monthly_dir,\"chirps_global_monthly.nc\")"
   ]
  },
  {
   "cell_type": "code",
   "execution_count": 5,
   "metadata": {},
   "outputs": [],
   "source": [
    "adm1_bound_path=os.path.join(country_data_raw_dir,config.SHAPEFILE_DIR,parameters[\"path_admin1_shp\"])\n",
    "adm2_bound_path=os.path.join(country_data_raw_dir,config.SHAPEFILE_DIR,parameters[\"path_admin2_shp\"])"
   ]
  },
  {
   "cell_type": "markdown",
   "metadata": {},
   "source": [
    "#### Load dry spell data"
   ]
  },
  {
   "cell_type": "code",
   "execution_count": 6,
   "metadata": {},
   "outputs": [],
   "source": [
    "df_ds=pd.read_csv(os.path.join(country_data_processed_dir,\"dry_spells\",\"dry_spells_during_rainy_season_list_2000_2020_mean.csv\")) \n",
    "df_ds[\"dry_spell_first_date\"]=pd.to_datetime(df_ds[\"dry_spell_first_date\"])\n",
    "df_ds[\"dry_spell_last_date\"]=pd.to_datetime(df_ds[\"dry_spell_last_date\"])\n",
    "df_ds[\"ds_fd_m\"]=df_ds.dry_spell_first_date.dt.to_period(\"M\")"
   ]
  },
  {
   "cell_type": "code",
   "execution_count": 7,
   "metadata": {},
   "outputs": [
    {
     "data": {
      "text/html": [
       "<div>\n",
       "<style scoped>\n",
       "    .dataframe tbody tr th:only-of-type {\n",
       "        vertical-align: middle;\n",
       "    }\n",
       "\n",
       "    .dataframe tbody tr th {\n",
       "        vertical-align: top;\n",
       "    }\n",
       "\n",
       "    .dataframe thead th {\n",
       "        text-align: right;\n",
       "    }\n",
       "</style>\n",
       "<table border=\"1\" class=\"dataframe\">\n",
       "  <thead>\n",
       "    <tr style=\"text-align: right;\">\n",
       "      <th></th>\n",
       "      <th>pcode</th>\n",
       "      <th>ADM2_EN</th>\n",
       "      <th>season_approx</th>\n",
       "      <th>dry_spell_first_date</th>\n",
       "      <th>dry_spell_last_date</th>\n",
       "      <th>dry_spell_duration</th>\n",
       "      <th>dry_spell_rainfall</th>\n",
       "      <th>region</th>\n",
       "      <th>ds_fd_m</th>\n",
       "    </tr>\n",
       "  </thead>\n",
       "  <tbody>\n",
       "    <tr>\n",
       "      <th>0</th>\n",
       "      <td>MW101</td>\n",
       "      <td>Chitipa</td>\n",
       "      <td>2008</td>\n",
       "      <td>2009-04-07</td>\n",
       "      <td>2009-05-03</td>\n",
       "      <td>27</td>\n",
       "      <td>1.8</td>\n",
       "      <td>Northern</td>\n",
       "      <td>2009-04</td>\n",
       "    </tr>\n",
       "    <tr>\n",
       "      <th>1</th>\n",
       "      <td>MW103</td>\n",
       "      <td>Nkhata Bay</td>\n",
       "      <td>2001</td>\n",
       "      <td>2002-04-19</td>\n",
       "      <td>2002-05-19</td>\n",
       "      <td>31</td>\n",
       "      <td>3.4</td>\n",
       "      <td>Northern</td>\n",
       "      <td>2002-04</td>\n",
       "    </tr>\n",
       "    <tr>\n",
       "      <th>2</th>\n",
       "      <td>MW103</td>\n",
       "      <td>Nkhata Bay</td>\n",
       "      <td>2008</td>\n",
       "      <td>2009-04-06</td>\n",
       "      <td>2009-05-03</td>\n",
       "      <td>28</td>\n",
       "      <td>1.7</td>\n",
       "      <td>Northern</td>\n",
       "      <td>2009-04</td>\n",
       "    </tr>\n",
       "    <tr>\n",
       "      <th>3</th>\n",
       "      <td>MW104</td>\n",
       "      <td>Rumphi</td>\n",
       "      <td>2005</td>\n",
       "      <td>2006-04-17</td>\n",
       "      <td>2006-04-30</td>\n",
       "      <td>14</td>\n",
       "      <td>0.1</td>\n",
       "      <td>Northern</td>\n",
       "      <td>2006-04</td>\n",
       "    </tr>\n",
       "    <tr>\n",
       "      <th>4</th>\n",
       "      <td>MW105</td>\n",
       "      <td>Mzimba</td>\n",
       "      <td>2005</td>\n",
       "      <td>2006-04-17</td>\n",
       "      <td>2006-05-15</td>\n",
       "      <td>29</td>\n",
       "      <td>2.0</td>\n",
       "      <td>Northern</td>\n",
       "      <td>2006-04</td>\n",
       "    </tr>\n",
       "    <tr>\n",
       "      <th>...</th>\n",
       "      <td>...</td>\n",
       "      <td>...</td>\n",
       "      <td>...</td>\n",
       "      <td>...</td>\n",
       "      <td>...</td>\n",
       "      <td>...</td>\n",
       "      <td>...</td>\n",
       "      <td>...</td>\n",
       "      <td>...</td>\n",
       "    </tr>\n",
       "    <tr>\n",
       "      <th>127</th>\n",
       "      <td>MW315</td>\n",
       "      <td>Blantyre City</td>\n",
       "      <td>2001</td>\n",
       "      <td>2002-03-24</td>\n",
       "      <td>2002-04-06</td>\n",
       "      <td>14</td>\n",
       "      <td>0.0</td>\n",
       "      <td>Southern</td>\n",
       "      <td>2002-03</td>\n",
       "    </tr>\n",
       "    <tr>\n",
       "      <th>128</th>\n",
       "      <td>MW315</td>\n",
       "      <td>Blantyre City</td>\n",
       "      <td>2007</td>\n",
       "      <td>2008-02-10</td>\n",
       "      <td>2008-02-24</td>\n",
       "      <td>15</td>\n",
       "      <td>0.0</td>\n",
       "      <td>Southern</td>\n",
       "      <td>2008-02</td>\n",
       "    </tr>\n",
       "    <tr>\n",
       "      <th>129</th>\n",
       "      <td>MW315</td>\n",
       "      <td>Blantyre City</td>\n",
       "      <td>2008</td>\n",
       "      <td>2009-04-04</td>\n",
       "      <td>2009-05-03</td>\n",
       "      <td>30</td>\n",
       "      <td>0.0</td>\n",
       "      <td>Southern</td>\n",
       "      <td>2009-04</td>\n",
       "    </tr>\n",
       "    <tr>\n",
       "      <th>130</th>\n",
       "      <td>MW315</td>\n",
       "      <td>Blantyre City</td>\n",
       "      <td>2014</td>\n",
       "      <td>2015-04-01</td>\n",
       "      <td>2015-04-15</td>\n",
       "      <td>15</td>\n",
       "      <td>2.0</td>\n",
       "      <td>Southern</td>\n",
       "      <td>2015-04</td>\n",
       "    </tr>\n",
       "    <tr>\n",
       "      <th>131</th>\n",
       "      <td>MW315</td>\n",
       "      <td>Blantyre City</td>\n",
       "      <td>2019</td>\n",
       "      <td>2020-02-26</td>\n",
       "      <td>2020-03-11</td>\n",
       "      <td>15</td>\n",
       "      <td>0.0</td>\n",
       "      <td>Southern</td>\n",
       "      <td>2020-02</td>\n",
       "    </tr>\n",
       "  </tbody>\n",
       "</table>\n",
       "<p>132 rows × 9 columns</p>\n",
       "</div>"
      ],
      "text/plain": [
       "     pcode        ADM2_EN  season_approx dry_spell_first_date  \\\n",
       "0    MW101        Chitipa           2008           2009-04-07   \n",
       "1    MW103     Nkhata Bay           2001           2002-04-19   \n",
       "2    MW103     Nkhata Bay           2008           2009-04-06   \n",
       "3    MW104         Rumphi           2005           2006-04-17   \n",
       "4    MW105         Mzimba           2005           2006-04-17   \n",
       "..     ...            ...            ...                  ...   \n",
       "127  MW315  Blantyre City           2001           2002-03-24   \n",
       "128  MW315  Blantyre City           2007           2008-02-10   \n",
       "129  MW315  Blantyre City           2008           2009-04-04   \n",
       "130  MW315  Blantyre City           2014           2015-04-01   \n",
       "131  MW315  Blantyre City           2019           2020-02-26   \n",
       "\n",
       "    dry_spell_last_date  dry_spell_duration  dry_spell_rainfall    region  \\\n",
       "0            2009-05-03                  27                 1.8  Northern   \n",
       "1            2002-05-19                  31                 3.4  Northern   \n",
       "2            2009-05-03                  28                 1.7  Northern   \n",
       "3            2006-04-30                  14                 0.1  Northern   \n",
       "4            2006-05-15                  29                 2.0  Northern   \n",
       "..                  ...                 ...                 ...       ...   \n",
       "127          2002-04-06                  14                 0.0  Southern   \n",
       "128          2008-02-24                  15                 0.0  Southern   \n",
       "129          2009-05-03                  30                 0.0  Southern   \n",
       "130          2015-04-15                  15                 2.0  Southern   \n",
       "131          2020-03-11                  15                 0.0  Southern   \n",
       "\n",
       "     ds_fd_m  \n",
       "0    2009-04  \n",
       "1    2002-04  \n",
       "2    2009-04  \n",
       "3    2006-04  \n",
       "4    2006-04  \n",
       "..       ...  \n",
       "127  2002-03  \n",
       "128  2008-02  \n",
       "129  2009-04  \n",
       "130  2015-04  \n",
       "131  2020-02  \n",
       "\n",
       "[132 rows x 9 columns]"
      ]
     },
     "execution_count": 7,
     "metadata": {},
     "output_type": "execute_result"
    }
   ],
   "source": [
    "df_ds"
   ]
  },
  {
   "cell_type": "code",
   "execution_count": 8,
   "metadata": {},
   "outputs": [],
   "source": [
    "#compute if start of dryspell per month-ADM2\n",
    "#for now only want to know if a dry spell occured in a given month, so drop those that have several dry spells confirmed within a month\n",
    "df_ds_drymonth=df_ds.drop_duplicates([\"ADM2_EN\",\"ds_fd_m\"]).groupby([\"ds_fd_m\",\"ADM2_EN\"],as_index=False).agg(\"count\")[[\"ds_fd_m\",\"ADM2_EN\",\"dry_spell_first_date\"]]"
   ]
  },
  {
   "cell_type": "markdown",
   "metadata": {},
   "source": [
    "#### Load historical seasonal below average rainfall\n",
    "And remove seasons outside the rainy season    "
   ]
  },
  {
   "cell_type": "code",
   "execution_count": 9,
   "metadata": {},
   "outputs": [],
   "source": [
    "df_belowavg_seas=pd.read_csv(os.path.join(country_data_processed_dir,\"observed_belowavg_precip\",\"chirps_seasonal_below_average_precipitation.csv\"))\n",
    "#remove day part of date (day doesnt indicate anything with this data and easier for merge)\n",
    "df_belowavg_seas.date_month=pd.to_datetime(df_belowavg_seas.date_month).dt.to_period(\"M\")"
   ]
  },
  {
   "cell_type": "code",
   "execution_count": 58,
   "metadata": {},
   "outputs": [],
   "source": [
    "#path to data start and end rainy season\n",
    "df_rain=pd.read_csv(os.path.join(country_data_processed_dir,\"dry_spells\",\"rainy_seasons_detail_2000_2020_mean.csv\"))\n",
    "df_rain[\"onset_date\"]=pd.to_datetime(df_rain[\"onset_date\"])\n",
    "df_rain[\"cessation_date\"]=pd.to_datetime(df_rain[\"cessation_date\"])"
   ]
  },
  {
   "cell_type": "code",
   "execution_count": 59,
   "metadata": {},
   "outputs": [],
   "source": [
    "#set the onset and cessation date for the seasons where these are missing \n",
    "#(meaning there was no dry spell data from start/till end of the season)\n",
    "df_rain_filled=df_rain.copy()\n",
    "df_rain_filled=df_rain_filled[(df_rain_filled.onset_date.notnull())|(df_rain_filled.cessation_date.notnull())]\n",
    "df_rain_filled[df_rain_filled.onset_date.isnull()]=df_rain_filled[df_rain_filled.onset_date.isnull()].assign(onset_date=lambda df: pd.to_datetime(f\"{df.season_approx.values[0]}-11-01\"))\n",
    "df_rain_filled[df_rain_filled.cessation_date.isnull()]=df_rain_filled[df_rain_filled.cessation_date.isnull()].assign(cessation_date=lambda df: pd.to_datetime(f\"{df.season_approx.values[0]+1}-07-01\"))"
   ]
  },
  {
   "cell_type": "code",
   "execution_count": 60,
   "metadata": {},
   "outputs": [],
   "source": [
    "df_rain_filled[\"onset_month\"]=df_rain_filled[\"onset_date\"].dt.to_period(\"M\")\n",
    "df_rain_filled[\"cessation_month\"]=df_rain_filled[\"cessation_date\"].dt.to_period(\"M\")"
   ]
  },
  {
   "cell_type": "code",
   "execution_count": 61,
   "metadata": {},
   "outputs": [],
   "source": [
    "#remove the adm2-date entries outside the rainy season for that specific adm2\n",
    "#df_belowavg_seas only includes data from 2000, so the 1999 entries are not included\n",
    "list_hist_rain_adm2=[]\n",
    "for a in df_rain_filled.ADM2_EN.unique():\n",
    "    dates_adm2=pd.Index([])\n",
    "    for i in df_rain_filled[df_rain_filled.ADM2_EN==a].season_approx.unique():\n",
    "        df_rain_adm2_seas=df_rain_filled[(df_rain_filled.ADM2_EN==a)&(df_rain_filled.season_approx==i)]\n",
    "        seas_range=pd.period_range(df_rain_adm2_seas.onset_date.values[0],df_rain_adm2_seas.cessation_date.values[0],freq=\"M\")\n",
    "        dates_adm2=dates_adm2.union(seas_range)\n",
    "    list_hist_rain_adm2.append(df_belowavg_seas[(df_belowavg_seas.ADM2_EN==a)&(df_belowavg_seas.date_month.isin(dates_adm2))])\n",
    "df_belowavg_seas_rain=pd.concat(list_hist_rain_adm2)"
   ]
  },
  {
   "cell_type": "markdown",
   "metadata": {},
   "source": [
    "### Merge dry spells with Seasonal below average rainfall\n",
    "**NOTE: we currently only include the season (3-month period) if all months are within the rainy season. E.g. if the rainy season ends in April for an admin2, MAM will not be included for that admin2**"
   ]
  },
  {
   "cell_type": "code",
   "execution_count": 62,
   "metadata": {},
   "outputs": [],
   "source": [
    "#include all dates present in the observed rainfall df but not in the dry spell list, i.e. where no dryspells were observed, by merging outer\n",
    "df_ds_drymonth_rain=df_ds_drymonth.merge(df_belowavg_seas_rain[[\"ADM2_EN\",\"date_month\"]],how=\"outer\",left_on=['ADM2_EN','ds_fd_m'],right_on=[\"ADM2_EN\",\"date_month\"])"
   ]
  },
  {
   "cell_type": "code",
   "execution_count": 63,
   "metadata": {},
   "outputs": [],
   "source": [
    "#dates that are not present in the dry spell list, but are in the observed rainfall df, thus have no dry spells\n",
    "df_ds_drymonth_rain.dry_spell_first_date=df_ds_drymonth_rain.dry_spell_first_date.replace(np.nan,0)"
   ]
  },
  {
   "cell_type": "code",
   "execution_count": 64,
   "metadata": {},
   "outputs": [],
   "source": [
    "#fill the data frame to include all months, also outside the rainy season --> this enables us to take the rolling sum \n",
    "#(else e.g. the rolling sum for Nov might include May-June-Nov)\n",
    "df_ds_drymonth_alldates=df_ds_drymonth_rain.sort_values(\"date_month\").set_index(\"date_month\").groupby('ADM2_EN').resample('M').sum().drop(\"ADM2_EN\",axis=1).reset_index()"
   ]
  },
  {
   "cell_type": "code",
   "execution_count": 65,
   "metadata": {},
   "outputs": [
    {
     "data": {
      "text/plain": [
       "<PeriodArray>\n",
       "['2000-01', '2000-02', '2000-03', '2000-04', '2000-05', '2000-06', '2000-07',\n",
       " '2000-08', '2000-09', '2000-10',\n",
       " ...\n",
       " '2019-06', '2019-07', '2019-08', '2019-09', '2019-10', '2019-11', '2019-12',\n",
       " '2020-01', '2020-02', '2020-03']\n",
       "Length: 243, dtype: period[M]"
      ]
     },
     "execution_count": 65,
     "metadata": {},
     "output_type": "execute_result"
    }
   ],
   "source": [
    "df_ds_drymonth_alldates[df_ds_drymonth_alldates.ADM2_EN==\"Balaka\"].date_month.unique()"
   ]
  },
  {
   "cell_type": "code",
   "execution_count": 66,
   "metadata": {},
   "outputs": [
    {
     "data": {
      "text/plain": [
       "131"
      ]
     },
     "execution_count": 66,
     "metadata": {},
     "output_type": "execute_result"
    }
   ],
   "source": [
    "#number of entries with dry spell\n",
    "len(df_ds_drymonth_alldates[df_ds_drymonth_alldates.dry_spell_first_date==1])"
   ]
  },
  {
   "cell_type": "code",
   "execution_count": 67,
   "metadata": {},
   "outputs": [],
   "source": [
    "#compute the rolling sum of months having a dry spell per admin2\n",
    "s_ds_dryseas=df_ds_drymonth_alldates.sort_values(\"date_month\").set_index(\"date_month\").groupby('ADM2_EN')['dry_spell_first_date'].rolling(3).sum()\n",
    "#convert series to dataframe\n",
    "df_ds_dryseas=pd.DataFrame(s_ds_dryseas).reset_index().sort_values([\"ADM2_EN\",\"date_month\"])\n",
    "df_ds_dryseas.rename(columns={\"dry_spell_first_date\":\"num_dry_spell_seas\"},inplace=True)"
   ]
  },
  {
   "cell_type": "code",
   "execution_count": 68,
   "metadata": {},
   "outputs": [
    {
     "data": {
      "text/plain": [
       "<AxesSubplot:xlabel='num_dry_spell_seas', ylabel='Count'>"
      ]
     },
     "execution_count": 68,
     "metadata": {},
     "output_type": "execute_result"
    },
    {
     "data": {
      "image/png": "[encoded data removed]",
      "text/plain": [
       "<Figure size 432x288 with 1 Axes>"
      ]
     },
     "metadata": {
      "needs_background": "light"
     },
     "output_type": "display_data"
    }
   ],
   "source": [
    "#never occured that two or three consecutive months in same adm2 experienced a dry spell..\n",
    "sns.histplot(df_ds_dryseas,x=\"num_dry_spell_seas\")"
   ]
  },
  {
   "cell_type": "code",
   "execution_count": 69,
   "metadata": {},
   "outputs": [
    {
     "data": {
      "text/html": [
       "<div>\n",
       "<style scoped>\n",
       "    .dataframe tbody tr th:only-of-type {\n",
       "        vertical-align: middle;\n",
       "    }\n",
       "\n",
       "    .dataframe tbody tr th {\n",
       "        vertical-align: top;\n",
       "    }\n",
       "\n",
       "    .dataframe thead th {\n",
       "        text-align: right;\n",
       "    }\n",
       "</style>\n",
       "<table border=\"1\" class=\"dataframe\">\n",
       "  <thead>\n",
       "    <tr style=\"text-align: right;\">\n",
       "      <th></th>\n",
       "      <th>ADM2_EN</th>\n",
       "      <th>date_month</th>\n",
       "      <th>num_dry_spell_seas</th>\n",
       "    </tr>\n",
       "  </thead>\n",
       "  <tbody>\n",
       "    <tr>\n",
       "      <th>0</th>\n",
       "      <td>Balaka</td>\n",
       "      <td>2000-01</td>\n",
       "      <td>NaN</td>\n",
       "    </tr>\n",
       "    <tr>\n",
       "      <th>1</th>\n",
       "      <td>Balaka</td>\n",
       "      <td>2000-02</td>\n",
       "      <td>NaN</td>\n",
       "    </tr>\n",
       "    <tr>\n",
       "      <th>2</th>\n",
       "      <td>Balaka</td>\n",
       "      <td>2000-03</td>\n",
       "      <td>0.0</td>\n",
       "    </tr>\n",
       "    <tr>\n",
       "      <th>3</th>\n",
       "      <td>Balaka</td>\n",
       "      <td>2000-04</td>\n",
       "      <td>0.0</td>\n",
       "    </tr>\n",
       "    <tr>\n",
       "      <th>4</th>\n",
       "      <td>Balaka</td>\n",
       "      <td>2000-05</td>\n",
       "      <td>NaN</td>\n",
       "    </tr>\n",
       "    <tr>\n",
       "      <th>...</th>\n",
       "      <td>...</td>\n",
       "      <td>...</td>\n",
       "      <td>...</td>\n",
       "    </tr>\n",
       "    <tr>\n",
       "      <th>7923</th>\n",
       "      <td>Zomba City</td>\n",
       "      <td>2020-08</td>\n",
       "      <td>NaN</td>\n",
       "    </tr>\n",
       "    <tr>\n",
       "      <th>7924</th>\n",
       "      <td>Zomba City</td>\n",
       "      <td>2020-09</td>\n",
       "      <td>NaN</td>\n",
       "    </tr>\n",
       "    <tr>\n",
       "      <th>7925</th>\n",
       "      <td>Zomba City</td>\n",
       "      <td>2020-10</td>\n",
       "      <td>NaN</td>\n",
       "    </tr>\n",
       "    <tr>\n",
       "      <th>7926</th>\n",
       "      <td>Zomba City</td>\n",
       "      <td>2020-11</td>\n",
       "      <td>NaN</td>\n",
       "    </tr>\n",
       "    <tr>\n",
       "      <th>7927</th>\n",
       "      <td>Zomba City</td>\n",
       "      <td>2020-12</td>\n",
       "      <td>NaN</td>\n",
       "    </tr>\n",
       "  </tbody>\n",
       "</table>\n",
       "<p>7928 rows × 3 columns</p>\n",
       "</div>"
      ],
      "text/plain": [
       "         ADM2_EN date_month  num_dry_spell_seas\n",
       "0         Balaka    2000-01                 NaN\n",
       "1         Balaka    2000-02                 NaN\n",
       "2         Balaka    2000-03                 0.0\n",
       "3         Balaka    2000-04                 0.0\n",
       "4         Balaka    2000-05                 NaN\n",
       "...          ...        ...                 ...\n",
       "7923  Zomba City    2020-08                 NaN\n",
       "7924  Zomba City    2020-09                 NaN\n",
       "7925  Zomba City    2020-10                 NaN\n",
       "7926  Zomba City    2020-11                 NaN\n",
       "7927  Zomba City    2020-12                 NaN\n",
       "\n",
       "[7928 rows x 3 columns]"
      ]
     },
     "execution_count": 69,
     "metadata": {},
     "output_type": "execute_result"
    }
   ],
   "source": [
    "df_ds_dryseas"
   ]
  },
  {
   "cell_type": "code",
   "execution_count": 70,
   "metadata": {},
   "outputs": [],
   "source": [
    "#merge the dry spells with the info if a month had below average rainfall\n",
    "#merge on right such that only the dates within the rainy season are included, df_ds_dryseas also includes all other months\n",
    "df_comb_seas=df_ds_dryseas.merge(df_belowavg_seas_rain,how=\"right\",on=[\"date_month\",\"ADM2_EN\"])"
   ]
  },
  {
   "cell_type": "code",
   "execution_count": 71,
   "metadata": {},
   "outputs": [
    {
     "data": {
      "text/html": [
       "<div>\n",
       "<style scoped>\n",
       "    .dataframe tbody tr th:only-of-type {\n",
       "        vertical-align: middle;\n",
       "    }\n",
       "\n",
       "    .dataframe tbody tr th {\n",
       "        vertical-align: top;\n",
       "    }\n",
       "\n",
       "    .dataframe thead th {\n",
       "        text-align: right;\n",
       "    }\n",
       "</style>\n",
       "<table border=\"1\" class=\"dataframe\">\n",
       "  <thead>\n",
       "    <tr style=\"text-align: right;\">\n",
       "      <th></th>\n",
       "      <th>ADM2_EN</th>\n",
       "      <th>date_month</th>\n",
       "      <th>num_dry_spell_seas</th>\n",
       "      <th>Shape_Leng</th>\n",
       "      <th>Shape_Area</th>\n",
       "      <th>ADM2_PCODE</th>\n",
       "      <th>ADM2_REF</th>\n",
       "      <th>ADM2ALT1EN</th>\n",
       "      <th>ADM2ALT2EN</th>\n",
       "      <th>ADM1_EN</th>\n",
       "      <th>...</th>\n",
       "      <th>validOn</th>\n",
       "      <th>validTo</th>\n",
       "      <th>perc_threshold</th>\n",
       "      <th>perc_threshold_touched</th>\n",
       "      <th>max_cell_touched</th>\n",
       "      <th>max_cell</th>\n",
       "      <th>below_average_touched</th>\n",
       "      <th>below_average_max</th>\n",
       "      <th>date_str</th>\n",
       "      <th>below_average</th>\n",
       "    </tr>\n",
       "  </thead>\n",
       "  <tbody>\n",
       "    <tr>\n",
       "      <th>0</th>\n",
       "      <td>Chitipa</td>\n",
       "      <td>2000-01</td>\n",
       "      <td>NaN</td>\n",
       "      <td>5.039122</td>\n",
       "      <td>0.350477</td>\n",
       "      <td>MW101</td>\n",
       "      <td>NaN</td>\n",
       "      <td>NaN</td>\n",
       "      <td>NaN</td>\n",
       "      <td>Northern</td>\n",
       "      <td>...</td>\n",
       "      <td>2018-10-16</td>\n",
       "      <td>NaN</td>\n",
       "      <td>100.000000</td>\n",
       "      <td>100.000000</td>\n",
       "      <td>386.170864</td>\n",
       "      <td>386.170864</td>\n",
       "      <td>1</td>\n",
       "      <td>1</td>\n",
       "      <td>2000-01</td>\n",
       "      <td>1</td>\n",
       "    </tr>\n",
       "    <tr>\n",
       "      <th>1</th>\n",
       "      <td>Chitipa</td>\n",
       "      <td>2000-02</td>\n",
       "      <td>NaN</td>\n",
       "      <td>5.039122</td>\n",
       "      <td>0.350477</td>\n",
       "      <td>MW101</td>\n",
       "      <td>NaN</td>\n",
       "      <td>NaN</td>\n",
       "      <td>NaN</td>\n",
       "      <td>Northern</td>\n",
       "      <td>...</td>\n",
       "      <td>2018-10-16</td>\n",
       "      <td>NaN</td>\n",
       "      <td>100.000000</td>\n",
       "      <td>100.000000</td>\n",
       "      <td>505.818405</td>\n",
       "      <td>505.818405</td>\n",
       "      <td>1</td>\n",
       "      <td>1</td>\n",
       "      <td>2000-02</td>\n",
       "      <td>1</td>\n",
       "    </tr>\n",
       "    <tr>\n",
       "      <th>2</th>\n",
       "      <td>Chitipa</td>\n",
       "      <td>2000-03</td>\n",
       "      <td>0.0</td>\n",
       "      <td>5.039122</td>\n",
       "      <td>0.350477</td>\n",
       "      <td>MW101</td>\n",
       "      <td>NaN</td>\n",
       "      <td>NaN</td>\n",
       "      <td>NaN</td>\n",
       "      <td>Northern</td>\n",
       "      <td>...</td>\n",
       "      <td>2018-10-16</td>\n",
       "      <td>NaN</td>\n",
       "      <td>100.000000</td>\n",
       "      <td>100.000000</td>\n",
       "      <td>675.228027</td>\n",
       "      <td>665.144302</td>\n",
       "      <td>1</td>\n",
       "      <td>1</td>\n",
       "      <td>2000-03</td>\n",
       "      <td>1</td>\n",
       "    </tr>\n",
       "    <tr>\n",
       "      <th>3</th>\n",
       "      <td>Chitipa</td>\n",
       "      <td>2000-04</td>\n",
       "      <td>0.0</td>\n",
       "      <td>5.039122</td>\n",
       "      <td>0.350477</td>\n",
       "      <td>MW101</td>\n",
       "      <td>NaN</td>\n",
       "      <td>NaN</td>\n",
       "      <td>NaN</td>\n",
       "      <td>Northern</td>\n",
       "      <td>...</td>\n",
       "      <td>2018-10-16</td>\n",
       "      <td>NaN</td>\n",
       "      <td>60.431655</td>\n",
       "      <td>61.306533</td>\n",
       "      <td>756.143036</td>\n",
       "      <td>727.771973</td>\n",
       "      <td>1</td>\n",
       "      <td>1</td>\n",
       "      <td>2000-04</td>\n",
       "      <td>1</td>\n",
       "    </tr>\n",
       "    <tr>\n",
       "      <th>4</th>\n",
       "      <td>Chitipa</td>\n",
       "      <td>2000-11</td>\n",
       "      <td>NaN</td>\n",
       "      <td>5.039122</td>\n",
       "      <td>0.350477</td>\n",
       "      <td>MW101</td>\n",
       "      <td>NaN</td>\n",
       "      <td>NaN</td>\n",
       "      <td>NaN</td>\n",
       "      <td>Northern</td>\n",
       "      <td>...</td>\n",
       "      <td>2018-10-16</td>\n",
       "      <td>NaN</td>\n",
       "      <td>0.000000</td>\n",
       "      <td>0.000000</td>\n",
       "      <td>-999.000000</td>\n",
       "      <td>-999.000000</td>\n",
       "      <td>0</td>\n",
       "      <td>0</td>\n",
       "      <td>2000-11</td>\n",
       "      <td>0</td>\n",
       "    </tr>\n",
       "    <tr>\n",
       "      <th>...</th>\n",
       "      <td>...</td>\n",
       "      <td>...</td>\n",
       "      <td>...</td>\n",
       "      <td>...</td>\n",
       "      <td>...</td>\n",
       "      <td>...</td>\n",
       "      <td>...</td>\n",
       "      <td>...</td>\n",
       "      <td>...</td>\n",
       "      <td>...</td>\n",
       "      <td>...</td>\n",
       "      <td>...</td>\n",
       "      <td>...</td>\n",
       "      <td>...</td>\n",
       "      <td>...</td>\n",
       "      <td>...</td>\n",
       "      <td>...</td>\n",
       "      <td>...</td>\n",
       "      <td>...</td>\n",
       "      <td>...</td>\n",
       "      <td>...</td>\n",
       "    </tr>\n",
       "    <tr>\n",
       "      <th>3431</th>\n",
       "      <td>Blantyre City</td>\n",
       "      <td>2019-12</td>\n",
       "      <td>NaN</td>\n",
       "      <td>0.818570</td>\n",
       "      <td>0.019929</td>\n",
       "      <td>MW315</td>\n",
       "      <td>NaN</td>\n",
       "      <td>NaN</td>\n",
       "      <td>NaN</td>\n",
       "      <td>Southern</td>\n",
       "      <td>...</td>\n",
       "      <td>2018-10-16</td>\n",
       "      <td>NaN</td>\n",
       "      <td>100.000000</td>\n",
       "      <td>100.000000</td>\n",
       "      <td>237.336824</td>\n",
       "      <td>232.649269</td>\n",
       "      <td>1</td>\n",
       "      <td>1</td>\n",
       "      <td>2019-12</td>\n",
       "      <td>1</td>\n",
       "    </tr>\n",
       "    <tr>\n",
       "      <th>3432</th>\n",
       "      <td>Blantyre City</td>\n",
       "      <td>2020-01</td>\n",
       "      <td>0.0</td>\n",
       "      <td>0.818570</td>\n",
       "      <td>0.019929</td>\n",
       "      <td>MW315</td>\n",
       "      <td>NaN</td>\n",
       "      <td>NaN</td>\n",
       "      <td>NaN</td>\n",
       "      <td>Southern</td>\n",
       "      <td>...</td>\n",
       "      <td>2018-10-16</td>\n",
       "      <td>NaN</td>\n",
       "      <td>0.000000</td>\n",
       "      <td>0.000000</td>\n",
       "      <td>-999.000000</td>\n",
       "      <td>-999.000000</td>\n",
       "      <td>0</td>\n",
       "      <td>0</td>\n",
       "      <td>2020-01</td>\n",
       "      <td>0</td>\n",
       "    </tr>\n",
       "    <tr>\n",
       "      <th>3433</th>\n",
       "      <td>Blantyre City</td>\n",
       "      <td>2020-02</td>\n",
       "      <td>1.0</td>\n",
       "      <td>0.818570</td>\n",
       "      <td>0.019929</td>\n",
       "      <td>MW315</td>\n",
       "      <td>NaN</td>\n",
       "      <td>NaN</td>\n",
       "      <td>NaN</td>\n",
       "      <td>Southern</td>\n",
       "      <td>...</td>\n",
       "      <td>2018-10-16</td>\n",
       "      <td>NaN</td>\n",
       "      <td>0.000000</td>\n",
       "      <td>11.764706</td>\n",
       "      <td>563.777794</td>\n",
       "      <td>-999.000000</td>\n",
       "      <td>1</td>\n",
       "      <td>0</td>\n",
       "      <td>2020-02</td>\n",
       "      <td>0</td>\n",
       "    </tr>\n",
       "    <tr>\n",
       "      <th>3434</th>\n",
       "      <td>Blantyre City</td>\n",
       "      <td>2020-03</td>\n",
       "      <td>1.0</td>\n",
       "      <td>0.818570</td>\n",
       "      <td>0.019929</td>\n",
       "      <td>MW315</td>\n",
       "      <td>NaN</td>\n",
       "      <td>NaN</td>\n",
       "      <td>NaN</td>\n",
       "      <td>Southern</td>\n",
       "      <td>...</td>\n",
       "      <td>2018-10-16</td>\n",
       "      <td>NaN</td>\n",
       "      <td>100.000000</td>\n",
       "      <td>100.000000</td>\n",
       "      <td>563.488132</td>\n",
       "      <td>563.488132</td>\n",
       "      <td>1</td>\n",
       "      <td>1</td>\n",
       "      <td>2020-03</td>\n",
       "      <td>1</td>\n",
       "    </tr>\n",
       "    <tr>\n",
       "      <th>3435</th>\n",
       "      <td>Blantyre City</td>\n",
       "      <td>2020-12</td>\n",
       "      <td>NaN</td>\n",
       "      <td>0.818570</td>\n",
       "      <td>0.019929</td>\n",
       "      <td>MW315</td>\n",
       "      <td>NaN</td>\n",
       "      <td>NaN</td>\n",
       "      <td>NaN</td>\n",
       "      <td>Southern</td>\n",
       "      <td>...</td>\n",
       "      <td>2018-10-16</td>\n",
       "      <td>NaN</td>\n",
       "      <td>0.000000</td>\n",
       "      <td>0.000000</td>\n",
       "      <td>-999.000000</td>\n",
       "      <td>-999.000000</td>\n",
       "      <td>0</td>\n",
       "      <td>0</td>\n",
       "      <td>2020-12</td>\n",
       "      <td>0</td>\n",
       "    </tr>\n",
       "  </tbody>\n",
       "</table>\n",
       "<p>3436 rows × 24 columns</p>\n",
       "</div>"
      ],
      "text/plain": [
       "            ADM2_EN date_month  num_dry_spell_seas  Shape_Leng  Shape_Area  \\\n",
       "0           Chitipa    2000-01                 NaN    5.039122    0.350477   \n",
       "1           Chitipa    2000-02                 NaN    5.039122    0.350477   \n",
       "2           Chitipa    2000-03                 0.0    5.039122    0.350477   \n",
       "3           Chitipa    2000-04                 0.0    5.039122    0.350477   \n",
       "4           Chitipa    2000-11                 NaN    5.039122    0.350477   \n",
       "...             ...        ...                 ...         ...         ...   \n",
       "3431  Blantyre City    2019-12                 NaN    0.818570    0.019929   \n",
       "3432  Blantyre City    2020-01                 0.0    0.818570    0.019929   \n",
       "3433  Blantyre City    2020-02                 1.0    0.818570    0.019929   \n",
       "3434  Blantyre City    2020-03                 1.0    0.818570    0.019929   \n",
       "3435  Blantyre City    2020-12                 NaN    0.818570    0.019929   \n",
       "\n",
       "     ADM2_PCODE  ADM2_REF  ADM2ALT1EN  ADM2ALT2EN   ADM1_EN  ...     validOn  \\\n",
       "0         MW101       NaN         NaN         NaN  Northern  ...  2018-10-16   \n",
       "1         MW101       NaN         NaN         NaN  Northern  ...  2018-10-16   \n",
       "2         MW101       NaN         NaN         NaN  Northern  ...  2018-10-16   \n",
       "3         MW101       NaN         NaN         NaN  Northern  ...  2018-10-16   \n",
       "4         MW101       NaN         NaN         NaN  Northern  ...  2018-10-16   \n",
       "...         ...       ...         ...         ...       ...  ...         ...   \n",
       "3431      MW315       NaN         NaN         NaN  Southern  ...  2018-10-16   \n",
       "3432      MW315       NaN         NaN         NaN  Southern  ...  2018-10-16   \n",
       "3433      MW315       NaN         NaN         NaN  Southern  ...  2018-10-16   \n",
       "3434      MW315       NaN         NaN         NaN  Southern  ...  2018-10-16   \n",
       "3435      MW315       NaN         NaN         NaN  Southern  ...  2018-10-16   \n",
       "\n",
       "     validTo perc_threshold perc_threshold_touched max_cell_touched  \\\n",
       "0        NaN     100.000000             100.000000       386.170864   \n",
       "1        NaN     100.000000             100.000000       505.818405   \n",
       "2        NaN     100.000000             100.000000       675.228027   \n",
       "3        NaN      60.431655              61.306533       756.143036   \n",
       "4        NaN       0.000000               0.000000      -999.000000   \n",
       "...      ...            ...                    ...              ...   \n",
       "3431     NaN     100.000000             100.000000       237.336824   \n",
       "3432     NaN       0.000000               0.000000      -999.000000   \n",
       "3433     NaN       0.000000              11.764706       563.777794   \n",
       "3434     NaN     100.000000             100.000000       563.488132   \n",
       "3435     NaN       0.000000               0.000000      -999.000000   \n",
       "\n",
       "        max_cell  below_average_touched  below_average_max  date_str  \\\n",
       "0     386.170864                      1                  1   2000-01   \n",
       "1     505.818405                      1                  1   2000-02   \n",
       "2     665.144302                      1                  1   2000-03   \n",
       "3     727.771973                      1                  1   2000-04   \n",
       "4    -999.000000                      0                  0   2000-11   \n",
       "...          ...                    ...                ...       ...   \n",
       "3431  232.649269                      1                  1   2019-12   \n",
       "3432 -999.000000                      0                  0   2020-01   \n",
       "3433 -999.000000                      1                  0   2020-02   \n",
       "3434  563.488132                      1                  1   2020-03   \n",
       "3435 -999.000000                      0                  0   2020-12   \n",
       "\n",
       "      below_average  \n",
       "0                 1  \n",
       "1                 1  \n",
       "2                 1  \n",
       "3                 1  \n",
       "4                 0  \n",
       "...             ...  \n",
       "3431              1  \n",
       "3432              0  \n",
       "3433              0  \n",
       "3434              1  \n",
       "3435              0  \n",
       "\n",
       "[3436 rows x 24 columns]"
      ]
     },
     "execution_count": 71,
     "metadata": {},
     "output_type": "execute_result"
    }
   ],
   "source": [
    "df_comb_seas"
   ]
  },
  {
   "cell_type": "code",
   "execution_count": 72,
   "metadata": {},
   "outputs": [],
   "source": [
    "#remove dates where dry_spell_confirmation is nan, i.e. where rolling sum could not be computed for (first dates)\n",
    "df_comb_seas=df_comb_seas[df_comb_seas.num_dry_spell_seas.notna()]"
   ]
  },
  {
   "cell_type": "code",
   "execution_count": 73,
   "metadata": {},
   "outputs": [
    {
     "name": "stderr",
     "output_type": "stream",
     "text": [
      "<ipython-input-73-9d6e10e58a0d>:2: SettingWithCopyWarning: \n",
      "A value is trying to be set on a copy of a slice from a DataFrame.\n",
      "Try using .loc[row_indexer,col_indexer] = value instead\n",
      "\n",
      "See the caveats in the documentation: https://pandas.pydata.org/pandas-docs/stable/user_guide/indexing.html#returning-a-view-versus-a-copy\n",
      "  df_comb_seas[\"dry_spell\"]=np.where(df_comb_seas.num_dry_spell_seas>=1,1,0)\n"
     ]
    }
   ],
   "source": [
    "#set the occurence of a dry spell to true if in at least one of the months of the season (=3 months) a dry spell occured\n",
    "df_comb_seas[\"dry_spell\"]=np.where(df_comb_seas.num_dry_spell_seas>=1,1,0)"
   ]
  },
  {
   "cell_type": "code",
   "execution_count": 74,
   "metadata": {},
   "outputs": [
    {
     "data": {
      "text/plain": [
       "181"
      ]
     },
     "execution_count": 74,
     "metadata": {},
     "output_type": "execute_result"
    }
   ],
   "source": [
    "#seasons-adm2s where during at least one of the months a dry spell occured\n",
    "len(df_comb_seas[df_comb_seas.dry_spell==1])"
   ]
  },
  {
   "cell_type": "code",
   "execution_count": 75,
   "metadata": {},
   "outputs": [
    {
     "data": {
      "text/html": [
       "<div>\n",
       "<style scoped>\n",
       "    .dataframe tbody tr th:only-of-type {\n",
       "        vertical-align: middle;\n",
       "    }\n",
       "\n",
       "    .dataframe tbody tr th {\n",
       "        vertical-align: top;\n",
       "    }\n",
       "\n",
       "    .dataframe thead th {\n",
       "        text-align: right;\n",
       "    }\n",
       "</style>\n",
       "<table border=\"1\" class=\"dataframe\">\n",
       "  <thead>\n",
       "    <tr style=\"text-align: right;\">\n",
       "      <th></th>\n",
       "      <th>ADM2_EN</th>\n",
       "      <th>date_month</th>\n",
       "      <th>num_dry_spell_seas</th>\n",
       "      <th>Shape_Leng</th>\n",
       "      <th>Shape_Area</th>\n",
       "      <th>ADM2_PCODE</th>\n",
       "      <th>ADM2_REF</th>\n",
       "      <th>ADM2ALT1EN</th>\n",
       "      <th>ADM2ALT2EN</th>\n",
       "      <th>ADM1_EN</th>\n",
       "      <th>...</th>\n",
       "      <th>validTo</th>\n",
       "      <th>perc_threshold</th>\n",
       "      <th>perc_threshold_touched</th>\n",
       "      <th>max_cell_touched</th>\n",
       "      <th>max_cell</th>\n",
       "      <th>below_average_touched</th>\n",
       "      <th>below_average_max</th>\n",
       "      <th>date_str</th>\n",
       "      <th>below_average</th>\n",
       "      <th>dry_spell</th>\n",
       "    </tr>\n",
       "  </thead>\n",
       "  <tbody>\n",
       "    <tr>\n",
       "      <th>2</th>\n",
       "      <td>Chitipa</td>\n",
       "      <td>2000-03</td>\n",
       "      <td>0.0</td>\n",
       "      <td>5.039122</td>\n",
       "      <td>0.350477</td>\n",
       "      <td>MW101</td>\n",
       "      <td>NaN</td>\n",
       "      <td>NaN</td>\n",
       "      <td>NaN</td>\n",
       "      <td>Northern</td>\n",
       "      <td>...</td>\n",
       "      <td>NaN</td>\n",
       "      <td>100.000000</td>\n",
       "      <td>100.000000</td>\n",
       "      <td>675.228027</td>\n",
       "      <td>665.144302</td>\n",
       "      <td>1</td>\n",
       "      <td>1</td>\n",
       "      <td>2000-03</td>\n",
       "      <td>1</td>\n",
       "      <td>0</td>\n",
       "    </tr>\n",
       "    <tr>\n",
       "      <th>3</th>\n",
       "      <td>Chitipa</td>\n",
       "      <td>2000-04</td>\n",
       "      <td>0.0</td>\n",
       "      <td>5.039122</td>\n",
       "      <td>0.350477</td>\n",
       "      <td>MW101</td>\n",
       "      <td>NaN</td>\n",
       "      <td>NaN</td>\n",
       "      <td>NaN</td>\n",
       "      <td>Northern</td>\n",
       "      <td>...</td>\n",
       "      <td>NaN</td>\n",
       "      <td>60.431655</td>\n",
       "      <td>61.306533</td>\n",
       "      <td>756.143036</td>\n",
       "      <td>727.771973</td>\n",
       "      <td>1</td>\n",
       "      <td>1</td>\n",
       "      <td>2000-04</td>\n",
       "      <td>1</td>\n",
       "      <td>0</td>\n",
       "    </tr>\n",
       "    <tr>\n",
       "      <th>6</th>\n",
       "      <td>Chitipa</td>\n",
       "      <td>2001-01</td>\n",
       "      <td>0.0</td>\n",
       "      <td>5.039122</td>\n",
       "      <td>0.350477</td>\n",
       "      <td>MW101</td>\n",
       "      <td>NaN</td>\n",
       "      <td>NaN</td>\n",
       "      <td>NaN</td>\n",
       "      <td>Northern</td>\n",
       "      <td>...</td>\n",
       "      <td>NaN</td>\n",
       "      <td>0.000000</td>\n",
       "      <td>0.000000</td>\n",
       "      <td>-999.000000</td>\n",
       "      <td>-999.000000</td>\n",
       "      <td>0</td>\n",
       "      <td>0</td>\n",
       "      <td>2001-01</td>\n",
       "      <td>0</td>\n",
       "      <td>0</td>\n",
       "    </tr>\n",
       "    <tr>\n",
       "      <th>7</th>\n",
       "      <td>Chitipa</td>\n",
       "      <td>2001-02</td>\n",
       "      <td>0.0</td>\n",
       "      <td>5.039122</td>\n",
       "      <td>0.350477</td>\n",
       "      <td>MW101</td>\n",
       "      <td>NaN</td>\n",
       "      <td>NaN</td>\n",
       "      <td>NaN</td>\n",
       "      <td>Northern</td>\n",
       "      <td>...</td>\n",
       "      <td>NaN</td>\n",
       "      <td>0.000000</td>\n",
       "      <td>0.000000</td>\n",
       "      <td>-999.000000</td>\n",
       "      <td>-999.000000</td>\n",
       "      <td>0</td>\n",
       "      <td>0</td>\n",
       "      <td>2001-02</td>\n",
       "      <td>0</td>\n",
       "      <td>0</td>\n",
       "    </tr>\n",
       "    <tr>\n",
       "      <th>8</th>\n",
       "      <td>Chitipa</td>\n",
       "      <td>2001-03</td>\n",
       "      <td>0.0</td>\n",
       "      <td>5.039122</td>\n",
       "      <td>0.350477</td>\n",
       "      <td>MW101</td>\n",
       "      <td>NaN</td>\n",
       "      <td>NaN</td>\n",
       "      <td>NaN</td>\n",
       "      <td>Northern</td>\n",
       "      <td>...</td>\n",
       "      <td>NaN</td>\n",
       "      <td>51.798561</td>\n",
       "      <td>49.748744</td>\n",
       "      <td>718.323776</td>\n",
       "      <td>718.323776</td>\n",
       "      <td>1</td>\n",
       "      <td>1</td>\n",
       "      <td>2001-03</td>\n",
       "      <td>1</td>\n",
       "      <td>0</td>\n",
       "    </tr>\n",
       "    <tr>\n",
       "      <th>...</th>\n",
       "      <td>...</td>\n",
       "      <td>...</td>\n",
       "      <td>...</td>\n",
       "      <td>...</td>\n",
       "      <td>...</td>\n",
       "      <td>...</td>\n",
       "      <td>...</td>\n",
       "      <td>...</td>\n",
       "      <td>...</td>\n",
       "      <td>...</td>\n",
       "      <td>...</td>\n",
       "      <td>...</td>\n",
       "      <td>...</td>\n",
       "      <td>...</td>\n",
       "      <td>...</td>\n",
       "      <td>...</td>\n",
       "      <td>...</td>\n",
       "      <td>...</td>\n",
       "      <td>...</td>\n",
       "      <td>...</td>\n",
       "      <td>...</td>\n",
       "    </tr>\n",
       "    <tr>\n",
       "      <th>3428</th>\n",
       "      <td>Blantyre City</td>\n",
       "      <td>2019-03</td>\n",
       "      <td>0.0</td>\n",
       "      <td>0.818570</td>\n",
       "      <td>0.019929</td>\n",
       "      <td>MW315</td>\n",
       "      <td>NaN</td>\n",
       "      <td>NaN</td>\n",
       "      <td>NaN</td>\n",
       "      <td>Southern</td>\n",
       "      <td>...</td>\n",
       "      <td>NaN</td>\n",
       "      <td>0.000000</td>\n",
       "      <td>0.000000</td>\n",
       "      <td>-999.000000</td>\n",
       "      <td>-999.000000</td>\n",
       "      <td>0</td>\n",
       "      <td>0</td>\n",
       "      <td>2019-03</td>\n",
       "      <td>0</td>\n",
       "      <td>0</td>\n",
       "    </tr>\n",
       "    <tr>\n",
       "      <th>3429</th>\n",
       "      <td>Blantyre City</td>\n",
       "      <td>2019-04</td>\n",
       "      <td>0.0</td>\n",
       "      <td>0.818570</td>\n",
       "      <td>0.019929</td>\n",
       "      <td>MW315</td>\n",
       "      <td>NaN</td>\n",
       "      <td>NaN</td>\n",
       "      <td>NaN</td>\n",
       "      <td>Southern</td>\n",
       "      <td>...</td>\n",
       "      <td>NaN</td>\n",
       "      <td>0.000000</td>\n",
       "      <td>0.000000</td>\n",
       "      <td>-999.000000</td>\n",
       "      <td>-999.000000</td>\n",
       "      <td>0</td>\n",
       "      <td>0</td>\n",
       "      <td>2019-04</td>\n",
       "      <td>0</td>\n",
       "      <td>0</td>\n",
       "    </tr>\n",
       "    <tr>\n",
       "      <th>3432</th>\n",
       "      <td>Blantyre City</td>\n",
       "      <td>2020-01</td>\n",
       "      <td>0.0</td>\n",
       "      <td>0.818570</td>\n",
       "      <td>0.019929</td>\n",
       "      <td>MW315</td>\n",
       "      <td>NaN</td>\n",
       "      <td>NaN</td>\n",
       "      <td>NaN</td>\n",
       "      <td>Southern</td>\n",
       "      <td>...</td>\n",
       "      <td>NaN</td>\n",
       "      <td>0.000000</td>\n",
       "      <td>0.000000</td>\n",
       "      <td>-999.000000</td>\n",
       "      <td>-999.000000</td>\n",
       "      <td>0</td>\n",
       "      <td>0</td>\n",
       "      <td>2020-01</td>\n",
       "      <td>0</td>\n",
       "      <td>0</td>\n",
       "    </tr>\n",
       "    <tr>\n",
       "      <th>3433</th>\n",
       "      <td>Blantyre City</td>\n",
       "      <td>2020-02</td>\n",
       "      <td>1.0</td>\n",
       "      <td>0.818570</td>\n",
       "      <td>0.019929</td>\n",
       "      <td>MW315</td>\n",
       "      <td>NaN</td>\n",
       "      <td>NaN</td>\n",
       "      <td>NaN</td>\n",
       "      <td>Southern</td>\n",
       "      <td>...</td>\n",
       "      <td>NaN</td>\n",
       "      <td>0.000000</td>\n",
       "      <td>11.764706</td>\n",
       "      <td>563.777794</td>\n",
       "      <td>-999.000000</td>\n",
       "      <td>1</td>\n",
       "      <td>0</td>\n",
       "      <td>2020-02</td>\n",
       "      <td>0</td>\n",
       "      <td>1</td>\n",
       "    </tr>\n",
       "    <tr>\n",
       "      <th>3434</th>\n",
       "      <td>Blantyre City</td>\n",
       "      <td>2020-03</td>\n",
       "      <td>1.0</td>\n",
       "      <td>0.818570</td>\n",
       "      <td>0.019929</td>\n",
       "      <td>MW315</td>\n",
       "      <td>NaN</td>\n",
       "      <td>NaN</td>\n",
       "      <td>NaN</td>\n",
       "      <td>Southern</td>\n",
       "      <td>...</td>\n",
       "      <td>NaN</td>\n",
       "      <td>100.000000</td>\n",
       "      <td>100.000000</td>\n",
       "      <td>563.488132</td>\n",
       "      <td>563.488132</td>\n",
       "      <td>1</td>\n",
       "      <td>1</td>\n",
       "      <td>2020-03</td>\n",
       "      <td>1</td>\n",
       "      <td>1</td>\n",
       "    </tr>\n",
       "  </tbody>\n",
       "</table>\n",
       "<p>2076 rows × 25 columns</p>\n",
       "</div>"
      ],
      "text/plain": [
       "            ADM2_EN date_month  num_dry_spell_seas  Shape_Leng  Shape_Area  \\\n",
       "2           Chitipa    2000-03                 0.0    5.039122    0.350477   \n",
       "3           Chitipa    2000-04                 0.0    5.039122    0.350477   \n",
       "6           Chitipa    2001-01                 0.0    5.039122    0.350477   \n",
       "7           Chitipa    2001-02                 0.0    5.039122    0.350477   \n",
       "8           Chitipa    2001-03                 0.0    5.039122    0.350477   \n",
       "...             ...        ...                 ...         ...         ...   \n",
       "3428  Blantyre City    2019-03                 0.0    0.818570    0.019929   \n",
       "3429  Blantyre City    2019-04                 0.0    0.818570    0.019929   \n",
       "3432  Blantyre City    2020-01                 0.0    0.818570    0.019929   \n",
       "3433  Blantyre City    2020-02                 1.0    0.818570    0.019929   \n",
       "3434  Blantyre City    2020-03                 1.0    0.818570    0.019929   \n",
       "\n",
       "     ADM2_PCODE  ADM2_REF  ADM2ALT1EN  ADM2ALT2EN   ADM1_EN  ... validTo  \\\n",
       "2         MW101       NaN         NaN         NaN  Northern  ...     NaN   \n",
       "3         MW101       NaN         NaN         NaN  Northern  ...     NaN   \n",
       "6         MW101       NaN         NaN         NaN  Northern  ...     NaN   \n",
       "7         MW101       NaN         NaN         NaN  Northern  ...     NaN   \n",
       "8         MW101       NaN         NaN         NaN  Northern  ...     NaN   \n",
       "...         ...       ...         ...         ...       ...  ...     ...   \n",
       "3428      MW315       NaN         NaN         NaN  Southern  ...     NaN   \n",
       "3429      MW315       NaN         NaN         NaN  Southern  ...     NaN   \n",
       "3432      MW315       NaN         NaN         NaN  Southern  ...     NaN   \n",
       "3433      MW315       NaN         NaN         NaN  Southern  ...     NaN   \n",
       "3434      MW315       NaN         NaN         NaN  Southern  ...     NaN   \n",
       "\n",
       "     perc_threshold perc_threshold_touched max_cell_touched    max_cell  \\\n",
       "2        100.000000             100.000000       675.228027  665.144302   \n",
       "3         60.431655              61.306533       756.143036  727.771973   \n",
       "6          0.000000               0.000000      -999.000000 -999.000000   \n",
       "7          0.000000               0.000000      -999.000000 -999.000000   \n",
       "8         51.798561              49.748744       718.323776  718.323776   \n",
       "...             ...                    ...              ...         ...   \n",
       "3428       0.000000               0.000000      -999.000000 -999.000000   \n",
       "3429       0.000000               0.000000      -999.000000 -999.000000   \n",
       "3432       0.000000               0.000000      -999.000000 -999.000000   \n",
       "3433       0.000000              11.764706       563.777794 -999.000000   \n",
       "3434     100.000000             100.000000       563.488132  563.488132   \n",
       "\n",
       "      below_average_touched  below_average_max  date_str  below_average  \\\n",
       "2                         1                  1   2000-03              1   \n",
       "3                         1                  1   2000-04              1   \n",
       "6                         0                  0   2001-01              0   \n",
       "7                         0                  0   2001-02              0   \n",
       "8                         1                  1   2001-03              1   \n",
       "...                     ...                ...       ...            ...   \n",
       "3428                      0                  0   2019-03              0   \n",
       "3429                      0                  0   2019-04              0   \n",
       "3432                      0                  0   2020-01              0   \n",
       "3433                      1                  0   2020-02              0   \n",
       "3434                      1                  1   2020-03              1   \n",
       "\n",
       "      dry_spell  \n",
       "2             0  \n",
       "3             0  \n",
       "6             0  \n",
       "7             0  \n",
       "8             0  \n",
       "...         ...  \n",
       "3428          0  \n",
       "3429          0  \n",
       "3432          0  \n",
       "3433          1  \n",
       "3434          1  \n",
       "\n",
       "[2076 rows x 25 columns]"
      ]
     },
     "execution_count": 75,
     "metadata": {},
     "output_type": "execute_result"
    }
   ],
   "source": [
    "df_comb_seas"
   ]
  },
  {
   "cell_type": "markdown",
   "metadata": {},
   "source": [
    "#### Analyse distributions below average rainfall and dry spells\n",
    "There is barely a difference in the distribution of the percentage with below average rainfall when a dry spell occurs or not --> really not possible to separate the two.."
   ]
  },
  {
   "cell_type": "code",
   "execution_count": 76,
   "metadata": {},
   "outputs": [
    {
     "data": {
      "text/plain": [
       "Text(0.5, 0, 'Percentage of area of ADM2 with below average seasonal precipitation')"
      ]
     },
     "execution_count": 76,
     "metadata": {},
     "output_type": "execute_result"
    },
    {
     "data": {
      "image/png": "[encoded data removed]",
      "text/plain": [
       "<Figure size 432x288 with 1 Axes>"
      ]
     },
     "metadata": {
      "needs_background": "light"
     },
     "output_type": "display_data"
    }
   ],
   "source": [
    "#perc_threshold indicates the percentage of area with below average rainfall per admin2-date combination\n",
    "g=sns.histplot(df_comb_seas,x=\"perc_threshold\",stat=\"density\",common_norm=False,kde=True,hue=\"dry_spell\")\n",
    "g.axes.spines['right'].set_visible(False)\n",
    "g.axes.spines['top'].set_visible(False)\n",
    "g.axes.set_xlabel(\"Percentage of area of ADM2 with below average seasonal precipitation\")"
   ]
  },
  {
   "cell_type": "code",
   "execution_count": 77,
   "metadata": {},
   "outputs": [
    {
     "data": {
      "image/png": "[encoded data removed]",
      "text/plain": [
       "<Figure size 432x288 with 1 Axes>"
      ]
     },
     "metadata": {
      "needs_background": "light"
     },
     "output_type": "display_data"
    }
   ],
   "source": [
    "#max_cell indicates the cell per adm2-date combination with the maximum value\n",
    "#however, all cells with above average rainfall are set to -999 \n",
    "#--> if max cell is positive, all cells in the adm2 have below average rainfall\n",
    "g=sns.histplot(df_comb_seas,x=\"max_cell\",stat=\"density\",common_norm=False,kde=True,hue=\"dry_spell\")\n",
    "g.axes.spines['right'].set_visible(False)\n",
    "g.axes.spines['top'].set_visible(False)"
   ]
  },
  {
   "cell_type": "markdown",
   "metadata": {},
   "source": [
    "#### Correlations\n",
    "Not really any correlation, but is to be expected from the distributions"
   ]
  },
  {
   "cell_type": "code",
   "execution_count": 78,
   "metadata": {},
   "outputs": [
    {
     "data": {
      "image/png": "[encoded data removed]",
      "text/plain": [
       "<Figure size 432x288 with 1 Axes>"
      ]
     },
     "metadata": {
      "needs_background": "light"
     },
     "output_type": "display_data"
    }
   ],
   "source": [
    "y_target =    df_comb_seas[\"dry_spell\"]\n",
    "#below_average is defined as perc_threshold>=50 where perc_threshold indicates the percentage of area with below average rainfall\n",
    "y_predicted = df_comb_seas[\"below_average\"]\n",
    "\n",
    "cm = confusion_matrix(y_target=y_target, \n",
    "                      y_predicted=y_predicted)\n",
    "# print(cm)\n",
    "\n",
    "fig, ax = plot_confusion_matrix(conf_mat=cm,show_absolute=True,show_normed=True) #,class_names=[\"No\",\"Yes\"])\n",
    "ax.set_ylabel(\"Dry spell in ADMIN2 during season\")\n",
    "ax.set_xlabel(\"Lower tercile precipitation in ADMIN2 during season\")\n",
    "plt.show()"
   ]
  },
  {
   "cell_type": "code",
   "execution_count": 79,
   "metadata": {},
   "outputs": [
    {
     "data": {
      "image/png": "[encoded data removed]",
      "text/plain": [
       "<Figure size 1800x1440 with 3 Axes>"
      ]
     },
     "metadata": {
      "needs_background": "light"
     },
     "output_type": "display_data"
    }
   ],
   "source": [
    "#check if difference per admin1\n",
    "colp_num=3\n",
    "num_plots=len(df_comb_seas.ADM1_EN.unique())\n",
    "if num_plots==1:\n",
    "    colp_num=1\n",
    "rows = math.ceil(num_plots / colp_num)\n",
    "position = range(1, num_plots + 1)\n",
    "fig=plt.figure(figsize=(25,20))\n",
    "for i,m in enumerate(df_comb_seas.ADM1_EN.unique()):\n",
    "    y_target =    df_comb_seas.loc[df_comb_seas.ADM1_EN==m,\"dry_spell\"]\n",
    "    y_predicted = df_comb_seas.loc[df_comb_seas.ADM1_EN==m,\"below_average\"]\n",
    "    \n",
    "    cm = confusion_matrix(y_target=y_target, \n",
    "                          y_predicted=y_predicted)\n",
    "    ax = fig.add_subplot(rows,colp_num,i+1)\n",
    "    plot_confusion_matrix(conf_mat=cm,show_absolute=True,show_normed=True,axis=ax)\n",
    "    ax.set_ylabel(\"Dry spell in ADMIN2 during season\")\n",
    "    ax.set_xlabel(\"Lower tercile precipitation in ADMIN2 during season\")\n",
    "    ax.set_title(m)"
   ]
  },
  {
   "cell_type": "code",
   "execution_count": 80,
   "metadata": {},
   "outputs": [],
   "source": [
    "#mapping of month to season. Computed by rolling sum, i.e. month indicates last month of season\n",
    "seasons_rolling={3:\"JFM\",4:\"FMA\",5:\"MAM\",6:\"AMJ\",7:\"MJJ\",8:\"JJA\",9:\"JAS\",10:\"ASO\",11:\"SON\",12:\"OND\",1:\"NDJ\",2:\"DJF\"}"
   ]
  },
  {
   "cell_type": "code",
   "execution_count": 81,
   "metadata": {},
   "outputs": [
    {
     "name": "stderr",
     "output_type": "stream",
     "text": [
      "/Users/tinkavalentijn/.virtualenvs/antact/lib/python3.8/site-packages/mlxtend/plotting/plot_confusion_matrix.py:76: RuntimeWarning: invalid value encountered in true_divide\n",
      "  normed_conf_mat = conf_mat.astype('float') / total_samples\n"
     ]
    },
    {
     "data": {
      "image/png": "[encoded data removed]",
      "text/plain": [
       "<Figure size 1800x1440 with 6 Axes>"
      ]
     },
     "metadata": {
      "needs_background": "light"
     },
     "output_type": "display_data"
    }
   ],
   "source": [
    "#check if difference per season\n",
    "colp_num=3\n",
    "num_plots=len(df_comb_seas.date_month.dt.month.unique())\n",
    "if num_plots==1:\n",
    "    colp_num=1\n",
    "rows = math.ceil(num_plots / colp_num)\n",
    "position = range(1, num_plots + 1)\n",
    "fig=plt.figure(figsize=(25,20))\n",
    "for i,m in enumerate(df_comb_seas.sort_values(by=\"date_month\").date_month.dt.month.unique()):\n",
    "    y_target =    df_comb_seas.loc[df_comb_seas.date_month.dt.month==m,\"dry_spell\"]\n",
    "    y_predicted = df_comb_seas.loc[df_comb_seas.date_month.dt.month==m,\"below_average\"]\n",
    "\n",
    "    cm = confusion_matrix(y_target=y_target, \n",
    "                          y_predicted=y_predicted)\n",
    "    ax = fig.add_subplot(rows,colp_num,i+1)\n",
    "    plot_confusion_matrix(conf_mat=cm,show_absolute=True,show_normed=True,axis=ax)\n",
    "    ax.set_ylabel(\"Dry spell in ADMIN2 during season\")\n",
    "    ax.set_xlabel(\"Lower tercile precipitation in ADMIN2 during season\")\n",
    "    ax.set_title(seasons_rolling[m])"
   ]
  },
  {
   "cell_type": "markdown",
   "metadata": {},
   "source": [
    "### Correlation number of adm2's with dry spells and below avg precip\n",
    "The data might be too noisy to detect specific adm2's but there might be a correlation when looking at the total of adm2s having a dry spell/below avg precip during season\n",
    "\n",
    "Conclusion: there is not😥"
   ]
  },
  {
   "cell_type": "code",
   "execution_count": 82,
   "metadata": {},
   "outputs": [
    {
     "name": "stderr",
     "output_type": "stream",
     "text": [
      "<ipython-input-82-0b3025a513c2>:3: FutureWarning: Indexing with multiple keys (implicitly converted to a tuple of keys) will be deprecated, use a list instead.\n",
      "  df_numadm=df_comb_seas.groupby(\"date_month\")[\"dry_spell\",\"below_average\"].sum()\n"
     ]
    }
   ],
   "source": [
    "#number of adm2s experiencing a dry spell/below average\n",
    "#these don't have to be the same with the current method of computation\n",
    "df_numadm=df_comb_seas.groupby(\"date_month\")[\"dry_spell\",\"below_average\"].sum()"
   ]
  },
  {
   "cell_type": "code",
   "execution_count": 83,
   "metadata": {},
   "outputs": [
    {
     "data": {
      "text/html": [
       "<div>\n",
       "<style scoped>\n",
       "    .dataframe tbody tr th:only-of-type {\n",
       "        vertical-align: middle;\n",
       "    }\n",
       "\n",
       "    .dataframe tbody tr th {\n",
       "        vertical-align: top;\n",
       "    }\n",
       "\n",
       "    .dataframe thead th {\n",
       "        text-align: right;\n",
       "    }\n",
       "</style>\n",
       "<table border=\"1\" class=\"dataframe\">\n",
       "  <thead>\n",
       "    <tr style=\"text-align: right;\">\n",
       "      <th></th>\n",
       "      <th>dry_spell</th>\n",
       "      <th>below_average</th>\n",
       "    </tr>\n",
       "    <tr>\n",
       "      <th>date_month</th>\n",
       "      <th></th>\n",
       "      <th></th>\n",
       "    </tr>\n",
       "  </thead>\n",
       "  <tbody>\n",
       "    <tr>\n",
       "      <th>2000-03</th>\n",
       "      <td>0</td>\n",
       "      <td>9</td>\n",
       "    </tr>\n",
       "    <tr>\n",
       "      <th>2000-04</th>\n",
       "      <td>0</td>\n",
       "      <td>6</td>\n",
       "    </tr>\n",
       "    <tr>\n",
       "      <th>2001-01</th>\n",
       "      <td>0</td>\n",
       "      <td>3</td>\n",
       "    </tr>\n",
       "    <tr>\n",
       "      <th>2001-02</th>\n",
       "      <td>0</td>\n",
       "      <td>0</td>\n",
       "    </tr>\n",
       "    <tr>\n",
       "      <th>2001-03</th>\n",
       "      <td>0</td>\n",
       "      <td>1</td>\n",
       "    </tr>\n",
       "    <tr>\n",
       "      <th>...</th>\n",
       "      <td>...</td>\n",
       "      <td>...</td>\n",
       "    </tr>\n",
       "    <tr>\n",
       "      <th>2019-05</th>\n",
       "      <td>0</td>\n",
       "      <td>0</td>\n",
       "    </tr>\n",
       "    <tr>\n",
       "      <th>2020-01</th>\n",
       "      <td>0</td>\n",
       "      <td>0</td>\n",
       "    </tr>\n",
       "    <tr>\n",
       "      <th>2020-02</th>\n",
       "      <td>4</td>\n",
       "      <td>8</td>\n",
       "    </tr>\n",
       "    <tr>\n",
       "      <th>2020-03</th>\n",
       "      <td>6</td>\n",
       "      <td>23</td>\n",
       "    </tr>\n",
       "    <tr>\n",
       "      <th>2020-04</th>\n",
       "      <td>0</td>\n",
       "      <td>2</td>\n",
       "    </tr>\n",
       "  </tbody>\n",
       "</table>\n",
       "<p>96 rows × 2 columns</p>\n",
       "</div>"
      ],
      "text/plain": [
       "            dry_spell  below_average\n",
       "date_month                          \n",
       "2000-03             0              9\n",
       "2000-04             0              6\n",
       "2001-01             0              3\n",
       "2001-02             0              0\n",
       "2001-03             0              1\n",
       "...               ...            ...\n",
       "2019-05             0              0\n",
       "2020-01             0              0\n",
       "2020-02             4              8\n",
       "2020-03             6             23\n",
       "2020-04             0              2\n",
       "\n",
       "[96 rows x 2 columns]"
      ]
     },
     "execution_count": 83,
     "metadata": {},
     "output_type": "execute_result"
    }
   ],
   "source": [
    "df_numadm"
   ]
  },
  {
   "cell_type": "code",
   "execution_count": 84,
   "metadata": {},
   "outputs": [
    {
     "data": {
      "text/plain": [
       "<AxesSubplot:xlabel='dry_spell', ylabel='below_average'>"
      ]
     },
     "execution_count": 84,
     "metadata": {},
     "output_type": "execute_result"
    },
    {
     "data": {
      "image/png": "[encoded data removed]",
      "text/plain": [
       "<Figure size 432x288 with 1 Axes>"
      ]
     },
     "metadata": {
      "needs_background": "light"
     },
     "output_type": "display_data"
    }
   ],
   "source": [
    "sns.regplot(data = df_numadm, x = 'dry_spell', y = 'below_average', fit_reg = False,\n",
    "            scatter_kws = {'alpha' : 1/3})#,x_jitter = 0.2, y_jitter = 0.2)"
   ]
  },
  {
   "cell_type": "code",
   "execution_count": 85,
   "metadata": {},
   "outputs": [],
   "source": [
    "#do the same but per adm1 instead of national\n",
    "df_nummonthadm=df_comb_seas.groupby([\"date_month\",\"ADM1_EN\"],as_index=False)[[\"dry_spell\",\"below_average\"]].sum()"
   ]
  },
  {
   "cell_type": "code",
   "execution_count": 86,
   "metadata": {},
   "outputs": [
    {
     "data": {
      "image/png": "[encoded data removed]",
      "text/plain": [
       "<Figure size 1440x360 with 3 Axes>"
      ]
     },
     "metadata": {
      "needs_background": "light"
     },
     "output_type": "display_data"
    }
   ],
   "source": [
    "colp_num=3\n",
    "num_plots=len(df_comb_seas.ADM1_EN.unique())\n",
    "if num_plots==1:\n",
    "    colp_num=1\n",
    "rows = math.ceil(num_plots / colp_num)\n",
    "position = range(1, num_plots + 1)\n",
    "fig=plt.figure(figsize=(20,5))\n",
    "for i,a in enumerate(df_nummonthadm.ADM1_EN.unique()):\n",
    "    ax = fig.add_subplot(rows,colp_num,i+1)\n",
    "    sns.regplot(data = df_nummonthadm[df_nummonthadm.ADM1_EN==a], x = 'dry_spell', y = 'below_average', fit_reg = False,\n",
    "            scatter_kws = {'alpha' : 1/3},ax=ax)\n",
    "    ax.axes.set_title(a)\n",
    "#     plt.show()"
   ]
  },
  {
   "cell_type": "markdown",
   "metadata": {},
   "source": [
    "### Distributions below average and dry spells\n",
    "Understand a little better why no correlation number of adm2's with below average and dry spell"
   ]
  },
  {
   "cell_type": "code",
   "execution_count": 87,
   "metadata": {},
   "outputs": [
    {
     "name": "stderr",
     "output_type": "stream",
     "text": [
      "<ipython-input-87-07b3f58b3c50>:1: SettingWithCopyWarning: \n",
      "A value is trying to be set on a copy of a slice from a DataFrame.\n",
      "Try using .loc[row_indexer,col_indexer] = value instead\n",
      "\n",
      "See the caveats in the documentation: https://pandas.pydata.org/pandas-docs/stable/user_guide/indexing.html#returning-a-view-versus-a-copy\n",
      "  df_comb_seas[\"year\"]=df_comb_seas.date_month.dt.year\n"
     ]
    }
   ],
   "source": [
    "df_comb_seas[\"year\"]=df_comb_seas.date_month.dt.year"
   ]
  },
  {
   "cell_type": "code",
   "execution_count": 88,
   "metadata": {},
   "outputs": [],
   "source": [
    "#for now focus on FMA since this is the season having most dry spels\n",
    "df_fma=df_comb_seas[df_comb_seas.date_month.dt.month==4]"
   ]
  },
  {
   "cell_type": "code",
   "execution_count": 89,
   "metadata": {},
   "outputs": [],
   "source": [
    "df_fma_bavgy=df_fma[[\"ADM1_EN\",\"year\",\"dry_spell\",\"below_average\"]].groupby([\"year\",\"below_average\"],as_index=False).sum()"
   ]
  },
  {
   "cell_type": "code",
   "execution_count": 42,
   "metadata": {},
   "outputs": [
    {
     "data": {
      "text/plain": [
       "<matplotlib.legend.Legend at 0x13987b040>"
      ]
     },
     "execution_count": 42,
     "metadata": {},
     "output_type": "execute_result"
    },
    {
     "data": {
      "image/png": "[encoded data removed]",
      "text/plain": [
       "<Figure size 432x288 with 1 Axes>"
      ]
     },
     "metadata": {
      "needs_background": "light"
     },
     "output_type": "display_data"
    }
   ],
   "source": [
    "#number of dry spells that did and did not have below avg rainfall per year\n",
    "df_fma_bavgy['below_average_label'] = df_fma_bavgy['below_average'].map({0: 'No', 1: 'Yes'})\n",
    "g=sns.barplot(x=\"year\", y=\"dry_spell\", hue=\"below_average_label\", data=df_fma_bavgy)#,legend_out=True)\n",
    "ax=g.axes\n",
    "plt.xticks(rotation=90)\n",
    "ax.spines['right'].set_visible(False)\n",
    "ax.spines['top'].set_visible(False)\n",
    "ax.set_title(\"Number of admin2's with a dry spell during the FMA season\")\n",
    "ax.legend(title=\"Below average rainfall\",loc=\"upper left\")"
   ]
  },
  {
   "cell_type": "code",
   "execution_count": 90,
   "metadata": {},
   "outputs": [
    {
     "data": {
      "text/plain": [
       "<matplotlib.legend.Legend at 0x1394fffa0>"
      ]
     },
     "execution_count": 90,
     "metadata": {},
     "output_type": "execute_result"
    },
    {
     "data": {
      "image/png": "[encoded data removed]",
      "text/plain": [
       "<Figure size 432x288 with 1 Axes>"
      ]
     },
     "metadata": {
      "needs_background": "light"
     },
     "output_type": "display_data"
    }
   ],
   "source": [
    "#number of dry spells that did and did not have below avg rainfall per year\n",
    "df_fma_bavgy['below_average_label'] = df_fma_bavgy['below_average'].map({0: 'No', 1: 'Yes'})\n",
    "g=sns.barplot(x=\"year\", y=\"dry_spell\", hue=\"below_average_label\", data=df_fma_bavgy)#,legend_out=True)\n",
    "ax=g.axes\n",
    "plt.xticks(rotation=90)\n",
    "ax.spines['right'].set_visible(False)\n",
    "ax.spines['top'].set_visible(False)\n",
    "ax.set_title(\"Number of admin2's with a dry spell during the FMA season\")\n",
    "ax.legend(title=\"Below average rainfall\",loc=\"upper left\")"
   ]
  },
  {
   "cell_type": "code",
   "execution_count": 43,
   "metadata": {},
   "outputs": [
    {
     "data": {
      "image/png": "[encoded data removed]",
      "text/plain": [
       "<Figure size 432x288 with 1 Axes>"
      ]
     },
     "metadata": {
      "needs_background": "light"
     },
     "output_type": "display_data"
    }
   ],
   "source": [
    "#difference distribution number of dry spells per year, with below and not below avg rainfall\n",
    "#--> barely difference in distribution\n",
    "g=sns.histplot(\n",
    "df_fma_bavgy,x=\"dry_spell\", bins=np.arange(0,df_fma_bavgy.dry_spell.max()),stat=\"count\",hue=\"below_average\",common_norm=False,kde=True) #,hue=\"below_average\"\n",
    "ax=g.axes\n",
    "# plt.title(v)\n",
    "ax.spines['right'].set_visible(False)\n",
    "ax.spines['top'].set_visible(False)\n",
    "# ax.set_xlabel(v)\n",
    "ax.set_xticks(np.arange(0,df_fma_bavgy.dry_spell.max()))\n",
    "plt.show()"
   ]
  },
  {
   "cell_type": "code",
   "execution_count": 44,
   "metadata": {},
   "outputs": [
    {
     "data": {
      "text/html": [
       "<div>\n",
       "<style scoped>\n",
       "    .dataframe tbody tr th:only-of-type {\n",
       "        vertical-align: middle;\n",
       "    }\n",
       "\n",
       "    .dataframe tbody tr th {\n",
       "        vertical-align: top;\n",
       "    }\n",
       "\n",
       "    .dataframe thead tr th {\n",
       "        text-align: left;\n",
       "    }\n",
       "\n",
       "    .dataframe thead tr:last-of-type th {\n",
       "        text-align: right;\n",
       "    }\n",
       "</style>\n",
       "<table border=\"1\" class=\"dataframe\">\n",
       "  <thead>\n",
       "    <tr>\n",
       "      <th></th>\n",
       "      <th colspan=\"4\" halign=\"left\">Number of dry spells</th>\n",
       "    </tr>\n",
       "    <tr>\n",
       "      <th></th>\n",
       "      <th>sum</th>\n",
       "      <th>mean</th>\n",
       "      <th>min</th>\n",
       "      <th>max</th>\n",
       "    </tr>\n",
       "    <tr>\n",
       "      <th>Below average rainfall</th>\n",
       "      <th></th>\n",
       "      <th></th>\n",
       "      <th></th>\n",
       "      <th></th>\n",
       "    </tr>\n",
       "  </thead>\n",
       "  <tbody>\n",
       "    <tr>\n",
       "      <th>No</th>\n",
       "      <td>59</td>\n",
       "      <td>3.105263</td>\n",
       "      <td>0</td>\n",
       "      <td>17</td>\n",
       "    </tr>\n",
       "    <tr>\n",
       "      <th>Yes</th>\n",
       "      <td>26</td>\n",
       "      <td>1.444444</td>\n",
       "      <td>0</td>\n",
       "      <td>12</td>\n",
       "    </tr>\n",
       "  </tbody>\n",
       "</table>\n",
       "</div>"
      ],
      "text/plain": [
       "                       Number of dry spells                  \n",
       "                                        sum      mean min max\n",
       "Below average rainfall                                       \n",
       "No                                       59  3.105263   0  17\n",
       "Yes                                      26  1.444444   0  12"
      ]
     },
     "execution_count": 44,
     "metadata": {},
     "output_type": "execute_result"
    }
   ],
   "source": [
    "#stats summary\n",
    "df_fma_bavgy[\"Below average rainfall\"]=df_fma_bavgy[\"below_average_label\"]\n",
    "df_fma_bavgy[\"Number of dry spells\"]=df_fma_bavgy[\"dry_spell\"]\n",
    "df_fma_bavgy[[\"Below average rainfall\",\"Number of dry spells\"]].groupby(\"Below average rainfall\").agg(['sum','mean','min','max'])"
   ]
  },
  {
   "cell_type": "code",
   "execution_count": 45,
   "metadata": {},
   "outputs": [],
   "source": [
    "df_fma_bavgadm=df_fma[[\"ADM1_EN\",\"year\",\"dry_spell\",\"below_average\"]].groupby([\"ADM1_EN\",\"year\",\"below_average\"],as_index=False).sum()"
   ]
  },
  {
   "cell_type": "code",
   "execution_count": 46,
   "metadata": {},
   "outputs": [
    {
     "data": {
      "text/html": [
       "<div>\n",
       "<style scoped>\n",
       "    .dataframe tbody tr th:only-of-type {\n",
       "        vertical-align: middle;\n",
       "    }\n",
       "\n",
       "    .dataframe tbody tr th {\n",
       "        vertical-align: top;\n",
       "    }\n",
       "\n",
       "    .dataframe thead th {\n",
       "        text-align: right;\n",
       "    }\n",
       "</style>\n",
       "<table border=\"1\" class=\"dataframe\">\n",
       "  <thead>\n",
       "    <tr style=\"text-align: right;\">\n",
       "      <th></th>\n",
       "      <th>ADM1_EN</th>\n",
       "      <th>year</th>\n",
       "      <th>below_average</th>\n",
       "      <th>dry_spell</th>\n",
       "    </tr>\n",
       "  </thead>\n",
       "  <tbody>\n",
       "    <tr>\n",
       "      <th>0</th>\n",
       "      <td>Central</td>\n",
       "      <td>2000</td>\n",
       "      <td>0</td>\n",
       "      <td>0</td>\n",
       "    </tr>\n",
       "    <tr>\n",
       "      <th>1</th>\n",
       "      <td>Central</td>\n",
       "      <td>2001</td>\n",
       "      <td>0</td>\n",
       "      <td>1</td>\n",
       "    </tr>\n",
       "    <tr>\n",
       "      <th>2</th>\n",
       "      <td>Central</td>\n",
       "      <td>2002</td>\n",
       "      <td>0</td>\n",
       "      <td>0</td>\n",
       "    </tr>\n",
       "    <tr>\n",
       "      <th>3</th>\n",
       "      <td>Central</td>\n",
       "      <td>2002</td>\n",
       "      <td>1</td>\n",
       "      <td>0</td>\n",
       "    </tr>\n",
       "    <tr>\n",
       "      <th>4</th>\n",
       "      <td>Central</td>\n",
       "      <td>2003</td>\n",
       "      <td>0</td>\n",
       "      <td>0</td>\n",
       "    </tr>\n",
       "    <tr>\n",
       "      <th>...</th>\n",
       "      <td>...</td>\n",
       "      <td>...</td>\n",
       "      <td>...</td>\n",
       "      <td>...</td>\n",
       "    </tr>\n",
       "    <tr>\n",
       "      <th>87</th>\n",
       "      <td>Southern</td>\n",
       "      <td>2017</td>\n",
       "      <td>1</td>\n",
       "      <td>0</td>\n",
       "    </tr>\n",
       "    <tr>\n",
       "      <th>88</th>\n",
       "      <td>Southern</td>\n",
       "      <td>2018</td>\n",
       "      <td>0</td>\n",
       "      <td>0</td>\n",
       "    </tr>\n",
       "    <tr>\n",
       "      <th>89</th>\n",
       "      <td>Southern</td>\n",
       "      <td>2018</td>\n",
       "      <td>1</td>\n",
       "      <td>0</td>\n",
       "    </tr>\n",
       "    <tr>\n",
       "      <th>90</th>\n",
       "      <td>Southern</td>\n",
       "      <td>2019</td>\n",
       "      <td>0</td>\n",
       "      <td>1</td>\n",
       "    </tr>\n",
       "    <tr>\n",
       "      <th>91</th>\n",
       "      <td>Southern</td>\n",
       "      <td>2020</td>\n",
       "      <td>1</td>\n",
       "      <td>3</td>\n",
       "    </tr>\n",
       "  </tbody>\n",
       "</table>\n",
       "<p>92 rows × 4 columns</p>\n",
       "</div>"
      ],
      "text/plain": [
       "     ADM1_EN  year  below_average  dry_spell\n",
       "0    Central  2000              0          0\n",
       "1    Central  2001              0          1\n",
       "2    Central  2002              0          0\n",
       "3    Central  2002              1          0\n",
       "4    Central  2003              0          0\n",
       "..       ...   ...            ...        ...\n",
       "87  Southern  2017              1          0\n",
       "88  Southern  2018              0          0\n",
       "89  Southern  2018              1          0\n",
       "90  Southern  2019              0          1\n",
       "91  Southern  2020              1          3\n",
       "\n",
       "[92 rows x 4 columns]"
      ]
     },
     "execution_count": 46,
     "metadata": {},
     "output_type": "execute_result"
    }
   ],
   "source": [
    "df_fma_bavgadm"
   ]
  },
  {
   "cell_type": "code",
   "execution_count": 47,
   "metadata": {},
   "outputs": [
    {
     "data": {
      "image/png": "[encoded data removed]",
      "text/plain": [
       "<Figure size 1440x360 with 3 Axes>"
      ]
     },
     "metadata": {
      "needs_background": "light"
     },
     "output_type": "display_data"
    }
   ],
   "source": [
    "colp_num=3\n",
    "num_plots=len(df_comb_seas.ADM1_EN.unique())\n",
    "if num_plots==1:\n",
    "    colp_num=1\n",
    "rows = math.ceil(num_plots / colp_num)\n",
    "position = range(1, num_plots + 1)\n",
    "fig=plt.figure(figsize=(20,5))\n",
    "for i,a in enumerate(df_nummonthadm.ADM1_EN.unique()):\n",
    "    ax = fig.add_subplot(rows,colp_num,i+1)\n",
    "    sns.regplot(data = df_nummonthadm[df_nummonthadm.ADM1_EN==a], x = 'dry_spell', y = 'below_average', fit_reg = False,\n",
    "            scatter_kws = {'alpha' : 1/3},ax=ax)\n",
    "    ax.axes.set_title(a)\n",
    "#     plt.show()"
   ]
  },
  {
   "cell_type": "code",
   "execution_count": 48,
   "metadata": {},
   "outputs": [
    {
     "data": {
      "image/png": "[encoded data removed]",
      "text/plain": [
       "<Figure size 1440x360 with 3 Axes>"
      ]
     },
     "metadata": {
      "needs_background": "light"
     },
     "output_type": "display_data"
    }
   ],
   "source": [
    "colp_num=3\n",
    "num_plots=len(df_fma_bavgadm.ADM1_EN.unique())\n",
    "if num_plots==1:\n",
    "    colp_num=1\n",
    "rows = math.ceil(num_plots / colp_num)\n",
    "position = range(1, num_plots + 1)\n",
    "fig=plt.figure(figsize=(20,5))\n",
    "for i,a in enumerate(df_fma_bavgadm.ADM1_EN.unique()):\n",
    "    ax = fig.add_subplot(rows,colp_num,i+1)\n",
    "    g=sns.histplot(\n",
    "    df_fma_bavgadm[df_fma_bavgadm.ADM1_EN==a],x=\"dry_spell\",ax=ax,bins=np.arange(0,df_fma_bavgadm[df_fma_bavgadm.ADM1_EN==a].dry_spell.max()),stat=\"count\",hue=\"below_average\",common_norm=False,kde=True) #,hue=\"below_average\"\n",
    "    ax.spines['right'].set_visible(False)\n",
    "    ax.spines['top'].set_visible(False)\n",
    "    ax.set_xticks(np.arange(0,df_fma_bavgadm[df_fma_bavgadm.ADM1_EN==a].dry_spell.max()))\n",
    "    ax.set_title(a)"
   ]
  },
  {
   "cell_type": "code",
   "execution_count": 49,
   "metadata": {},
   "outputs": [],
   "source": [
    "##Attempt to check for differences per adm2\n",
    "# boo=df_fma[[\"ADM1_EN\",\"ADM2_EN\",\"year\",\"dry_spell\",\"below_average\"]].groupby([\"ADM2_EN\",\"below_average\",\"year\"],as_index=False).sum()\n",
    "# boo[[\"ADM2_EN\",\"below_average\",\"dry_spell\"]].groupby([\"ADM2_EN\",\"below_average\"]).agg(['sum','mean','min','max'])"
   ]
  },
  {
   "cell_type": "code",
   "execution_count": 50,
   "metadata": {},
   "outputs": [],
   "source": [
    "# #not really informative, so leave out\n",
    "# #select only entries with below average rainfall\n",
    "# df_fma_bavg=df_fma[df_fma.below_average==1]\n",
    "# df_fma_bavg_admy=df_fma_bavg[[\"ADM1_EN\",\"year\",\"dry_spell\"]].groupby([\"ADM1_EN\",\"year\"],as_index=False).sum()\n",
    "# #very little adm2s where there was below avg rainfall when there was a dry spell\n",
    "# g=sns.barplot(x=\"year\", y=\"dry_spell\", hue=\"ADM1_EN\", data=df_fma_bavg_admy)\n",
    "# ax=g.axes\n",
    "# plt.xticks(rotation=90)\n",
    "# ax.spines['right'].set_visible(False)\n",
    "# ax.spines['top'].set_visible(False)\n",
    "# ax.set_title(\"Number of admin2's with below average rainfall that also had a dry spell\")"
   ]
  },
  {
   "cell_type": "markdown",
   "metadata": {},
   "source": [
    "### THIS IS OLD, DONT LOOK AT IT, WILL BE APPROX SAME AS FOR SEASONAL\n",
    "### Observed dryspells and correlation with below average monthly rainfall\n",
    "**note: the list of dry spells used here is preliminary, thus the correlations will likely change but the processing should be the same**\n",
    "Process the observed dryspell list as outputed by `malawi/scripts/mwi_chirps_dry_spell_detection.R` and correlate the occurence of a dry spell with below-average monthly and seasonal rainfall\n",
    "\n",
    "As first analysis we are focussing on the sole occurence of a dry spell per admin2. This can be extended to e.g. duration, number of dry spells, and geographical spread\n",
    "\n",
    "Questions\n",
    "- Does it make sense to use the datae of dry spell confirmation, or more logical to use the start date?"
   ]
  },
  {
   "cell_type": "code",
   "execution_count": 51,
   "metadata": {},
   "outputs": [
    {
     "data": {
      "text/html": [
       "<div>\n",
       "<style scoped>\n",
       "    .dataframe tbody tr th:only-of-type {\n",
       "        vertical-align: middle;\n",
       "    }\n",
       "\n",
       "    .dataframe tbody tr th {\n",
       "        vertical-align: top;\n",
       "    }\n",
       "\n",
       "    .dataframe thead th {\n",
       "        text-align: right;\n",
       "    }\n",
       "</style>\n",
       "<table border=\"1\" class=\"dataframe\">\n",
       "  <thead>\n",
       "    <tr style=\"text-align: right;\">\n",
       "      <th></th>\n",
       "      <th>ds_fd_m</th>\n",
       "      <th>ADM2_EN</th>\n",
       "      <th>dry_spell_first_date</th>\n",
       "    </tr>\n",
       "  </thead>\n",
       "  <tbody>\n",
       "    <tr>\n",
       "      <th>0</th>\n",
       "      <td>2001-04</td>\n",
       "      <td>Ntchisi</td>\n",
       "      <td>1</td>\n",
       "    </tr>\n",
       "    <tr>\n",
       "      <th>1</th>\n",
       "      <td>2002-02</td>\n",
       "      <td>Nsanje</td>\n",
       "      <td>1</td>\n",
       "    </tr>\n",
       "    <tr>\n",
       "      <th>2</th>\n",
       "      <td>2002-03</td>\n",
       "      <td>Blantyre City</td>\n",
       "      <td>1</td>\n",
       "    </tr>\n",
       "    <tr>\n",
       "      <th>3</th>\n",
       "      <td>2002-03</td>\n",
       "      <td>Mulanje</td>\n",
       "      <td>1</td>\n",
       "    </tr>\n",
       "    <tr>\n",
       "      <th>4</th>\n",
       "      <td>2002-04</td>\n",
       "      <td>Nkhata Bay</td>\n",
       "      <td>1</td>\n",
       "    </tr>\n",
       "    <tr>\n",
       "      <th>...</th>\n",
       "      <td>...</td>\n",
       "      <td>...</td>\n",
       "      <td>...</td>\n",
       "    </tr>\n",
       "    <tr>\n",
       "      <th>126</th>\n",
       "      <td>2020-02</td>\n",
       "      <td>Blantyre City</td>\n",
       "      <td>1</td>\n",
       "    </tr>\n",
       "    <tr>\n",
       "      <th>127</th>\n",
       "      <td>2020-02</td>\n",
       "      <td>Chiradzulu</td>\n",
       "      <td>1</td>\n",
       "    </tr>\n",
       "    <tr>\n",
       "      <th>128</th>\n",
       "      <td>2020-02</td>\n",
       "      <td>Mulanje</td>\n",
       "      <td>1</td>\n",
       "    </tr>\n",
       "    <tr>\n",
       "      <th>129</th>\n",
       "      <td>2020-03</td>\n",
       "      <td>Chikwawa</td>\n",
       "      <td>1</td>\n",
       "    </tr>\n",
       "    <tr>\n",
       "      <th>130</th>\n",
       "      <td>2020-03</td>\n",
       "      <td>Mwanza</td>\n",
       "      <td>1</td>\n",
       "    </tr>\n",
       "  </tbody>\n",
       "</table>\n",
       "<p>131 rows × 3 columns</p>\n",
       "</div>"
      ],
      "text/plain": [
       "     ds_fd_m        ADM2_EN  dry_spell_first_date\n",
       "0    2001-04        Ntchisi                     1\n",
       "1    2002-02         Nsanje                     1\n",
       "2    2002-03  Blantyre City                     1\n",
       "3    2002-03        Mulanje                     1\n",
       "4    2002-04     Nkhata Bay                     1\n",
       "..       ...            ...                   ...\n",
       "126  2020-02  Blantyre City                     1\n",
       "127  2020-02     Chiradzulu                     1\n",
       "128  2020-02        Mulanje                     1\n",
       "129  2020-03       Chikwawa                     1\n",
       "130  2020-03         Mwanza                     1\n",
       "\n",
       "[131 rows x 3 columns]"
      ]
     },
     "execution_count": 51,
     "metadata": {},
     "output_type": "execute_result"
    }
   ],
   "source": [
    "df_ds_drymonth"
   ]
  },
  {
   "cell_type": "code",
   "execution_count": 52,
   "metadata": {},
   "outputs": [],
   "source": [
    "df_belowavg_month=pd.read_csv(os.path.join(country_data_processed_dir,\"observed_belowavg_precip\",\"chirps_monthly_below_average_precipitation.csv\"))\n",
    "df_belowavg_month.date_month=pd.to_datetime(df_belowavg_month.date_month).dt.to_period(\"M\")"
   ]
  },
  {
   "cell_type": "code",
   "execution_count": 53,
   "metadata": {},
   "outputs": [],
   "source": [
    "#df_belowavg_seas only includes data from 2000, so the 1999 entries are not included\n",
    "#remove the adm2-date entries outside the rainy season for that specific adm2\n",
    "#before we included all forecasts within the min start of the rainy season and max end across the whole country\n",
    "# total_days=0\n",
    "list_hist_rain_adm2=[]\n",
    "for a in df_rain_filled.ADM2_EN.unique():\n",
    "    dates_adm2=pd.Index([])\n",
    "    for i in df_rain_filled[df_rain_filled.ADM2_EN==a].season_approx.unique():\n",
    "        df_rain_adm2_seas=df_rain_filled[(df_rain_filled.ADM2_EN==a)&(df_rain_filled.season_approx==i)]\n",
    "        seas_range=pd.period_range(df_rain_adm2_seas.onset_date.values[0],df_rain_adm2_seas.cessation_date.values[0],freq=\"M\")\n",
    "        dates_adm2=dates_adm2.union(seas_range)\n",
    "    list_hist_rain_adm2.append(df_belowavg_month[(df_belowavg_month.ADM2_EN==a)&(df_belowavg_seas.date_month.isin(dates_adm2))])\n",
    "df_belowavg_month_rain=pd.concat(list_hist_rain_adm2)"
   ]
  },
  {
   "cell_type": "code",
   "execution_count": 54,
   "metadata": {},
   "outputs": [],
   "source": [
    "#merge the dry spells with the info if a month had below average rainfall\n",
    "#merge on outer such that all dates present in one of the two are included\n",
    "df_comb=df_ds_drymonth.merge(df_belowavg_month_rain,how=\"outer\",left_on=[\"ds_fd_m\",\"ADM2_EN\"],right_on=[\"date_month\",\"ADM2_EN\"])"
   ]
  },
  {
   "cell_type": "code",
   "execution_count": 55,
   "metadata": {},
   "outputs": [
    {
     "data": {
      "text/html": [
       "<div>\n",
       "<style scoped>\n",
       "    .dataframe tbody tr th:only-of-type {\n",
       "        vertical-align: middle;\n",
       "    }\n",
       "\n",
       "    .dataframe tbody tr th {\n",
       "        vertical-align: top;\n",
       "    }\n",
       "\n",
       "    .dataframe thead th {\n",
       "        text-align: right;\n",
       "    }\n",
       "</style>\n",
       "<table border=\"1\" class=\"dataframe\">\n",
       "  <thead>\n",
       "    <tr style=\"text-align: right;\">\n",
       "      <th></th>\n",
       "      <th>ds_fd_m</th>\n",
       "      <th>ADM2_EN</th>\n",
       "      <th>dry_spell_first_date</th>\n",
       "      <th>Shape_Leng</th>\n",
       "      <th>Shape_Area</th>\n",
       "      <th>ADM2_PCODE</th>\n",
       "      <th>ADM2_REF</th>\n",
       "      <th>ADM2ALT1EN</th>\n",
       "      <th>ADM2ALT2EN</th>\n",
       "      <th>ADM1_EN</th>\n",
       "      <th>...</th>\n",
       "      <th>validTo</th>\n",
       "      <th>perc_threshold</th>\n",
       "      <th>perc_threshold_touched</th>\n",
       "      <th>max_cell_touched</th>\n",
       "      <th>max_cell</th>\n",
       "      <th>below_average_touched</th>\n",
       "      <th>below_average_max</th>\n",
       "      <th>date_str</th>\n",
       "      <th>date_month</th>\n",
       "      <th>below_average</th>\n",
       "    </tr>\n",
       "  </thead>\n",
       "  <tbody>\n",
       "    <tr>\n",
       "      <th>0</th>\n",
       "      <td>2001-04</td>\n",
       "      <td>Ntchisi</td>\n",
       "      <td>1.0</td>\n",
       "      <td>2.085826</td>\n",
       "      <td>0.143596</td>\n",
       "      <td>MW203</td>\n",
       "      <td>NaN</td>\n",
       "      <td>NaN</td>\n",
       "      <td>NaN</td>\n",
       "      <td>Central</td>\n",
       "      <td>...</td>\n",
       "      <td>NaN</td>\n",
       "      <td>29.310345</td>\n",
       "      <td>34.146341</td>\n",
       "      <td>62.404381</td>\n",
       "      <td>62.404381</td>\n",
       "      <td>1</td>\n",
       "      <td>1</td>\n",
       "      <td>2001-04</td>\n",
       "      <td>2001-04</td>\n",
       "      <td>0</td>\n",
       "    </tr>\n",
       "    <tr>\n",
       "      <th>1</th>\n",
       "      <td>2002-02</td>\n",
       "      <td>Nsanje</td>\n",
       "      <td>1.0</td>\n",
       "      <td>2.975867</td>\n",
       "      <td>0.164336</td>\n",
       "      <td>MW311</td>\n",
       "      <td>NaN</td>\n",
       "      <td>NaN</td>\n",
       "      <td>NaN</td>\n",
       "      <td>Southern</td>\n",
       "      <td>...</td>\n",
       "      <td>NaN</td>\n",
       "      <td>62.121212</td>\n",
       "      <td>54.545455</td>\n",
       "      <td>174.907089</td>\n",
       "      <td>174.907089</td>\n",
       "      <td>1</td>\n",
       "      <td>1</td>\n",
       "      <td>2002-02</td>\n",
       "      <td>2002-02</td>\n",
       "      <td>1</td>\n",
       "    </tr>\n",
       "    <tr>\n",
       "      <th>2</th>\n",
       "      <td>2002-03</td>\n",
       "      <td>Blantyre City</td>\n",
       "      <td>1.0</td>\n",
       "      <td>0.818570</td>\n",
       "      <td>0.019929</td>\n",
       "      <td>MW315</td>\n",
       "      <td>NaN</td>\n",
       "      <td>NaN</td>\n",
       "      <td>NaN</td>\n",
       "      <td>Southern</td>\n",
       "      <td>...</td>\n",
       "      <td>NaN</td>\n",
       "      <td>0.000000</td>\n",
       "      <td>0.000000</td>\n",
       "      <td>-999.000000</td>\n",
       "      <td>-999.000000</td>\n",
       "      <td>0</td>\n",
       "      <td>0</td>\n",
       "      <td>2002-03</td>\n",
       "      <td>2002-03</td>\n",
       "      <td>0</td>\n",
       "    </tr>\n",
       "    <tr>\n",
       "      <th>3</th>\n",
       "      <td>2002-03</td>\n",
       "      <td>Mulanje</td>\n",
       "      <td>1.0</td>\n",
       "      <td>2.677536</td>\n",
       "      <td>0.168737</td>\n",
       "      <td>MW308</td>\n",
       "      <td>NaN</td>\n",
       "      <td>NaN</td>\n",
       "      <td>NaN</td>\n",
       "      <td>Southern</td>\n",
       "      <td>...</td>\n",
       "      <td>NaN</td>\n",
       "      <td>0.000000</td>\n",
       "      <td>0.000000</td>\n",
       "      <td>-999.000000</td>\n",
       "      <td>-999.000000</td>\n",
       "      <td>0</td>\n",
       "      <td>0</td>\n",
       "      <td>2002-03</td>\n",
       "      <td>2002-03</td>\n",
       "      <td>0</td>\n",
       "    </tr>\n",
       "    <tr>\n",
       "      <th>4</th>\n",
       "      <td>2002-04</td>\n",
       "      <td>Nkhata Bay</td>\n",
       "      <td>1.0</td>\n",
       "      <td>3.985252</td>\n",
       "      <td>0.345984</td>\n",
       "      <td>MW103</td>\n",
       "      <td>NaN</td>\n",
       "      <td>NaN</td>\n",
       "      <td>NaN</td>\n",
       "      <td>Northern</td>\n",
       "      <td>...</td>\n",
       "      <td>NaN</td>\n",
       "      <td>29.104478</td>\n",
       "      <td>32.795699</td>\n",
       "      <td>182.247345</td>\n",
       "      <td>182.247345</td>\n",
       "      <td>1</td>\n",
       "      <td>1</td>\n",
       "      <td>2002-04</td>\n",
       "      <td>2002-04</td>\n",
       "      <td>0</td>\n",
       "    </tr>\n",
       "  </tbody>\n",
       "</table>\n",
       "<p>5 rows × 25 columns</p>\n",
       "</div>"
      ],
      "text/plain": [
       "   ds_fd_m        ADM2_EN  dry_spell_first_date  Shape_Leng  Shape_Area  \\\n",
       "0  2001-04        Ntchisi                   1.0    2.085826    0.143596   \n",
       "1  2002-02         Nsanje                   1.0    2.975867    0.164336   \n",
       "2  2002-03  Blantyre City                   1.0    0.818570    0.019929   \n",
       "3  2002-03        Mulanje                   1.0    2.677536    0.168737   \n",
       "4  2002-04     Nkhata Bay                   1.0    3.985252    0.345984   \n",
       "\n",
       "  ADM2_PCODE  ADM2_REF  ADM2ALT1EN  ADM2ALT2EN   ADM1_EN  ... validTo  \\\n",
       "0      MW203       NaN         NaN         NaN   Central  ...     NaN   \n",
       "1      MW311       NaN         NaN         NaN  Southern  ...     NaN   \n",
       "2      MW315       NaN         NaN         NaN  Southern  ...     NaN   \n",
       "3      MW308       NaN         NaN         NaN  Southern  ...     NaN   \n",
       "4      MW103       NaN         NaN         NaN  Northern  ...     NaN   \n",
       "\n",
       "  perc_threshold perc_threshold_touched max_cell_touched    max_cell  \\\n",
       "0      29.310345              34.146341        62.404381   62.404381   \n",
       "1      62.121212              54.545455       174.907089  174.907089   \n",
       "2       0.000000               0.000000      -999.000000 -999.000000   \n",
       "3       0.000000               0.000000      -999.000000 -999.000000   \n",
       "4      29.104478              32.795699       182.247345  182.247345   \n",
       "\n",
       "   below_average_touched  below_average_max  date_str  date_month  \\\n",
       "0                      1                  1   2001-04     2001-04   \n",
       "1                      1                  1   2002-02     2002-02   \n",
       "2                      0                  0   2002-03     2002-03   \n",
       "3                      0                  0   2002-03     2002-03   \n",
       "4                      1                  1   2002-04     2002-04   \n",
       "\n",
       "   below_average  \n",
       "0              0  \n",
       "1              1  \n",
       "2              0  \n",
       "3              0  \n",
       "4              0  \n",
       "\n",
       "[5 rows x 25 columns]"
      ]
     },
     "execution_count": 55,
     "metadata": {},
     "output_type": "execute_result"
    }
   ],
   "source": [
    "df_comb.head()"
   ]
  },
  {
   "cell_type": "code",
   "execution_count": 56,
   "metadata": {},
   "outputs": [],
   "source": [
    "#dates that are not present in the dry spell list, but are in the observed rainfall df, thus have no dry spells\n",
    "df_comb.dry_spell_first_date=df_comb.dry_spell_first_date.replace(np.nan,0)"
   ]
  },
  {
   "cell_type": "code",
   "execution_count": 57,
   "metadata": {},
   "outputs": [
    {
     "name": "stdout",
     "output_type": "stream",
     "text": [
      "[[2872 1190]\n",
      " [  82   49]]\n"
     ]
    },
    {
     "data": {
      "image/png": "[encoded data removed]",
      "text/plain": [
       "<Figure size 432x288 with 1 Axes>"
      ]
     },
     "metadata": {
      "needs_background": "light"
     },
     "output_type": "display_data"
    }
   ],
   "source": [
    "#contigency matrix rainfall and dry spells for all months\n",
    "from mlxtend.evaluate import confusion_matrix\n",
    "from mlxtend.plotting import plot_confusion_matrix\n",
    "\n",
    "y_target =    df_comb[\"dry_spell_first_date\"]\n",
    "y_predicted = df_comb[\"below_average\"]\n",
    "\n",
    "cm = confusion_matrix(y_target=y_target, \n",
    "                      y_predicted=y_predicted)\n",
    "print(cm)\n",
    "\n",
    "fig, ax = plot_confusion_matrix(conf_mat=cm,show_absolute=True,show_normed=True) #,class_names=[\"No\",\"Yes\"])\n",
    "ax.set_ylabel(\"Dry spell in ADMIN2 during month\")\n",
    "ax.set_xlabel(\"Lower tercile precipitation in ADMIN2 during month\")\n",
    "plt.show()"
   ]
  }
 ],
 "metadata": {
  "kernelspec": {
   "display_name": "antact",
   "language": "python",
   "name": "antact"
  },
  "language_info": {
   "codemirror_mode": {
    "name": "ipython",
    "version": 3
   },
   "file_extension": ".py",
   "mimetype": "text/x-python",
   "name": "python",
   "nbconvert_exporter": "python",
   "pygments_lexer": "ipython3",
   "version": "3.8.5"
  }
 },
 "nbformat": 4,
 "nbformat_minor": 4
}
