{
 "cells": [
  {
   "cell_type": "markdown",
   "metadata": {},
   "source": [
    "### Analysis of CHIRPS-GEFS forecasts and observed dry spells\n",
    "\n",
    "This notebook downloads the CHIRPS-GEFS 15 day forecasts and computes statistics per ADMIN2 for Malawi. The notebook `mwi_chirpsgefs_corr_dryspells.ipynb` uses this output to understand the correlation between CHIRPS-GEFS and historically observed dry spells. \n",
    "\n",
    "#### CHIRPS-GEFS\n",
    "[CHIRPS-GEFS](https://chc.ucsb.edu/data/chirps-gefs) is the bias-corrected version of [GEFS](https://www.noaa.gov/media-release/noaa-upgrades-global-ensemble-forecast-system). GEFS is the Global Ensemble Forecast System from NOAA. CHIRPS observational data is used for the bias-correction. The forecast is published each day for the whole world with a 0.05 resolution. It is relatively new, started in 2018, and while it seems a respected source, little research articles exist around it. However, GEFS is a well-established source. Forecasts are available starting from 2000\n",
    "\n",
    "\n",
    "Questions\n",
    "- Could you double check if everything with the dates is going correctly? Sorry this is rather vague but scared to make mistakes that are crucial\n",
    "    - Is indeed the day of the year in the forecast file name is the first day of the forecast?\n",
    "    - Is it correct to set +timedelta(days=14) as last date of the forecast\n",
    "\n",
    "Future: \n",
    "The size of the CHIRPS-GEFS data is now 40GB... Could we do something to make that smaller/not have to save it locally?      \n",
    "    - ClimateServ includes CHIRPS-GEFS data and has an [API](https://github.com/Servir-Mekong/ClimateSERV_CHIRPS-GEFS/blob/master/Get_CHIRPS_GEFSv1/bin/ClimateServ_CHIPS-GEFS.py). Documentatio is limited but seems it is not the 15 day forecast though.. \n",
    "\n",
    "Data limitations:\n",
    "- No CHIRPS-GEFS data is available from 01-01-2020 till 05-10-2020. This data is available from the [older version of the model](https://data.chc.ucsb.edu/products/EWX/data/forecasts/CHIRPS-GEFS_precip/15day/Africa/precip_mean/), but our contact at CHC recommended to not use this\n",
    "\n",
    "\n",
    "Assumptions\n",
    "- The grid cell size is small enough to only look at cells with their centre within the region, not those touching"
   ]
  },
  {
   "cell_type": "markdown",
   "metadata": {},
   "source": [
    "### set general variables and functions"
   ]
  },
  {
   "cell_type": "code",
   "execution_count": 1,
   "metadata": {},
   "outputs": [],
   "source": [
    "%load_ext autoreload\n",
    "%autoreload 2"
   ]
  },
  {
   "cell_type": "code",
   "execution_count": 2,
   "metadata": {},
   "outputs": [],
   "source": [
    "import pandas as pd\n",
    "import numpy as np\n",
    "import matplotlib.pyplot as plt\n",
    "import geopandas as gpd\n",
    "from rasterstats import zonal_stats\n",
    "import rasterio\n",
    "from rasterio.enums import Resampling\n",
    "import matplotlib\n",
    "import matplotlib.colors as mcolors\n",
    "import xarray as xr\n",
    "import cftime\n",
    "import math\n",
    "import rioxarray\n",
    "from shapely.geometry import mapping\n",
    "import cartopy.crs as ccrs\n",
    "import matplotlib as mpl\n",
    "import datetime\n",
    "from datetime import timedelta\n",
    "import re\n",
    "import seaborn as sns"
   ]
  },
  {
   "cell_type": "code",
   "execution_count": 3,
   "metadata": {},
   "outputs": [],
   "source": [
    "from pathlib import Path\n",
    "import sys\n",
    "import os\n",
    "\n",
    "path_mod = f\"{Path(os.path.dirname(os.path.abspath(''))).parents[1]}/\"\n",
    "# print(path_mod)\n",
    "sys.path.append(path_mod)\n",
    "from src.indicators.drought.config import Config\n",
    "from src.utils_general.utils import download_ftp,download_url\n",
    "from src.utils_general.raster_manipulation import fix_calendar, invert_latlon, change_longitude_range\n",
    "from src.utils_general.plotting import plot_raster_boundaries_clip"
   ]
  },
  {
   "cell_type": "markdown",
   "metadata": {},
   "source": [
    "#### Set config values"
   ]
  },
  {
   "cell_type": "code",
   "execution_count": 4,
   "metadata": {},
   "outputs": [],
   "source": [
    "country=\"malawi\"\n",
    "config=Config()\n",
    "parameters = config.parameters(country)\n",
    "country_dir = os.path.join(config.DIR_PATH, config.ANALYSES_DIR, country)\n",
    "country_data_raw_dir = os.path.join(config.DATA_DIR,config.RAW_DIR,country)\n",
    "country_data_processed_dir = os.path.join(config.DATA_DIR,config.PROCESSED_DIR,country)\n",
    "country_data_exploration_dir = os.path.join(config.DATA_DIR,\"exploration\",country)\n",
    "drought_data_exploration_dir= os.path.join(config.DATA_DIR, \"exploration\",  'drought')\n",
    "cams_data_dir=os.path.join(drought_data_exploration_dir,\"CAMS_OPI\")\n",
    "cams_tercile_path=os.path.join(cams_data_dir,\"CAMS_tercile.nc\")\n",
    "chirps_monthly_dir=os.path.join(drought_data_exploration_dir,\"CHIRPS\")\n",
    "chirps_monthly_path=os.path.join(chirps_monthly_dir,\"chirps_global_monthly.nc\")"
   ]
  },
  {
   "cell_type": "code",
   "execution_count": 5,
   "metadata": {},
   "outputs": [],
   "source": [
    "chirpsgefs_dir = os.path.join(config.DROUGHTDATA_DIR,\"chirps_gefs\")"
   ]
  },
  {
   "cell_type": "code",
   "execution_count": 6,
   "metadata": {},
   "outputs": [],
   "source": [
    "adm1_bound_path=os.path.join(country_data_raw_dir,config.SHAPEFILE_DIR,parameters[\"path_admin1_shp\"])\n",
    "adm2_bound_path=os.path.join(country_data_raw_dir,config.SHAPEFILE_DIR,parameters[\"path_admin2_shp\"])"
   ]
  },
  {
   "cell_type": "markdown",
   "metadata": {},
   "source": [
    "#### Rainy season\n",
    "Compute a datetimeindex with all dates across all rainy seasons. Only data for these dates will be downloaded, to prevent the data from becoming even more massive"
   ]
  },
  {
   "cell_type": "code",
   "execution_count": 7,
   "metadata": {},
   "outputs": [],
   "source": [
    "#path to data start and end rainy season\n",
    "df_rain=pd.read_csv(os.path.join(country_data_processed_dir,\"dry_spells\",\"rainy_seasons_detail_2000_2020_mean_back.csv\"))\n",
    "df_rain[\"onset_date\"]=pd.to_datetime(df_rain[\"onset_date\"])\n",
    "df_rain[\"cessation_date\"]=pd.to_datetime(df_rain[\"cessation_date\"])"
   ]
  },
  {
   "cell_type": "code",
   "execution_count": 8,
   "metadata": {},
   "outputs": [
    {
     "data": {
      "text/html": [
       "<div>\n",
       "<style scoped>\n",
       "    .dataframe tbody tr th:only-of-type {\n",
       "        vertical-align: middle;\n",
       "    }\n",
       "\n",
       "    .dataframe tbody tr th {\n",
       "        vertical-align: top;\n",
       "    }\n",
       "\n",
       "    .dataframe thead th {\n",
       "        text-align: right;\n",
       "    }\n",
       "</style>\n",
       "<table border=\"1\" class=\"dataframe\">\n",
       "  <thead>\n",
       "    <tr style=\"text-align: right;\">\n",
       "      <th></th>\n",
       "      <th>ID</th>\n",
       "      <th>pcode</th>\n",
       "      <th>ADM2_EN</th>\n",
       "      <th>season_approx</th>\n",
       "      <th>onset_date</th>\n",
       "      <th>onset_month</th>\n",
       "      <th>cessation_date</th>\n",
       "      <th>cessation_month</th>\n",
       "      <th>rainy_season_duration</th>\n",
       "      <th>rainy_season_rainfall</th>\n",
       "    </tr>\n",
       "  </thead>\n",
       "  <tbody>\n",
       "    <tr>\n",
       "      <th>0</th>\n",
       "      <td>6.0</td>\n",
       "      <td>MW101</td>\n",
       "      <td>Chitipa</td>\n",
       "      <td>1999</td>\n",
       "      <td>NaT</td>\n",
       "      <td>NaN</td>\n",
       "      <td>2000-04-11</td>\n",
       "      <td>4.0</td>\n",
       "      <td>NaN</td>\n",
       "      <td>NaN</td>\n",
       "    </tr>\n",
       "    <tr>\n",
       "      <th>1</th>\n",
       "      <td>6.0</td>\n",
       "      <td>MW101</td>\n",
       "      <td>Chitipa</td>\n",
       "      <td>2000</td>\n",
       "      <td>2000-11-15</td>\n",
       "      <td>11.0</td>\n",
       "      <td>2001-04-03</td>\n",
       "      <td>4.0</td>\n",
       "      <td>140.0</td>\n",
       "      <td>1048.5</td>\n",
       "    </tr>\n",
       "    <tr>\n",
       "      <th>2</th>\n",
       "      <td>6.0</td>\n",
       "      <td>MW101</td>\n",
       "      <td>Chitipa</td>\n",
       "      <td>2001</td>\n",
       "      <td>2001-12-06</td>\n",
       "      <td>12.0</td>\n",
       "      <td>2002-04-21</td>\n",
       "      <td>4.0</td>\n",
       "      <td>137.0</td>\n",
       "      <td>1017.4</td>\n",
       "    </tr>\n",
       "    <tr>\n",
       "      <th>3</th>\n",
       "      <td>6.0</td>\n",
       "      <td>MW101</td>\n",
       "      <td>Chitipa</td>\n",
       "      <td>2002</td>\n",
       "      <td>2002-12-13</td>\n",
       "      <td>12.0</td>\n",
       "      <td>2003-04-12</td>\n",
       "      <td>4.0</td>\n",
       "      <td>121.0</td>\n",
       "      <td>903.0</td>\n",
       "    </tr>\n",
       "    <tr>\n",
       "      <th>4</th>\n",
       "      <td>6.0</td>\n",
       "      <td>MW101</td>\n",
       "      <td>Chitipa</td>\n",
       "      <td>2003</td>\n",
       "      <td>2003-12-02</td>\n",
       "      <td>12.0</td>\n",
       "      <td>2004-03-17</td>\n",
       "      <td>3.0</td>\n",
       "      <td>107.0</td>\n",
       "      <td>736.4</td>\n",
       "    </tr>\n",
       "  </tbody>\n",
       "</table>\n",
       "</div>"
      ],
      "text/plain": [
       "    ID  pcode  ADM2_EN  season_approx onset_date  onset_month cessation_date  \\\n",
       "0  6.0  MW101  Chitipa           1999        NaT          NaN     2000-04-11   \n",
       "1  6.0  MW101  Chitipa           2000 2000-11-15         11.0     2001-04-03   \n",
       "2  6.0  MW101  Chitipa           2001 2001-12-06         12.0     2002-04-21   \n",
       "3  6.0  MW101  Chitipa           2002 2002-12-13         12.0     2003-04-12   \n",
       "4  6.0  MW101  Chitipa           2003 2003-12-02         12.0     2004-03-17   \n",
       "\n",
       "   cessation_month  rainy_season_duration  rainy_season_rainfall  \n",
       "0              4.0                    NaN                    NaN  \n",
       "1              4.0                  140.0                 1048.5  \n",
       "2              4.0                  137.0                 1017.4  \n",
       "3              4.0                  121.0                  903.0  \n",
       "4              3.0                  107.0                  736.4  "
      ]
     },
     "execution_count": 8,
     "metadata": {},
     "output_type": "execute_result"
    }
   ],
   "source": [
    "df_rain.head()"
   ]
  },
  {
   "cell_type": "code",
   "execution_count": 10,
   "metadata": {},
   "outputs": [],
   "source": [
    "# #surprised 2020 earlies start is 01-12..\n",
    "# df_rain[df_rain.onset_date.dt.year==2020]"
   ]
  },
  {
   "cell_type": "code",
   "execution_count": 11,
   "metadata": {},
   "outputs": [],
   "source": [
    "#set the onset and cessation date for the seasons with those dates missing (meaning there was no dry spell data from start/till end of the season)\n",
    "df_rain_filled=df_rain.copy()\n",
    "#remove entries where there is no onset and no cessation date. this happens for some adm2's in 2020\n",
    "df_rain_filled=df_rain_filled[(df_rain_filled.onset_date.notnull())|(df_rain_filled.cessation_date.notnull())]\n",
    "#if onset date or cessation date is missing, set it to Nov 1/Jul1 to make sure all data of that year is downloaded\n",
    "df_rain_filled[df_rain_filled.onset_date.isnull()]=df_rain_filled[df_rain_filled.onset_date.isnull()].assign(onset_date=lambda df: pd.to_datetime(f\"{df.season_approx.values[0]}-11-01\"))\n",
    "df_rain_filled[df_rain_filled.cessation_date.isnull()]=df_rain_filled[df_rain_filled.cessation_date.isnull()].assign(cessation_date=lambda df: pd.to_datetime(f\"{df.season_approx.values[0]+1}-07-01\"))"
   ]
  },
  {
   "cell_type": "code",
   "execution_count": 12,
   "metadata": {},
   "outputs": [],
   "source": [
    "#get min onset and max cessation for each season across all admin2's\n",
    "df_rain_seas=df_rain_filled.groupby(\"season_approx\",as_index=False).agg({'onset_date': np.min,\"cessation_date\":np.max})"
   ]
  },
  {
   "cell_type": "code",
   "execution_count": 13,
   "metadata": {},
   "outputs": [
    {
     "data": {
      "text/html": [
       "<div>\n",
       "<style scoped>\n",
       "    .dataframe tbody tr th:only-of-type {\n",
       "        vertical-align: middle;\n",
       "    }\n",
       "\n",
       "    .dataframe tbody tr th {\n",
       "        vertical-align: top;\n",
       "    }\n",
       "\n",
       "    .dataframe thead th {\n",
       "        text-align: right;\n",
       "    }\n",
       "</style>\n",
       "<table border=\"1\" class=\"dataframe\">\n",
       "  <thead>\n",
       "    <tr style=\"text-align: right;\">\n",
       "      <th></th>\n",
       "      <th>season_approx</th>\n",
       "      <th>onset_date</th>\n",
       "      <th>cessation_date</th>\n",
       "    </tr>\n",
       "  </thead>\n",
       "  <tbody>\n",
       "    <tr>\n",
       "      <th>0</th>\n",
       "      <td>1999</td>\n",
       "      <td>1999-11-01</td>\n",
       "      <td>2000-04-14</td>\n",
       "    </tr>\n",
       "    <tr>\n",
       "      <th>1</th>\n",
       "      <td>2000</td>\n",
       "      <td>2000-11-01</td>\n",
       "      <td>2001-04-20</td>\n",
       "    </tr>\n",
       "    <tr>\n",
       "      <th>2</th>\n",
       "      <td>2001</td>\n",
       "      <td>2001-11-17</td>\n",
       "      <td>2002-04-21</td>\n",
       "    </tr>\n",
       "    <tr>\n",
       "      <th>3</th>\n",
       "      <td>2002</td>\n",
       "      <td>2002-11-06</td>\n",
       "      <td>2003-04-26</td>\n",
       "    </tr>\n",
       "    <tr>\n",
       "      <th>4</th>\n",
       "      <td>2003</td>\n",
       "      <td>2003-11-07</td>\n",
       "      <td>2004-04-22</td>\n",
       "    </tr>\n",
       "  </tbody>\n",
       "</table>\n",
       "</div>"
      ],
      "text/plain": [
       "   season_approx onset_date cessation_date\n",
       "0           1999 1999-11-01     2000-04-14\n",
       "1           2000 2000-11-01     2001-04-20\n",
       "2           2001 2001-11-17     2002-04-21\n",
       "3           2002 2002-11-06     2003-04-26\n",
       "4           2003 2003-11-07     2004-04-22"
      ]
     },
     "execution_count": 13,
     "metadata": {},
     "output_type": "execute_result"
    }
   ],
   "source": [
    "df_rain_seas.head()"
   ]
  },
  {
   "cell_type": "code",
   "execution_count": 14,
   "metadata": {},
   "outputs": [],
   "source": [
    "#create a daterange index including all dates within rainy seasons\n",
    "all_dates=pd.Index([])\n",
    "for i in df_rain_seas.season_approx.unique():\n",
    "    seas_range=pd.date_range(df_rain_seas[df_rain_seas.season_approx==i].onset_date.values[0],df_rain_seas[df_rain_seas.season_approx==i].cessation_date.values[0])\n",
    "    all_dates=all_dates.union(seas_range)"
   ]
  },
  {
   "cell_type": "code",
   "execution_count": 15,
   "metadata": {},
   "outputs": [
    {
     "data": {
      "text/plain": [
       "Index([1999-11-01 00:00:00, 1999-11-02 00:00:00, 1999-11-03 00:00:00,\n",
       "       1999-11-04 00:00:00, 1999-11-05 00:00:00, 1999-11-06 00:00:00,\n",
       "       1999-11-07 00:00:00, 1999-11-08 00:00:00, 1999-11-09 00:00:00,\n",
       "       1999-11-10 00:00:00,\n",
       "       ...\n",
       "       2021-06-22 00:00:00, 2021-06-23 00:00:00, 2021-06-24 00:00:00,\n",
       "       2021-06-25 00:00:00, 2021-06-26 00:00:00, 2021-06-27 00:00:00,\n",
       "       2021-06-28 00:00:00, 2021-06-29 00:00:00, 2021-06-30 00:00:00,\n",
       "       2021-07-01 00:00:00],\n",
       "      dtype='object', length=3639)"
      ]
     },
     "execution_count": 15,
     "metadata": {},
     "output_type": "execute_result"
    }
   ],
   "source": [
    "all_dates"
   ]
  },
  {
   "cell_type": "markdown",
   "metadata": {},
   "source": [
    "### Download CHIRPS-GEFS Africa data\n",
    "We focus on the 15 day forecast, which is released every day.\n",
    "\n",
    "We are focussing on the Africa data, since global data gets massive. Nevertheless, even for Africa it gets massive. "
   ]
  },
  {
   "cell_type": "code",
   "execution_count": 15,
   "metadata": {},
   "outputs": [],
   "source": [
    "#ftp url, where year and the start_date are variable\n",
    "#start_date is the day of the year for which the forecast starts\n",
    "chirpsgefs_ftp_url_africa_15day=\"https://data.chc.ucsb.edu/products/EWX/data/forecasts/CHIRPS-GEFS_precip_v12/15day/Africa/precip_mean/data.{year}.{start_day}.tif\""
   ]
  },
  {
   "cell_type": "code",
   "execution_count": 16,
   "metadata": {},
   "outputs": [],
   "source": [
    "#part of 2020 data is missing. Might be available with this URL, but uncertain what the difference is. Mailed Pete Peterson on 02-03\n",
    "#https://data.chc.ucsb.edu/products/EWX/data/forecasts/CHIRPS-GEFS_precip/15day/Africa/precip_mean/"
   ]
  },
  {
   "cell_type": "code",
   "execution_count": 17,
   "metadata": {},
   "outputs": [],
   "source": [
    "def download_chirpsgefs(date,output_dir,chirpsgefs_ftp_url,days=\"\"):\n",
    "    \"\"\"\n",
    "    Download the chirps-gefs africa 15 day forecast for the given year and day of the year\n",
    "    Currently in expiremntation style code\n",
    "    days: number of days forecast predicts ahead. When using 15 day, set to empty string\n",
    "    \"\"\"\n",
    "    \n",
    "    year=date.year\n",
    "    day_year=str(date.timetuple().tm_yday).zfill(3)\n",
    "    date_str=date.strftime(\"%Y%m%d\")\n",
    "    chirpsgefs_filepath = os.path.join(chirpsgefs_dir, f\"chirpsgefs{days}_africa_{date_str}.tif\")\n",
    "    if not os.path.exists(chirpsgefs_filepath):\n",
    "        print(date_str)\n",
    "        print(chirpsgefs_ftp_url.format(year=year,start_day=day_year))\n",
    "        try:\n",
    "            download_ftp(chirpsgefs_ftp_url.format(year=year,start_day=day_year), chirpsgefs_filepath)\n",
    "        except Exception as e: \n",
    "            print(f'CHIRPS-GEFS data not available for {date}')\n",
    "            print(e)"
   ]
  },
  {
   "cell_type": "code",
   "execution_count": 18,
   "metadata": {},
   "outputs": [],
   "source": [
    "# # only needed if not downloaded yet\n",
    "# #download all the data\n",
    "# for d in all_dates:\n",
    "#     download_chirpsgefs(d,chirpsgefs_dir,chirpsgefs_ftp_url_africa_15day)"
   ]
  },
  {
   "cell_type": "code",
   "execution_count": 19,
   "metadata": {},
   "outputs": [],
   "source": [
    "def ds_stats_adm(ds, raster_transform, date, adm_path,ds_thresh_list=[2,10]):\n",
    "    # compute statistics on level in adm_path for all dates in ds\n",
    "    df = gpd.read_file(adm_path)\n",
    "    # df[\"max_cell_touched\"] = pd.DataFrame(\n",
    "    #     zonal_stats(vectors=df, raster=ds.values, affine=raster_transform, all_touched=True, nodata=np.nan))[\"max\"]\n",
    "    # df[\"min_cell_touched\"] = pd.DataFrame(\n",
    "    #     zonal_stats(vectors=df, raster=ds.values, affine=raster_transform, all_touched=True, nodata=np.nan))[\"min\"]\n",
    "    df[\"max_cell\"] = pd.DataFrame(\n",
    "        zonal_stats(vectors=df, raster=ds.values, affine=raster_transform, nodata=np.nan))[\"max\"]\n",
    "    df[\"min_cell\"] = pd.DataFrame(\n",
    "        zonal_stats(vectors=df, raster=ds.values, affine=raster_transform, nodata=np.nan))[\"min\"]\n",
    "    df[\"mean_cell\"] = pd.DataFrame(\n",
    "        zonal_stats(vectors=df, raster=ds.values, affine=raster_transform, nodata=np.nan))[\"mean\"]\n",
    "\n",
    "    for thres in ds_thresh_list:\n",
    "        # compute the percentage of the admin area that has cells below the threshold\n",
    "        # set all values with below average rainfall to 1 and others to 0\n",
    "        forecast_binary = np.where(ds.values <= thres, 1, 0)\n",
    "        # compute number of cells in admin region (sum) and number of cells in admin region with below average rainfall (count)\n",
    "        bin_zonal = pd.DataFrame(\n",
    "            zonal_stats(vectors=df, raster=forecast_binary, affine=raster_transform, stats=['count', 'sum'],\n",
    "                        nodata=np.nan))\n",
    "        df[f'perc_se{thres}'] = bin_zonal['sum'] / bin_zonal['count'] * 100\n",
    "\n",
    "    df[\"date\"] = pd.to_datetime(date)\n",
    "\n",
    "    df[\"date_forec_end\"] = df[\"date\"] + timedelta(days=14)\n",
    "\n",
    "    return df"
   ]
  },
  {
   "cell_type": "code",
   "execution_count": 21,
   "metadata": {},
   "outputs": [],
   "source": [
    "#this takes some time to compute, couple of hours at max\n",
    "df_list=[]\n",
    "#load the tif file for each date and compute the statistics\n",
    "for d in all_dates: \n",
    "    d_str=pd.to_datetime(d).strftime(\"%Y%m%d\")\n",
    "    filename=f\"chirpsgefs_africa_{d_str}.tif\"\n",
    "    try:\n",
    "        rds=rioxarray.open_rasterio(os.path.join(chirpsgefs_dir,filename))\n",
    "        df_date = ds_stats_adm(rds.sel(band=1), rds.rio.transform(), d_str, adm2_bound_path)\n",
    "        df_list.append(df_date)\n",
    "    except Exception as e:\n",
    "            print(e)\n",
    "            print(filename)\n",
    "            print(d_str)\n",
    "df_hist_all=pd.concat(df_list)"
   ]
  },
  {
   "cell_type": "code",
   "execution_count": 22,
   "metadata": {},
   "outputs": [],
   "source": [
    "#remove the adm2-date entries outside the rainy season for that specific adm2\n",
    "#before we included all forecasts within the min start of the rainy season and max end across the whole country\n",
    "list_hist_rain_adm2=[]\n",
    "for a in df_hist_all.ADM2_EN.unique():\n",
    "    dates_adm2=pd.Index([])\n",
    "    for i in df_rain_filled[df_rain_filled.ADM2_EN==a].season_approx.unique():\n",
    "        seas_range=pd.date_range(df_rain_filled[(df_rain_filled.ADM2_EN==a)&(df_rain_filled.season_approx==i)].onset_date.values[0],df_rain_filled[(df_rain_filled.ADM2_EN==a)&(df_rain_filled.season_approx==i)].cessation_date.values[0])\n",
    "        dates_adm2=dates_adm2.union(seas_range)\n",
    "    list_hist_rain_adm2.append(df_hist_all[(df_hist_all.ADM2_EN==a)&(df_hist_all.date.isin(dates_adm2))])\n",
    "df_hist_rain_adm2=pd.concat(list_hist_rain_adm2)"
   ]
  },
  {
   "cell_type": "code",
   "execution_count": null,
   "metadata": {},
   "outputs": [],
   "source": [
    "# #save file\n",
    "# hist_path=os.path.join(country_data_exploration_dir,\"chirpsgefs\",\"mwi_chirpsgefs_rainyseas_stats_mean_back.csv\")\n",
    "# df_hist_rain_adm2.drop(\"geometry\",axis=1).to_csv(hist_path,index=False)"
   ]
  },
  {
   "cell_type": "markdown",
   "metadata": {},
   "source": [
    "### Archive"
   ]
  },
  {
   "cell_type": "code",
   "execution_count": null,
   "metadata": {},
   "outputs": [],
   "source": [
    "# #redownload broken files\n",
    "# for d in [\"2010-05-07\",\"2011-05-17\",\"2012-02-29\",\"2012-05-17\",\"2013-05-17\",\"2015-05-17\",\"2016-02-29\",\"2016-05-17\",\"2017-05-17\",\"2018-05-17\",\"2019-05-17\",\"2000-10-23\",\"2002-09-09\",\"2007-04-30\"]:\n",
    "#     date=pd.to_datetime(d)\n",
    "#     download_chirpsgefs(date,chirpsgefs_dir)"
   ]
  },
  {
   "cell_type": "code",
   "execution_count": null,
   "metadata": {},
   "outputs": [],
   "source": [
    "# #chirpsgefs 5 day forecast download\n",
    "# df_ds=pd.read_csv(os.path.join(country_data_processed_dir,\"dry_spells\",\"dry_spells_during_rainy_season_list_2000_2020_mean.csv\"))\n",
    "# df_ds[\"dry_spell_first_date\"]=pd.to_datetime(df_ds[\"dry_spell_first_date\"])\n",
    "# df_ds[\"dry_spell_last_date\"]=pd.to_datetime(df_ds[\"dry_spell_last_date\"])\n",
    "# #ftp url, where year and the start_date are variable\n",
    "# #start_date is the day of the year for which the forecast starts\n",
    "# chirpsgefs_ftp_url_africa_5day=\"https://data.chc.ucsb.edu/products/EWX/data/forecasts/CHIRPS-GEFS_precip_v12/05day/Africa/precip_mean/data.{year}.{start_day}.tif\"\n",
    "# # only needed if not downloaded yet\n",
    "# #download all the data\n",
    "# for d in df_ds.dry_spell_first_date.unique():\n",
    "#     download_chirpsgefs(pd.to_datetime(d),chirpsgefs_dir,chirpsgefs_ftp_url_africa_5day,days=\"_5day\")"
   ]
  }
 ],
 "metadata": {
  "kernelspec": {
   "display_name": "antact",
   "language": "python",
   "name": "antact"
  },
  "language_info": {
   "codemirror_mode": {
    "name": "ipython",
    "version": 3
   },
   "file_extension": ".py",
   "mimetype": "text/x-python",
   "name": "python",
   "nbconvert_exporter": "python",
   "pygments_lexer": "ipython3",
   "version": "3.8.5"
  }
 },
 "nbformat": 4,
 "nbformat_minor": 4
}
