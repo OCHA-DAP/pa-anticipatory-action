{
 "cells": [
  {
   "cell_type": "markdown",
   "metadata": {},
   "source": [
    "### Agricultural Stress Index (ASI)\n",
    "Exploration of ASI for Malawi and its correlation with dry spells.  \n",
    "Note that the ASI is not specifically callibrated for Malawi and thus might not result in the most accurate capturing of the actual agricultural stress"
   ]
  },
  {
   "cell_type": "code",
   "execution_count": 1,
   "metadata": {},
   "outputs": [],
   "source": [
    "%load_ext autoreload\n",
    "%autoreload 2"
   ]
  },
  {
   "cell_type": "code",
   "execution_count": 2,
   "metadata": {},
   "outputs": [],
   "source": [
    "import pandas as pd\n",
    "import numpy as np\n",
    "import matplotlib.pyplot as plt\n",
    "import geopandas as gpd\n",
    "from rasterstats import zonal_stats\n",
    "import rasterio\n",
    "from rasterio.enums import Resampling\n",
    "import matplotlib.colors as mcolors\n",
    "import xarray as xr\n",
    "import cftime\n",
    "import math\n",
    "import rioxarray\n",
    "from shapely.geometry import mapping\n",
    "import cartopy.crs as ccrs\n",
    "import matplotlib as mpl\n",
    "import seaborn as sns"
   ]
  },
  {
   "cell_type": "code",
   "execution_count": 3,
   "metadata": {},
   "outputs": [
    {
     "name": "stdout",
     "output_type": "stream",
     "text": [
      "/Users/tinkavalentijn/Documents/CHD/AAFI/pa-anticipatory-action/\n"
     ]
    }
   ],
   "source": [
    "from pathlib import Path\n",
    "import sys\n",
    "import os\n",
    "\n",
    "path_mod = f\"{Path(os.path.dirname(os.path.abspath(''))).parents[1]}/\"\n",
    "print(path_mod)\n",
    "sys.path.append(path_mod)\n",
    "from src.indicators.drought.config import Config\n",
    "from src.utils_general.utils import download_url"
   ]
  },
  {
   "cell_type": "code",
   "execution_count": 4,
   "metadata": {},
   "outputs": [],
   "source": [
    "def plot_geo_var(df, sub_col, var_col, title=None, predef_bins=None, colp_num=2, cmap='YlOrRd',figsize=(16,9)):\n",
    "    #plots one legend for all subplots. Version in eth notebook plots legend per subplot\n",
    "    \"\"\"\n",
    "    Plot the values of \"col\" for the dates present in df_trig\n",
    "    If giving predef_bins then the data will be colored according to the bins, else a different colour will be assigned to each unique value in the data for each date\n",
    "    df: DataFrame containing all the data of all regions\n",
    "    df_trig: DataFrame containing the dates for which plots should be shown (generally those dates that the trigger is met)\n",
    "    col: string with column to plot\n",
    "    shape_path: relative path to the admin1 shapefile\n",
    "    title: string with title of whole figure (so not the subplots)\n",
    "    predef_bins: list with bin values\n",
    "    \"\"\"\n",
    "\n",
    "    num_plots = len(df[sub_col].unique())\n",
    "    if num_plots==1:\n",
    "        colp_num=1\n",
    "    rows = math.ceil(num_plots / colp_num)\n",
    "\n",
    "    position = range(1, num_plots + 1)\n",
    "    fig, axs = plt.subplots(rows,colp_num,figsize=figsize, \n",
    "                        facecolor='w',\n",
    "                        constrained_layout=True, \n",
    "                        sharex=True, sharey=True, \n",
    "                        subplot_kw=dict(aspect='equal'))\n",
    "\n",
    "    axs = axs.ravel()\n",
    "\n",
    "    if predef_bins is not None:\n",
    "        scheme = None\n",
    "        norm2 = mcolors.BoundaryNorm(boundaries=predef_bins, ncolors=256)\n",
    "        legend_kwds=None\n",
    "    else:\n",
    "        scheme = \"natural_breaks\"\n",
    "        norm2 = None\n",
    "        legend_kwds = {'bbox_to_anchor': (1.6, 1)}\n",
    "\n",
    "\n",
    "    for i, c in enumerate(df[sub_col].unique()):\n",
    "        df_sub = df[df[sub_col] == c]\n",
    "        #if no predef bins, set unique color for each unique value\n",
    "        if predef_bins is None:\n",
    "            colors = len(df_sub[var_col].dropna().unique())\n",
    "        #else colors will be determined by norm and cmap\n",
    "        else:\n",
    "            colors = None\n",
    "\n",
    "        if df_sub[var_col].isnull().values.all():\n",
    "            print(f\"No not-NaN values for {c}\")\n",
    "        elif df_sub[var_col].isnull().values.any():\n",
    "            df_sub.plot(var_col, ax=axs[i], cmap=cmap, k=colors, norm=norm2, legend=False, scheme=scheme,\n",
    "                        missing_kwds={\"color\": \"lightgrey\", \"edgecolor\": \"red\",\n",
    "                                      \"hatch\": \"///\",\n",
    "                                      \"label\": \"Missing values\"})\n",
    "        else:\n",
    "            df_sub.plot(var_col, ax=axs[i], cmap=cmap, k=colors, norm=norm2, legend=False, scheme=scheme)\n",
    "        df.boundary.plot(linewidth=0.2, ax=axs[i])\n",
    "\n",
    "        axs[i].axis(\"off\")\n",
    "        axs[i].set_title(c)\n",
    "    patch_col = axs[0].collections[0]\n",
    "    cb = fig.colorbar(patch_col, ax=axs, shrink=0.5)\n",
    "\n",
    "        \n",
    "    if title:\n",
    "        fig.suptitle(title, fontsize=14, y=0.92)\n",
    "\n",
    "    return fig"
   ]
  },
  {
   "cell_type": "code",
   "execution_count": 5,
   "metadata": {},
   "outputs": [],
   "source": [
    "def get_new_name(name, n_dict):\n",
    "    \"\"\"\n",
    "    Return the values of a dict if name is in the keys of the dict\n",
    "    Args:\n",
    "        name: string of interest\n",
    "        n_dict: dict with possibly \"name\" as key\n",
    "\n",
    "    Returns:\n",
    "\n",
    "    \"\"\"\n",
    "    if name in n_dict.keys():\n",
    "        return n_dict[name]\n",
    "    else:\n",
    "        return name"
   ]
  },
  {
   "cell_type": "markdown",
   "metadata": {},
   "source": [
    "#### Set config values"
   ]
  },
  {
   "cell_type": "code",
   "execution_count": 6,
   "metadata": {},
   "outputs": [],
   "source": [
    "country=\"malawi\"\n",
    "config=Config()\n",
    "parameters = config.parameters(country)\n",
    "country_folder = os.path.join(config.DATA_DIR, \"raw\", country)\n",
    "country_folder_exploration = os.path.join(config.DATA_DIR, \"exploration\", country)"
   ]
  },
  {
   "cell_type": "code",
   "execution_count": 7,
   "metadata": {},
   "outputs": [],
   "source": [
    "adm1_bound_path=os.path.join(country_folder,config.SHAPEFILE_DIR,parameters[\"path_admin1_shp\"])\n",
    "adm2_bound_path=os.path.join(country_folder,config.SHAPEFILE_DIR,parameters[\"path_admin2_shp\"])"
   ]
  },
  {
   "cell_type": "code",
   "execution_count": 8,
   "metadata": {},
   "outputs": [],
   "source": [
    "#annual summary\n",
    "asi_url_annual=f\"http://www.fao.org/giews/earthobservation/asis/data/country/{parameters['iso3_code']}/MAP_ASI/DATA/ASI_AnnualSummary_Season1_data.csv\"\n",
    "##dekad summary\n",
    "asi_url_dekad=f\"http://www.fao.org/giews/earthobservation/asis/data/country/{parameters['iso3_code']}/MAP_ASI/DATA/ASI_Dekad_Season1_data.csv\""
   ]
  },
  {
   "cell_type": "code",
   "execution_count": 9,
   "metadata": {},
   "outputs": [],
   "source": [
    "# #only needed if not downloaded yet\n",
    "# download_url(asi_url_annual,os.path.join(country_folder_exploration,\"ASI\",f\"{country}_asi_annual.csv\"))\n",
    "# download_url(asi_url_dekad,os.path.join(country_folder_exploration,\"ASI\",f\"{country}_asi_dekad.csv\"))"
   ]
  },
  {
   "cell_type": "markdown",
   "metadata": {},
   "source": [
    "### Per year\n",
    "For dry spells we probably need to use the dekad data, but to get an idea of the values\n",
    "ASI is only reported at ADM1 so need to see how we map that with the ADM2 dry spell data"
   ]
  },
  {
   "cell_type": "code",
   "execution_count": 10,
   "metadata": {},
   "outputs": [],
   "source": [
    "df=pd.read_csv(os.path.join(country_folder_exploration,\"ASI\",f\"{country}_asi_annual.csv\"))\n",
    "df.columns = map(str.lower, df.columns)"
   ]
  },
  {
   "cell_type": "code",
   "execution_count": 11,
   "metadata": {},
   "outputs": [
    {
     "data": {
      "text/html": [
       "<div>\n",
       "<style scoped>\n",
       "    .dataframe tbody tr th:only-of-type {\n",
       "        vertical-align: middle;\n",
       "    }\n",
       "\n",
       "    .dataframe tbody tr th {\n",
       "        vertical-align: top;\n",
       "    }\n",
       "\n",
       "    .dataframe thead th {\n",
       "        text-align: right;\n",
       "    }\n",
       "</style>\n",
       "<table border=\"1\" class=\"dataframe\">\n",
       "  <thead>\n",
       "    <tr style=\"text-align: right;\">\n",
       "      <th></th>\n",
       "      <th>crop_mask</th>\n",
       "      <th>country</th>\n",
       "      <th>adm1_code</th>\n",
       "      <th>province</th>\n",
       "      <th>year</th>\n",
       "      <th>data</th>\n",
       "      <th>unit</th>\n",
       "    </tr>\n",
       "  </thead>\n",
       "  <tbody>\n",
       "    <tr>\n",
       "      <th>0</th>\n",
       "      <td>Cropland</td>\n",
       "      <td>Malawi</td>\n",
       "      <td>NaN</td>\n",
       "      <td>ALL</td>\n",
       "      <td>2019</td>\n",
       "      <td>5.238</td>\n",
       "      <td>VHI % below 35</td>\n",
       "    </tr>\n",
       "    <tr>\n",
       "      <th>1</th>\n",
       "      <td>Cropland</td>\n",
       "      <td>Malawi</td>\n",
       "      <td>NaN</td>\n",
       "      <td>ALL</td>\n",
       "      <td>2018</td>\n",
       "      <td>4.480</td>\n",
       "      <td>VHI % below 35</td>\n",
       "    </tr>\n",
       "    <tr>\n",
       "      <th>2</th>\n",
       "      <td>Cropland</td>\n",
       "      <td>Malawi</td>\n",
       "      <td>NaN</td>\n",
       "      <td>ALL</td>\n",
       "      <td>2017</td>\n",
       "      <td>1.301</td>\n",
       "      <td>VHI % below 35</td>\n",
       "    </tr>\n",
       "    <tr>\n",
       "      <th>3</th>\n",
       "      <td>Cropland</td>\n",
       "      <td>Malawi</td>\n",
       "      <td>NaN</td>\n",
       "      <td>ALL</td>\n",
       "      <td>2016</td>\n",
       "      <td>18.457</td>\n",
       "      <td>VHI % below 35</td>\n",
       "    </tr>\n",
       "    <tr>\n",
       "      <th>4</th>\n",
       "      <td>Cropland</td>\n",
       "      <td>Malawi</td>\n",
       "      <td>NaN</td>\n",
       "      <td>ALL</td>\n",
       "      <td>2015</td>\n",
       "      <td>6.350</td>\n",
       "      <td>VHI % below 35</td>\n",
       "    </tr>\n",
       "    <tr>\n",
       "      <th>...</th>\n",
       "      <td>...</td>\n",
       "      <td>...</td>\n",
       "      <td>...</td>\n",
       "      <td>...</td>\n",
       "      <td>...</td>\n",
       "      <td>...</td>\n",
       "      <td>...</td>\n",
       "    </tr>\n",
       "    <tr>\n",
       "      <th>175</th>\n",
       "      <td>Cropland</td>\n",
       "      <td>Malawi</td>\n",
       "      <td>65268.0</td>\n",
       "      <td>Area under National Administration</td>\n",
       "      <td>1985</td>\n",
       "      <td>0.000</td>\n",
       "      <td>VHI % below 35</td>\n",
       "    </tr>\n",
       "    <tr>\n",
       "      <th>176</th>\n",
       "      <td>Cropland</td>\n",
       "      <td>Malawi</td>\n",
       "      <td>1888.0</td>\n",
       "      <td>Central Region</td>\n",
       "      <td>1984</td>\n",
       "      <td>0.000</td>\n",
       "      <td>VHI % below 35</td>\n",
       "    </tr>\n",
       "    <tr>\n",
       "      <th>177</th>\n",
       "      <td>Cropland</td>\n",
       "      <td>Malawi</td>\n",
       "      <td>1889.0</td>\n",
       "      <td>Northern Region</td>\n",
       "      <td>1984</td>\n",
       "      <td>0.122</td>\n",
       "      <td>VHI % below 35</td>\n",
       "    </tr>\n",
       "    <tr>\n",
       "      <th>178</th>\n",
       "      <td>Cropland</td>\n",
       "      <td>Malawi</td>\n",
       "      <td>1890.0</td>\n",
       "      <td>Southern Region</td>\n",
       "      <td>1984</td>\n",
       "      <td>0.000</td>\n",
       "      <td>VHI % below 35</td>\n",
       "    </tr>\n",
       "    <tr>\n",
       "      <th>179</th>\n",
       "      <td>Cropland</td>\n",
       "      <td>Malawi</td>\n",
       "      <td>65268.0</td>\n",
       "      <td>Area under National Administration</td>\n",
       "      <td>1984</td>\n",
       "      <td>0.000</td>\n",
       "      <td>VHI % below 35</td>\n",
       "    </tr>\n",
       "  </tbody>\n",
       "</table>\n",
       "<p>180 rows × 7 columns</p>\n",
       "</div>"
      ],
      "text/plain": [
       "    crop_mask country  adm1_code                            province  year  \\\n",
       "0    Cropland  Malawi        NaN                                 ALL  2019   \n",
       "1    Cropland  Malawi        NaN                                 ALL  2018   \n",
       "2    Cropland  Malawi        NaN                                 ALL  2017   \n",
       "3    Cropland  Malawi        NaN                                 ALL  2016   \n",
       "4    Cropland  Malawi        NaN                                 ALL  2015   \n",
       "..        ...     ...        ...                                 ...   ...   \n",
       "175  Cropland  Malawi    65268.0  Area under National Administration  1985   \n",
       "176  Cropland  Malawi     1888.0                      Central Region  1984   \n",
       "177  Cropland  Malawi     1889.0                     Northern Region  1984   \n",
       "178  Cropland  Malawi     1890.0                     Southern Region  1984   \n",
       "179  Cropland  Malawi    65268.0  Area under National Administration  1984   \n",
       "\n",
       "       data             unit  \n",
       "0     5.238  VHI % below 35   \n",
       "1     4.480  VHI % below 35   \n",
       "2     1.301  VHI % below 35   \n",
       "3    18.457  VHI % below 35   \n",
       "4     6.350  VHI % below 35   \n",
       "..      ...              ...  \n",
       "175   0.000  VHI % below 35   \n",
       "176   0.000  VHI % below 35   \n",
       "177   0.122  VHI % below 35   \n",
       "178   0.000  VHI % below 35   \n",
       "179   0.000  VHI % below 35   \n",
       "\n",
       "[180 rows x 7 columns]"
      ]
     },
     "execution_count": 11,
     "metadata": {},
     "output_type": "execute_result"
    }
   ],
   "source": [
    "df"
   ]
  },
  {
   "cell_type": "code",
   "execution_count": 12,
   "metadata": {},
   "outputs": [
    {
     "data": {
      "text/html": [
       "<div>\n",
       "<style scoped>\n",
       "    .dataframe tbody tr th:only-of-type {\n",
       "        vertical-align: middle;\n",
       "    }\n",
       "\n",
       "    .dataframe tbody tr th {\n",
       "        vertical-align: top;\n",
       "    }\n",
       "\n",
       "    .dataframe thead th {\n",
       "        text-align: right;\n",
       "    }\n",
       "</style>\n",
       "<table border=\"1\" class=\"dataframe\">\n",
       "  <thead>\n",
       "    <tr style=\"text-align: right;\">\n",
       "      <th></th>\n",
       "      <th>crop_mask</th>\n",
       "      <th>country</th>\n",
       "      <th>adm1_code</th>\n",
       "      <th>province</th>\n",
       "      <th>year</th>\n",
       "      <th>data</th>\n",
       "      <th>unit</th>\n",
       "    </tr>\n",
       "  </thead>\n",
       "  <tbody>\n",
       "    <tr>\n",
       "      <th>0</th>\n",
       "      <td>Cropland</td>\n",
       "      <td>Malawi</td>\n",
       "      <td>NaN</td>\n",
       "      <td>ALL</td>\n",
       "      <td>2019</td>\n",
       "      <td>5.238</td>\n",
       "      <td>VHI % below 35</td>\n",
       "    </tr>\n",
       "    <tr>\n",
       "      <th>36</th>\n",
       "      <td>Cropland</td>\n",
       "      <td>Malawi</td>\n",
       "      <td>1888.0</td>\n",
       "      <td>Central Region</td>\n",
       "      <td>2019</td>\n",
       "      <td>3.808</td>\n",
       "      <td>VHI % below 35</td>\n",
       "    </tr>\n",
       "    <tr>\n",
       "      <th>37</th>\n",
       "      <td>Cropland</td>\n",
       "      <td>Malawi</td>\n",
       "      <td>1889.0</td>\n",
       "      <td>Northern Region</td>\n",
       "      <td>2019</td>\n",
       "      <td>15.722</td>\n",
       "      <td>VHI % below 35</td>\n",
       "    </tr>\n",
       "    <tr>\n",
       "      <th>38</th>\n",
       "      <td>Cropland</td>\n",
       "      <td>Malawi</td>\n",
       "      <td>1890.0</td>\n",
       "      <td>Southern Region</td>\n",
       "      <td>2019</td>\n",
       "      <td>0.891</td>\n",
       "      <td>VHI % below 35</td>\n",
       "    </tr>\n",
       "    <tr>\n",
       "      <th>39</th>\n",
       "      <td>Cropland</td>\n",
       "      <td>Malawi</td>\n",
       "      <td>65268.0</td>\n",
       "      <td>Area under National Administration</td>\n",
       "      <td>2019</td>\n",
       "      <td>74.490</td>\n",
       "      <td>VHI % below 35</td>\n",
       "    </tr>\n",
       "  </tbody>\n",
       "</table>\n",
       "</div>"
      ],
      "text/plain": [
       "   crop_mask country  adm1_code                            province  year  \\\n",
       "0   Cropland  Malawi        NaN                                 ALL  2019   \n",
       "36  Cropland  Malawi     1888.0                      Central Region  2019   \n",
       "37  Cropland  Malawi     1889.0                     Northern Region  2019   \n",
       "38  Cropland  Malawi     1890.0                     Southern Region  2019   \n",
       "39  Cropland  Malawi    65268.0  Area under National Administration  2019   \n",
       "\n",
       "      data             unit  \n",
       "0    5.238  VHI % below 35   \n",
       "36   3.808  VHI % below 35   \n",
       "37  15.722  VHI % below 35   \n",
       "38   0.891  VHI % below 35   \n",
       "39  74.490  VHI % below 35   "
      ]
     },
     "execution_count": 12,
     "metadata": {},
     "output_type": "execute_result"
    }
   ],
   "source": [
    "df[df.year==2019]"
   ]
  },
  {
   "cell_type": "code",
   "execution_count": 13,
   "metadata": {},
   "outputs": [],
   "source": [
    "df_bound = gpd.read_file(adm1_bound_path)"
   ]
  },
  {
   "cell_type": "code",
   "execution_count": 14,
   "metadata": {},
   "outputs": [
    {
     "data": {
      "text/plain": [
       "array(['ALL', 'Central Region', 'Northern Region', 'Southern Region',\n",
       "       'Area under National Administration'], dtype=object)"
      ]
     },
     "execution_count": 14,
     "metadata": {},
     "output_type": "execute_result"
    }
   ],
   "source": [
    "df.province.unique()"
   ]
  },
  {
   "cell_type": "code",
   "execution_count": 15,
   "metadata": {},
   "outputs": [
    {
     "data": {
      "text/plain": [
       "array(['Central', 'Northern', 'Southern'], dtype=object)"
      ]
     },
     "execution_count": 15,
     "metadata": {},
     "output_type": "execute_result"
    }
   ],
   "source": [
    "df_bound.ADM1_EN.unique()"
   ]
  },
  {
   "cell_type": "code",
   "execution_count": 16,
   "metadata": {},
   "outputs": [],
   "source": [
    "#map ASI adm1 names to shapefile adm1 names\n",
    "province_mapping={\"Central Region\":\"Central\",\"Northern Region\":\"Northern\",\"Southern Region\":\"Southern\"}"
   ]
  },
  {
   "cell_type": "code",
   "execution_count": 17,
   "metadata": {},
   "outputs": [],
   "source": [
    "df[\"province\"]=df[\"province\"].apply(\n",
    "            lambda x: get_new_name(x, province_mapping))"
   ]
  },
  {
   "cell_type": "code",
   "execution_count": 18,
   "metadata": {},
   "outputs": [],
   "source": [
    "dfg=df_bound[[\"ADM1_EN\",\"geometry\"]].merge(df,left_on=\"ADM1_EN\",right_on=\"province\")"
   ]
  },
  {
   "cell_type": "code",
   "execution_count": 19,
   "metadata": {},
   "outputs": [
    {
     "data": {
      "image/png": "[encoded data removed]",
      "text/plain": [
       "<Figure size 2520x720 with 1 Axes>"
      ]
     },
     "metadata": {
      "needs_background": "light"
     },
     "output_type": "display_data"
    }
   ],
   "source": [
    "#distribution of values across the adm1 regions\n",
    "fig, ax = plt.subplots(1, 1,figsize=(35,10))\n",
    "g=sns.boxplot(x=\"province\", y=\"data\",data=dfg, ax=ax)\n",
    "plt.xticks(rotation=90);"
   ]
  },
  {
   "cell_type": "code",
   "execution_count": null,
   "metadata": {},
   "outputs": [],
   "source": [
    "fig=plot_geo_var(dfg.sort_values(\"year\"),\"year\",\"data\",predef_bins=np.arange(0,100,10),colp_num=9,figsize=(20,20))"
   ]
  },
  {
   "cell_type": "markdown",
   "metadata": {},
   "source": [
    "### Per dekad\n",
    "Now only selecting the third dekad, but have to figure a way how we want to connect it with dry spells. Possibly looking at the ASI at the end of a dry spell? Or ASI at the end of a dekad and how many adm2's within an adm1 were experiencing a dry spell during that time?"
   ]
  },
  {
   "cell_type": "code",
   "execution_count": null,
   "metadata": {},
   "outputs": [],
   "source": [
    "dfd=pd.read_csv(os.path.join(country_folder_exploration,\"ASI\",f\"{country}_asi_dekad.csv\"))\n",
    "dfd.columns = map(str.lower, dfd.columns)\n",
    "dfd[\"date\"]=pd.to_datetime(dfd.date)"
   ]
  },
  {
   "cell_type": "code",
   "execution_count": null,
   "metadata": {},
   "outputs": [],
   "source": [
    "dfd[(dfd.year==2019)&(dfd.dekad==3)].head()"
   ]
  },
  {
   "cell_type": "code",
   "execution_count": null,
   "metadata": {},
   "outputs": [],
   "source": [
    "#map ASI adm1 names to shapefile adm1 names\n",
    "province_mapping={\"Central Region\":\"Central\",\"Northern Region\":\"Northern\",\"Southern Region\":\"Southern\"}\n",
    "dfd[\"province\"]=dfd[\"province\"].apply(\n",
    "            lambda x: get_new_name(x, province_mapping))"
   ]
  },
  {
   "cell_type": "code",
   "execution_count": null,
   "metadata": {},
   "outputs": [],
   "source": [
    "dfdg=df_bound[[\"ADM1_EN\",\"geometry\"]].merge(dfd,left_on=\"ADM1_EN\",right_on=\"province\")"
   ]
  },
  {
   "cell_type": "code",
   "execution_count": null,
   "metadata": {},
   "outputs": [],
   "source": [
    "#distribution of values across the adm1 regions\n",
    "fig, ax = plt.subplots(1, 1,figsize=(35,10))\n",
    "g=sns.boxplot(x=\"province\", y=\"data\",data=dfdg, ax=ax)\n",
    "plt.xticks(rotation=90);"
   ]
  }
 ],
 "metadata": {
  "kernelspec": {
   "display_name": "antact",
   "language": "python",
   "name": "antact"
  },
  "language_info": {
   "codemirror_mode": {
    "name": "ipython",
    "version": 3
   },
   "file_extension": ".py",
   "mimetype": "text/x-python",
   "name": "python",
   "nbconvert_exporter": "python",
   "pygments_lexer": "ipython3",
   "version": "3.8.5"
  }
 },
 "nbformat": 4,
 "nbformat_minor": 4
}
