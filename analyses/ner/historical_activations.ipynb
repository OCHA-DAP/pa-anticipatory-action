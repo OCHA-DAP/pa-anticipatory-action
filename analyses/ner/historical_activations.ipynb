{
 "cells": [
  {
   "cell_type": "code",
   "execution_count": null,
   "id": "73634489-af3e-4b34-b97d-7ff89a2b632c",
   "metadata": {},
   "outputs": [],
   "source": []
  }
 ],
 "metadata": {
  "kernelspec": {
   "display_name": "GlobalTropicalCycloneModel",
   "language": "python",
   "name": "globaltropicalcyclonemodel"
  },
  "language_info": {
   "codemirror_mode": {
    "name": "ipython",
    "version": 3
   },
   "file_extension": ".py",
   "mimetype": "text/x-python",
   "name": "python",
   "nbconvert_exporter": "python",
   "pygments_lexer": "ipython3",
   "version": "3.11.4"
  }
 },
 "nbformat": 4,
 "nbformat_minor": 5
}
