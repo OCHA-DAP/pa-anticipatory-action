{
 "cells": [
  {
   "cell_type": "code",
   "execution_count": 70,
   "metadata": {},
   "outputs": [],
   "source": [
    "from datetime import datetime\n",
    "import matplotlib.pyplot as plt\n",
    "import geopandas as gpd\n",
    "import numpy as np\n",
    "import pandas as pd\n",
    "import xarray as xr\n",
    "import rioxarray as rio\n",
    "import os\n",
    "from pathlib import Path\n",
    "import sys\n",
    "from datetime import timedelta\n",
    "\n",
    "path_mod = f\"{Path(os.path.dirname(os.path.abspath(''))).parents[2]}/\"\n",
    "sys.path.append(path_mod)\n",
    "\n",
    "from src.indicators.flooding.config import Config\n",
    "from src.indicators.flooding.floodscan import floodscan\n",
    "from src.indicators.flooding.glofas import utils\n",
    "\n",
    "config = Config()\n",
    "mpl.rcParams['figure.dpi'] = 300\n",
    "\n",
    "PLOT_DIR = config.DATA_DIR / 'processed' / 'mwi' / 'plots' / 'flooding'\n",
    "PRIVATE_DIR = config.DATA_PRIVATE_DIR\n",
    "EXPLORE_DIR = PRIVATE_DIR / 'exploration' / 'mwi' / 'flooding'"
   ]
  },
  {
   "cell_type": "code",
   "execution_count": 45,
   "metadata": {},
   "outputs": [],
   "source": [
    "mwi_shp = gpd.read_file(\n",
    "    config.DATA_DIR / \n",
    "    'raw' / \n",
    "    'mwi' / \n",
    "    'cod_ab' / \n",
    "    'mwi_adm_nso_20181016_shp' / \n",
    "    'mwi_admbnda_adm2_nso_20181016.shp'\n",
    ")\n",
    "mwi_shp_sel = mwi_shp.loc[mwi_shp['ADM2_EN'].isin(['Chikwawa', 'Nsanje'])]"
   ]
  },
  {
   "cell_type": "markdown",
   "metadata": {},
   "source": [
    "Create dataset of Glofas points that we're using."
   ]
  },
  {
   "cell_type": "code",
   "execution_count": 32,
   "metadata": {},
   "outputs": [],
   "source": [
    "# Coordinates pulled from GloFAS site _lis is for the LISFLOOD coords\n",
    "glofas_points = pd.DataFrame(\n",
    "    {'Station_ID': ['G2001', 'G1724'],\n",
    "     'Lat': [-16.25, -16.52],\n",
    "     'Lon': [34.97, 35.15],\n",
    "     'Lat_lis' : [-16.25, -16.45],\n",
    "     'Lon_lis': [34.95, 35.05]\n",
    "    })\n",
    "\n",
    "glofas_points = gpd.GeoDataFrame(\n",
    "    glofas_points, geometry=gpd.points_from_xy(glofas_points.Lon_lis, glofas_points.Lat_lis))"
   ]
  },
  {
   "cell_type": "markdown",
   "metadata": {},
   "source": [
    "For plotting Floodscan data, let's get the dates where GloFAS exceeds a 1 in 2 year return period threshold. We'll focus specifcally in the northernmost GloFAS station, G2001. "
   ]
  },
  {
   "cell_type": "code",
   "execution_count": 138,
   "metadata": {},
   "outputs": [],
   "source": [
    "rp = 2\n",
    "duration = 1\n",
    "station = 'G2001'\n",
    "\n",
    "ds_glofas_reanalysis = utils.get_glofas_reanalysis(\n",
    "    country_iso3='mwi')\n",
    "df_return_period = utils.get_return_periods(ds_glofas_reanalysis, method='analytical')\n",
    "rp_val = df_return_period.loc[rp, station]\n",
    "\n",
    "glofas_events = utils.get_dates_list_from_data_array(\n",
    "            da=ds_glofas_reanalysis[station], \n",
    "            threshold=rp_val,\n",
    "            min_duration=duration\n",
    "        )\n",
    "glofas_events = np.array(glofas_events)[glofas_events > fs_raw.time.min().values]"
   ]
  },
  {
   "cell_type": "markdown",
   "metadata": {},
   "source": [
    "Clean up the Floodscan data"
   ]
  },
  {
   "cell_type": "code",
   "execution_count": 134,
   "metadata": {},
   "outputs": [],
   "source": [
    "fs = floodscan.Floodscan()\n",
    "fs_raw = fs.read_raw_dataset()\n",
    "\n",
    "# Manually define a clipping bounding box for the raster data\n",
    "clip_geometry = [\n",
    "    {\n",
    "        'type': 'Polygon',\n",
    "        'coordinates': [\n",
    "            [[34.1011082082,-17.12960312],\n",
    "             [35.4722024947,-17.12960312],\n",
    "             [35.4722024947,-15.7014191359],\n",
    "             [34.1011082082,-15.7014191359],\n",
    "             [34.1011082082,-17.12960312]\n",
    "            ]]\n",
    "    }\n",
    "]"
   ]
  },
  {
   "cell_type": "code",
   "execution_count": 139,
   "metadata": {},
   "outputs": [],
   "source": [
    "for event in glofas_events: \n",
    "    t_start = event\n",
    "    t_end = event + np.timedelta64(9, 'D')\n",
    "\n",
    "    ds_sel = (\n",
    "        fs_raw\n",
    "        .sel(time=slice(t_start, t_end))[['SFED_AREA']]\n",
    "        .to_array()\n",
    "        .rio.write_crs(\"EPSG:4326\")\n",
    "        .rio.set_spatial_dims(x_dim=\"lon\", y_dim=\"lat\")\n",
    "        .rio.clip(clip_geometry)\n",
    "    )\n",
    "\n",
    "    p = ds_sel.plot(col=\"time\", col_wrap=5, vmin=0, vmax=1)\n",
    "    \n",
    "    for ax in p.axes.flat:\n",
    "        mwi_shp_sel.boundary.plot(ax=ax)\n",
    "        glofas_points.plot(ax=ax, color='red')\n",
    "\n",
    "    t = pd.to_datetime(str(event))\n",
    "    date = t.strftime('%Y-%m-%d')\n",
    "    plt.savefig(PLOT_DIR / f'floodscan__{station}_{date}.png')\n",
    "    plt.close()"
   ]
  },
  {
   "cell_type": "markdown",
   "metadata": {},
   "source": [
    "Looking through these plots, we want to try and find Floodscan-derived indicators that would logically be indicative of significant flooding and would be correlated with Glofas streamflow peaks at the return period that we've specified. Some potentially valuable Floodscan indicators to explore might be...\n",
    "\n",
    "- % of cells w flooded fraction > 20% --> aggregated across both Chikwawa and Nsanje\n",
    "\n",
    "ALSO, what if we're thinking about streamflow wrong... what if it isn't necessarily a peak in a single day that causes flooding, but a more sustained and less extreme increase in streamflow over x days?"
   ]
  }
 ],
 "metadata": {
  "kernelspec": {
   "display_name": "Python [conda env:anact] *",
   "language": "python",
   "name": "conda-env-anact-py"
  },
  "language_info": {
   "codemirror_mode": {
    "name": "ipython",
    "version": 3
   },
   "file_extension": ".py",
   "mimetype": "text/x-python",
   "name": "python",
   "nbconvert_exporter": "python",
   "pygments_lexer": "ipython3",
   "version": "3.8.5"
  }
 },
 "nbformat": 4,
 "nbformat_minor": 4
}
