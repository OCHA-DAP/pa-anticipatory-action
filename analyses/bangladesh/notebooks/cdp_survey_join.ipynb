{
 "cells": [
  {
   "cell_type": "code",
   "execution_count": 1,
   "metadata": {},
   "outputs": [],
   "source": [
    "import geopandas as gpd\n",
    "import pandas as pd\n",
    "import os\n",
    "import matplotlib.pyplot as plt\n",
    "plt.style.use('seaborn')"
   ]
  },
  {
   "cell_type": "code",
   "execution_count": 3,
   "metadata": {},
   "outputs": [],
   "source": [
    "gdf_adm = gpd.read_file('../data/ADM_Shp/selected_distict_mauza.shp').to_crs('EPSG:4326')\n",
    "df_summary = pd.read_csv('../data/FE_Results/MAUZ_flood_summary_QA.csv')\n",
    "df_survey = pd.read_csv('../data/CDP_Survey/household_locations_impactevaluation_matched_floodlevel_exposure.csv')\n",
    "df_ts_sent = pd.read_csv('../data/FE_Results/MAUZ_flood_extent_sentinel.csv')\n",
    "df_ts_interp = pd.read_csv('../data/FE_Results/MAUZ_flood_extent_interpolated.csv')"
   ]
  },
  {
   "cell_type": "markdown",
   "metadata": {},
   "source": [
    "We'll subset the results to just the mauzas that have survey data."
   ]
  },
  {
   "cell_type": "code",
   "execution_count": 10,
   "metadata": {},
   "outputs": [],
   "source": [
    "survey_mauz = set(df_survey['OBJECTID'])\n",
    "df_summary_survey = df_summary[df_summary['PCODE'].isin(survey_mauz)]\n",
    "assert len(df_summary_survey.index)==len(survey_mauz)"
   ]
  },
  {
   "cell_type": "markdown",
   "metadata": {},
   "source": [
    "Let's also subset both of the time series datasets by the mauzas in the survey."
   ]
  },
  {
   "cell_type": "code",
   "execution_count": 11,
   "metadata": {},
   "outputs": [],
   "source": [
    "df_ts_sent_survey = df_ts_sent[df_ts_sent['MAUZ_PCODE'].isin(survey_mauz)]\n",
    "assert len(set(df_ts_sent_survey.MAUZ_PCODE)) == len(survey_mauz)\n",
    "df_ts_sent_survey.to_csv('../../data/FE_Results/MAUZ_flood_extent_sentinel_survey.csv', index=False)\n",
    "\n",
    "df_ts_interp_survey = df_ts_interp[df_ts_interp['PCODE'].isin(survey_mauz)]\n",
    "assert len(set(df_ts_interp_survey.PCODE)) == len(survey_mauz)\n",
    "df_ts_interp_survey.to_csv('../../data/FE_Results/MAUZ_flood_extent_interpolated_survey.csv', index=False)"
   ]
  },
  {
   "cell_type": "markdown",
   "metadata": {},
   "source": [
    "Let's count the number of mauzas that have problems with the Gaussian fitting."
   ]
  },
  {
   "cell_type": "code",
   "execution_count": 12,
   "metadata": {},
   "outputs": [
    {
     "output_type": "stream",
     "name": "stdout",
     "text": [
      "7\n0\n0\n1\n1\n"
     ]
    }
   ],
   "source": [
    "print(df_summary_survey.NO_FIT.sum())\n",
    "print(df_summary_survey.OOR.sum())\n",
    "print(df_summary_survey.NEG.sum())\n",
    "print(df_summary_survey.RIVER.sum())\n",
    "print(df_summary_survey.FWHM_ERR.sum())"
   ]
  },
  {
   "cell_type": "markdown",
   "metadata": {},
   "source": [
    "Let's calculate the centroid of each mauza and join this in with the survey data."
   ]
  },
  {
   "cell_type": "code",
   "execution_count": 13,
   "metadata": {},
   "outputs": [],
   "source": [
    "gdf_adm = gdf_adm.to_crs('EPSG:32646')\n",
    "gdf_adm['centroid'] = gdf_adm.centroid\n",
    "gdf_adm = gdf_adm.set_geometry('centroid')\n",
    "gdf_adm = gdf_adm.to_crs('EPSG:4326')\n",
    "gdf_adm['LAT'] = gdf_adm['centroid'].y\n",
    "gdf_adm['LON'] = gdf_adm['centroid'].x\n",
    "df_summary_survey = df_summary_survey.merge(gdf_adm[['OBJECTID', 'LAT', 'LON']], left_on='PCODE', right_on='OBJECTID', how='left')\n",
    "df_summary_survey = df_summary_survey.drop(columns=['OBJECTID'])"
   ]
  },
  {
   "cell_type": "code",
   "execution_count": 14,
   "metadata": {},
   "outputs": [
    {
     "output_type": "execute_result",
     "data": {
      "text/plain": [
       "        COV  DIFF_SAT  FWHM  MAX_SAT  PCODE      PEAK_G    PEAK_SAT      RMSE  \\\n",
       "0  1.629472       7.0  25.0   0.1145  425.0  2020-07-14  2020-07-21  0.017392   \n",
       "1  3.687077       0.0  27.0   0.0653  489.0  2020-07-21  2020-07-21  0.016414   \n",
       "2  2.896798       2.0  33.0   0.1253  533.0  2020-07-19  2020-07-21  0.023903   \n",
       "3  2.047370       1.0  23.0   0.0698  546.0  2020-07-26  2020-07-27  0.011198   \n",
       "4  2.294267       3.0  31.0   0.1427  605.0  2020-07-18  2020-07-21  0.026578   \n",
       "\n",
       "      MAX_G  NO_FIT    OOR    NEG  RIVER  FWHM_ERR        LAT        LON  \n",
       "0  0.088176   False  False  False  False     False  26.214270  89.655010  \n",
       "1  0.041429   False  False  False  False     False  26.195581  89.657720  \n",
       "2  0.085048   False  False  False  False     False  26.181015  89.680440  \n",
       "3  0.042605   False  False  False  False     False  26.185698  89.640361  \n",
       "4  0.114291   False  False  False  False     False  26.171229  89.666350  "
      ],
      "text/html": "<div>\n<style scoped>\n    .dataframe tbody tr th:only-of-type {\n        vertical-align: middle;\n    }\n\n    .dataframe tbody tr th {\n        vertical-align: top;\n    }\n\n    .dataframe thead th {\n        text-align: right;\n    }\n</style>\n<table border=\"1\" class=\"dataframe\">\n  <thead>\n    <tr style=\"text-align: right;\">\n      <th></th>\n      <th>COV</th>\n      <th>DIFF_SAT</th>\n      <th>FWHM</th>\n      <th>MAX_SAT</th>\n      <th>PCODE</th>\n      <th>PEAK_G</th>\n      <th>PEAK_SAT</th>\n      <th>RMSE</th>\n      <th>MAX_G</th>\n      <th>NO_FIT</th>\n      <th>OOR</th>\n      <th>NEG</th>\n      <th>RIVER</th>\n      <th>FWHM_ERR</th>\n      <th>LAT</th>\n      <th>LON</th>\n    </tr>\n  </thead>\n  <tbody>\n    <tr>\n      <th>0</th>\n      <td>1.629472</td>\n      <td>7.0</td>\n      <td>25.0</td>\n      <td>0.1145</td>\n      <td>425.0</td>\n      <td>2020-07-14</td>\n      <td>2020-07-21</td>\n      <td>0.017392</td>\n      <td>0.088176</td>\n      <td>False</td>\n      <td>False</td>\n      <td>False</td>\n      <td>False</td>\n      <td>False</td>\n      <td>26.214270</td>\n      <td>89.655010</td>\n    </tr>\n    <tr>\n      <th>1</th>\n      <td>3.687077</td>\n      <td>0.0</td>\n      <td>27.0</td>\n      <td>0.0653</td>\n      <td>489.0</td>\n      <td>2020-07-21</td>\n      <td>2020-07-21</td>\n      <td>0.016414</td>\n      <td>0.041429</td>\n      <td>False</td>\n      <td>False</td>\n      <td>False</td>\n      <td>False</td>\n      <td>False</td>\n      <td>26.195581</td>\n      <td>89.657720</td>\n    </tr>\n    <tr>\n      <th>2</th>\n      <td>2.896798</td>\n      <td>2.0</td>\n      <td>33.0</td>\n      <td>0.1253</td>\n      <td>533.0</td>\n      <td>2020-07-19</td>\n      <td>2020-07-21</td>\n      <td>0.023903</td>\n      <td>0.085048</td>\n      <td>False</td>\n      <td>False</td>\n      <td>False</td>\n      <td>False</td>\n      <td>False</td>\n      <td>26.181015</td>\n      <td>89.680440</td>\n    </tr>\n    <tr>\n      <th>3</th>\n      <td>2.047370</td>\n      <td>1.0</td>\n      <td>23.0</td>\n      <td>0.0698</td>\n      <td>546.0</td>\n      <td>2020-07-26</td>\n      <td>2020-07-27</td>\n      <td>0.011198</td>\n      <td>0.042605</td>\n      <td>False</td>\n      <td>False</td>\n      <td>False</td>\n      <td>False</td>\n      <td>False</td>\n      <td>26.185698</td>\n      <td>89.640361</td>\n    </tr>\n    <tr>\n      <th>4</th>\n      <td>2.294267</td>\n      <td>3.0</td>\n      <td>31.0</td>\n      <td>0.1427</td>\n      <td>605.0</td>\n      <td>2020-07-18</td>\n      <td>2020-07-21</td>\n      <td>0.026578</td>\n      <td>0.114291</td>\n      <td>False</td>\n      <td>False</td>\n      <td>False</td>\n      <td>False</td>\n      <td>False</td>\n      <td>26.171229</td>\n      <td>89.666350</td>\n    </tr>\n  </tbody>\n</table>\n</div>"
     },
     "metadata": {},
     "execution_count": 14
    }
   ],
   "source": [
    "df_summary_survey.head(5)"
   ]
  },
  {
   "cell_type": "code",
   "execution_count": 15,
   "metadata": {},
   "outputs": [],
   "source": [
    "df_summary_survey.to_csv('../../data/FE_Results/MAUZ_flood_summary_QA_survey.csv', index=False)"
   ]
  }
 ],
 "metadata": {
  "kernelspec": {
   "display_name": "bang_floods",
   "language": "python",
   "name": "bang_floods"
  },
  "language_info": {
   "codemirror_mode": {
    "name": "ipython",
    "version": 3
   },
   "file_extension": ".py",
   "mimetype": "text/x-python",
   "name": "python",
   "nbconvert_exporter": "python",
   "pygments_lexer": "ipython3",
   "version": "3.8.5-final"
  }
 },
 "nbformat": 4,
 "nbformat_minor": 4
}