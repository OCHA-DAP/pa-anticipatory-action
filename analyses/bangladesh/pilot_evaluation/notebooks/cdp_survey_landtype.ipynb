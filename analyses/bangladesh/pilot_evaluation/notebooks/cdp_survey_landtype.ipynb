{
 "cells": [
  {
   "cell_type": "markdown",
   "metadata": {},
   "source": [
    "This notebook assigns a land type (protected, embankment, char, etc.) to each mauza and then matches it against the responses in survey data. We also identify mauzas that are covered by multiple land types. We assign mauzas based on the land type that covers the majority of the mauza. "
   ]
  },
  {
   "cell_type": "code",
   "execution_count": null,
   "metadata": {},
   "outputs": [],
   "source": [
    "import geopandas as gpd\n",
    "import pandas as pd\n",
    "import os\n",
    "import matplotlib.pyplot as plt"
   ]
  },
  {
   "cell_type": "code",
   "execution_count": null,
   "metadata": {},
   "outputs": [],
   "source": [
    "data_dir = os.environ['AA_DATA_DIR']\n",
    "in_fname = os.path.join(data_dir, 'exploration', 'bangladesh', 'CDP_Survey', 'secondround_locations_matched.csv')\n",
    "out_fname = os.path.join(data_dir, 'exploration', 'bangladesh', 'CDP_Survey', 'secondround_locations_landtype.csv')\n",
    "\n",
    "df_srv = pd.read_csv(in_fname)\n",
    "gdf_mauz = gpd.read_file(os.path.join(data_dir, 'exploration', 'bangladesh', 'ADM_Shp', 'selected_distict_mauza.shp')).to_crs('EPSG:32646')\n",
    "gdf_land = gpd.read_file(os.path.join(data_dir, 'exploration', 'bangladesh', 'Embankment', 'BGD_Landtypes_Eroded.shp')).to_crs('EPSG:32646')"
   ]
  },
  {
   "cell_type": "markdown",
   "metadata": {},
   "source": [
    "To simplify the processing we'll dissolve the shapefile of land types so that each land type is a single multi-polygon."
   ]
  },
  {
   "cell_type": "code",
   "execution_count": null,
   "metadata": {
    "scrolled": true
   },
   "outputs": [],
   "source": [
    "gdf_land = gdf_land.dissolve(by='Exposure').reset_index()\n",
    "print(len(gdf_land.index)==5) # Check that the number of elements in the gdf matches the number of land types"
   ]
  },
  {
   "cell_type": "markdown",
   "metadata": {},
   "source": [
    "Let's also only get the subset of mauzas that are included in the survey data."
   ]
  },
  {
   "cell_type": "code",
   "execution_count": null,
   "metadata": {},
   "outputs": [],
   "source": [
    "mauz_srv = df_srv.shp_id.unique()\n",
    "gdf_mauz_srv = gdf_mauz[gdf_mauz['OBJECTID'].isin(mauz_srv)]\n",
    "print(len(gdf_mauz_srv.index) == len(mauz_srv)) # Check that we have the same number of mauzas"
   ]
  },
  {
   "cell_type": "markdown",
   "metadata": {},
   "source": [
    "For each mauza with survey data, we'll overlay against the land type layer to get the area of the mauza covered by each land type. For mauzas covered by multiple land types, we'll keep only the type with the greatest area."
   ]
  },
  {
   "cell_type": "code",
   "execution_count": null,
   "metadata": {},
   "outputs": [],
   "source": [
    "gdf_merged = gpd.overlay(gdf_mauz_srv, gdf_land, how='intersection')\n",
    "gdf_merged['area'] = gdf_merged.geometry.area\n",
    "\n",
    "# Get the number of land types for each mauza\n",
    "df_types = gdf_merged.groupby('OBJECTID').count()['AREA_1'].reset_index().rename(columns={'AREA_1': 'num_types'})\n",
    "\n",
    "# Get the dominant type for each mauza\n",
    "gdf_merged = gdf_merged.sort_values('area').drop_duplicates('OBJECTID', keep='last')\n",
    "\n",
    "# Merges to get the right geometry and columns of interst\n",
    "gdf_output = gdf_merged.merge(df_types, on='OBJECTID') # Get the types\n",
    "gdf_output = gdf_mauz_srv.merge(gdf_output[['OBJECTID', 'Exposure', 'num_types']], on='OBJECTID') # Get the right geometry\n",
    "df_output = df_srv.merge(gdf_output[['OBJECTID', 'Exposure', 'num_types']], left_on='shp_id', right_on='OBJECTID', how='left') # Get each of the survey responses\n",
    "\n",
    "\n",
    "# Check that we still have the right number of mauzas\n",
    "print(len(gdf_output) == len(mauz_srv))\n",
    "print(len(df_output) == len(df_srv))\n",
    "\n",
    "df_output.drop(df_output.columns[0],axis=1, inplace=True)\n",
    "df_output.to_csv(out_fname)"
   ]
  },
  {
   "cell_type": "code",
   "execution_count": null,
   "metadata": {},
   "outputs": [],
   "source": [
    "# What is the original land type?\n",
    "fig, ax = plt.subplots(1, figsize=(10,15))\n",
    "gdf_land.plot(column='Exposure', legend=True, ax=ax)\n",
    "gdf_mauz_srv.boundary.plot(ax=ax, edgecolor=\"black\", linewidth=0.4)"
   ]
  },
  {
   "cell_type": "code",
   "execution_count": null,
   "metadata": {},
   "outputs": [],
   "source": [
    "# What is the dominant land type for each mauza?\n",
    "fig, ax = plt.subplots(1, figsize=(10,15))\n",
    "gdf_output.plot(column='Exposure', legend=True, ax=ax)"
   ]
  },
  {
   "cell_type": "code",
   "execution_count": null,
   "metadata": {},
   "outputs": [],
   "source": [
    "# Where are there mauzas with multiple land types?\n",
    "fig, ax = plt.subplots(1, figsize=(10,15))\n",
    "gdf_output.plot(column='num_types', legend=True, ax=ax)"
   ]
  }
 ],
 "metadata": {
  "kernelspec": {
   "display_name": "bang_floods",
   "language": "python",
   "name": "bang_floods"
  },
  "language_info": {
   "codemirror_mode": {
    "name": "ipython",
    "version": 3
   },
   "file_extension": ".py",
   "mimetype": "text/x-python",
   "name": "python",
   "nbconvert_exporter": "python",
   "pygments_lexer": "ipython3",
   "version": "3.8.5"
  }
 },
 "nbformat": 4,
 "nbformat_minor": 4
}
